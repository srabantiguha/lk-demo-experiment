{
 "cells": [
  {
   "cell_type": "markdown",
   "id": "ff2d2f90",
   "metadata": {
    "papermill": {
     "duration": 0.046843,
     "end_time": "2022-01-07T18:52:42.750701",
     "exception": false,
     "start_time": "2022-01-07T18:52:42.703858",
     "status": "completed"
    },
    "tags": []
   },
   "source": [
    "# Evaluation Analysis for Recommender Output"
   ]
  },
  {
   "cell_type": "markdown",
   "id": "6fcc3b9a",
   "metadata": {
    "papermill": {
     "duration": 0.062495,
     "end_time": "2022-01-07T18:52:42.844444",
     "exception": false,
     "start_time": "2022-01-07T18:52:42.781949",
     "status": "completed"
    },
    "tags": []
   },
   "source": [
    "In this section we will analyze and compare the generated recommendations and predictions from a predefined list of algorithms with the goal of assessing the performance of each algorithm with respect to a metric. In other words, we would rank the algorithms for each metric considered with respect to performance."
   ]
  },
  {
   "cell_type": "markdown",
   "id": "142490b0",
   "metadata": {
    "papermill": {
     "duration": 0.031249,
     "end_time": "2022-01-07T18:52:42.906941",
     "exception": false,
     "start_time": "2022-01-07T18:52:42.875692",
     "status": "completed"
    },
    "tags": []
   },
   "source": [
    "# Setup"
   ]
  },
  {
   "cell_type": "markdown",
   "id": "81647420",
   "metadata": {
    "papermill": {
     "duration": 0.046845,
     "end_time": "2022-01-07T18:52:43.000658",
     "exception": false,
     "start_time": "2022-01-07T18:52:42.953813",
     "status": "completed"
    },
    "tags": []
   },
   "source": [
    "Below are the list of packages required to successfully run the analysis. They are divided into partitions to signify their specific task.<br>\n",
    "We need the pathlib package for working with files and folders"
   ]
  },
  {
   "cell_type": "code",
   "execution_count": 1,
   "id": "14b6ca1c",
   "metadata": {
    "execution": {
     "iopub.execute_input": "2022-01-07T18:52:43.094401Z",
     "iopub.status.busy": "2022-01-07T18:52:43.094401Z",
     "iopub.status.idle": "2022-01-07T18:52:43.110026Z",
     "shell.execute_reply": "2022-01-07T18:52:43.110026Z"
    },
    "papermill": {
     "duration": 0.07812,
     "end_time": "2022-01-07T18:52:43.110026",
     "exception": false,
     "start_time": "2022-01-07T18:52:43.031906",
     "status": "completed"
    },
    "tags": []
   },
   "outputs": [],
   "source": [
    "from pathlib import Path"
   ]
  },
  {
   "cell_type": "markdown",
   "id": "d10cb10c",
   "metadata": {
    "papermill": {
     "duration": 0.062494,
     "end_time": "2022-01-07T18:52:43.235042",
     "exception": false,
     "start_time": "2022-01-07T18:52:43.172548",
     "status": "completed"
    },
    "tags": []
   },
   "source": [
    "We would use the pandas for analyzing and manipulating our data while seaborn and matplotlib are used for data visualization. statsmodels.graphics.gofplots and scipy.stats.shapiro are used for normality check. Scipy.stats.friedmanchisquare is a non-parametric test used to determine the statistical significance in metric results and the wilcoxon test is used for pairwise comparison of sample data."
   ]
  },
  {
   "cell_type": "code",
   "execution_count": 2,
   "id": "d8a98897",
   "metadata": {
    "execution": {
     "iopub.execute_input": "2022-01-07T18:52:43.313137Z",
     "iopub.status.busy": "2022-01-07T18:52:43.313137Z",
     "iopub.status.idle": "2022-01-07T18:52:45.673652Z",
     "shell.execute_reply": "2022-01-07T18:52:45.673652Z"
    },
    "papermill": {
     "duration": 2.407362,
     "end_time": "2022-01-07T18:52:45.673652",
     "exception": false,
     "start_time": "2022-01-07T18:52:43.266290",
     "status": "completed"
    },
    "tags": []
   },
   "outputs": [],
   "source": [
    "import pandas as pd\n",
    "import seaborn as sns\n",
    "import matplotlib.pyplot as plt\n",
    "from statsmodels.graphics.gofplots import qqplot\n",
    "from scipy.stats import shapiro\n",
    "from scipy.stats import friedmanchisquare, wilcoxon\n",
    "from itertools import combinations"
   ]
  },
  {
   "cell_type": "markdown",
   "id": "3e223eec",
   "metadata": {
    "papermill": {
     "duration": 0.046872,
     "end_time": "2022-01-07T18:52:45.751761",
     "exception": false,
     "start_time": "2022-01-07T18:52:45.704889",
     "status": "completed"
    },
    "tags": []
   },
   "source": [
    "Logging to show what's happening in LensKit routines:"
   ]
  },
  {
   "cell_type": "code",
   "execution_count": 3,
   "id": "608f8852",
   "metadata": {
    "execution": {
     "iopub.execute_input": "2022-01-07T18:52:45.829882Z",
     "iopub.status.busy": "2022-01-07T18:52:45.829882Z",
     "iopub.status.idle": "2022-01-07T18:52:45.892378Z",
     "shell.execute_reply": "2022-01-07T18:52:45.892378Z"
    },
    "papermill": {
     "duration": 0.109369,
     "end_time": "2022-01-07T18:52:45.892378",
     "exception": false,
     "start_time": "2022-01-07T18:52:45.783009",
     "status": "completed"
    },
    "tags": []
   },
   "outputs": [
    {
     "name": "stdout",
     "output_type": "stream",
     "text": [
      "[   INFO] lenskit.util.log notebook logging configured\n"
     ]
    }
   ],
   "source": [
    "from lenskit import util\n",
    "util.log_to_notebook()"
   ]
  },
  {
   "cell_type": "markdown",
   "id": "a296ebc4",
   "metadata": {
    "papermill": {
     "duration": 0.062497,
     "end_time": "2022-01-07T18:52:46.001728",
     "exception": false,
     "start_time": "2022-01-07T18:52:45.939231",
     "status": "completed"
    },
    "tags": []
   },
   "source": [
    "We will use lenskit for training, running, and evaluating recommender algorithms"
   ]
  },
  {
   "cell_type": "code",
   "execution_count": 4,
   "id": "36d7aabb",
   "metadata": {
    "execution": {
     "iopub.execute_input": "2022-01-07T18:52:46.079872Z",
     "iopub.status.busy": "2022-01-07T18:52:46.079872Z",
     "iopub.status.idle": "2022-01-07T18:52:46.095496Z",
     "shell.execute_reply": "2022-01-07T18:52:46.095496Z"
    },
    "papermill": {
     "duration": 0.062495,
     "end_time": "2022-01-07T18:52:46.095496",
     "exception": false,
     "start_time": "2022-01-07T18:52:46.033001",
     "status": "completed"
    },
    "tags": []
   },
   "outputs": [],
   "source": [
    "from lenskit import topn\n",
    "from lenskit.metrics.predict import rmse"
   ]
  },
  {
   "cell_type": "markdown",
   "id": "b5f1bc60",
   "metadata": {
    "papermill": {
     "duration": 0.062521,
     "end_time": "2022-01-07T18:52:46.204863",
     "exception": false,
     "start_time": "2022-01-07T18:52:46.142342",
     "status": "completed"
    },
    "tags": []
   },
   "source": [
    "# Load Data"
   ]
  },
  {
   "cell_type": "markdown",
   "id": "3527c7c7",
   "metadata": {
    "papermill": {
     "duration": 0.031248,
     "end_time": "2022-01-07T18:52:46.267359",
     "exception": false,
     "start_time": "2022-01-07T18:52:46.236111",
     "status": "completed"
    },
    "tags": []
   },
   "source": [
    "We specify the dataset we will use for our analysis and the main directory from where we read the recommendation and prediction files. From the main directory we find all the directories associated with the dataset and then read the recommendation and predictions files from those directories."
   ]
  },
  {
   "cell_type": "code",
   "execution_count": 5,
   "id": "b3d542a4",
   "metadata": {
    "execution": {
     "iopub.execute_input": "2022-01-07T18:52:46.345480Z",
     "iopub.status.busy": "2022-01-07T18:52:46.345480Z",
     "iopub.status.idle": "2022-01-07T18:52:46.361102Z",
     "shell.execute_reply": "2022-01-07T18:52:46.361102Z"
    },
    "papermill": {
     "duration": 0.046871,
     "end_time": "2022-01-07T18:52:46.361102",
     "exception": false,
     "start_time": "2022-01-07T18:52:46.314231",
     "status": "completed"
    },
    "tags": [
     "parameters"
    ]
   },
   "outputs": [],
   "source": [
    "dataset = \"ml10m\""
   ]
  },
  {
   "cell_type": "code",
   "execution_count": 6,
   "id": "be6381a4",
   "metadata": {
    "execution": {
     "iopub.execute_input": "2022-01-07T18:52:46.486070Z",
     "iopub.status.busy": "2022-01-07T18:52:46.486070Z",
     "iopub.status.idle": "2022-01-07T18:52:46.501711Z",
     "shell.execute_reply": "2022-01-07T18:52:46.501711Z"
    },
    "papermill": {
     "duration": 0.078112,
     "end_time": "2022-01-07T18:52:46.501711",
     "exception": false,
     "start_time": "2022-01-07T18:52:46.423599",
     "status": "completed"
    },
    "tags": [
     "injected-parameters"
    ]
   },
   "outputs": [],
   "source": [
    "# Parameters\n",
    "dataset = \"mlsmall\"\n"
   ]
  },
  {
   "cell_type": "code",
   "execution_count": 7,
   "id": "878a0eba",
   "metadata": {
    "execution": {
     "iopub.execute_input": "2022-01-07T18:52:46.579813Z",
     "iopub.status.busy": "2022-01-07T18:52:46.579813Z",
     "iopub.status.idle": "2022-01-07T18:52:46.595454Z",
     "shell.execute_reply": "2022-01-07T18:52:46.595454Z"
    },
    "papermill": {
     "duration": 0.062497,
     "end_time": "2022-01-07T18:52:46.595454",
     "exception": false,
     "start_time": "2022-01-07T18:52:46.532957",
     "status": "completed"
    },
    "tags": []
   },
   "outputs": [],
   "source": [
    "output_root = Path(\"runs\")"
   ]
  },
  {
   "cell_type": "code",
   "execution_count": 8,
   "id": "bb9c5b51",
   "metadata": {
    "execution": {
     "iopub.execute_input": "2022-01-07T18:52:46.673556Z",
     "iopub.status.busy": "2022-01-07T18:52:46.673556Z",
     "iopub.status.idle": "2022-01-07T18:52:46.689180Z",
     "shell.execute_reply": "2022-01-07T18:52:46.689180Z"
    },
    "papermill": {
     "duration": 0.046873,
     "end_time": "2022-01-07T18:52:46.689180",
     "exception": false,
     "start_time": "2022-01-07T18:52:46.642307",
     "status": "completed"
    },
    "tags": []
   },
   "outputs": [],
   "source": [
    "dirs = [fld for fld in output_root.glob(f'{dataset}-*')]"
   ]
  },
  {
   "cell_type": "code",
   "execution_count": 9,
   "id": "4e5a160b",
   "metadata": {
    "execution": {
     "iopub.execute_input": "2022-01-07T18:52:46.767318Z",
     "iopub.status.busy": "2022-01-07T18:52:46.767318Z",
     "iopub.status.idle": "2022-01-07T18:52:47.282893Z",
     "shell.execute_reply": "2022-01-07T18:52:47.282893Z"
    },
    "papermill": {
     "duration": 0.562466,
     "end_time": "2022-01-07T18:52:47.282893",
     "exception": false,
     "start_time": "2022-01-07T18:52:46.720427",
     "status": "completed"
    },
    "tags": []
   },
   "outputs": [
    {
     "name": "stdout",
     "output_type": "stream",
     "text": [
      "<class 'pandas.core.frame.DataFrame'>\n",
      "RangeIndex: 365900 entries, 0 to 365899\n",
      "Data columns (total 5 columns):\n",
      " #   Column     Non-Null Count   Dtype   \n",
      "---  ------     --------------   -----   \n",
      " 0   item       365900 non-null  int64   \n",
      " 1   score      365900 non-null  float64 \n",
      " 2   user       365900 non-null  int64   \n",
      " 3   rank       365900 non-null  int64   \n",
      " 4   algorithm  365900 non-null  category\n",
      "dtypes: category(1), float64(1), int64(3)\n",
      "memory usage: 11.5 MB\n"
     ]
    }
   ],
   "source": [
    "recs = []\n",
    "for fld in dirs: \n",
    "    for file in fld.glob(\"recs-*\"):\n",
    "        rec = pd.read_csv(file, sep=',')\n",
    "        rec[\"algorithm\"] = fld.name.split(\"-\")[1]\n",
    "        recs.append(rec)\n",
    "\n",
    "recs = pd.concat(recs, ignore_index=True)\n",
    "recs = recs.astype({'algorithm': 'category'})\n",
    "recs.info()"
   ]
  },
  {
   "cell_type": "code",
   "execution_count": 10,
   "id": "785ada8d",
   "metadata": {
    "execution": {
     "iopub.execute_input": "2022-01-07T18:52:47.361007Z",
     "iopub.status.busy": "2022-01-07T18:52:47.361007Z",
     "iopub.status.idle": "2022-01-07T18:52:47.376651Z",
     "shell.execute_reply": "2022-01-07T18:52:47.376651Z"
    },
    "papermill": {
     "duration": 0.062515,
     "end_time": "2022-01-07T18:52:47.376651",
     "exception": false,
     "start_time": "2022-01-07T18:52:47.314136",
     "status": "completed"
    },
    "tags": []
   },
   "outputs": [
    {
     "data": {
      "text/plain": [
       "['ALS', 'Bias', 'IALS', 'II', 'Pop', 'UU']\n",
       "Categories (6, object): ['ALS', 'Bias', 'IALS', 'II', 'Pop', 'UU']"
      ]
     },
     "execution_count": 10,
     "metadata": {},
     "output_type": "execute_result"
    }
   ],
   "source": [
    "rec_algos = recs['algorithm'].unique()\n",
    "rec_algos"
   ]
  },
  {
   "cell_type": "code",
   "execution_count": 11,
   "id": "9fc82c4d",
   "metadata": {
    "execution": {
     "iopub.execute_input": "2022-01-07T18:52:47.454751Z",
     "iopub.status.busy": "2022-01-07T18:52:47.454751Z",
     "iopub.status.idle": "2022-01-07T18:52:47.579761Z",
     "shell.execute_reply": "2022-01-07T18:52:47.579761Z"
    },
    "papermill": {
     "duration": 0.171882,
     "end_time": "2022-01-07T18:52:47.579761",
     "exception": false,
     "start_time": "2022-01-07T18:52:47.407879",
     "status": "completed"
    },
    "tags": []
   },
   "outputs": [
    {
     "name": "stdout",
     "output_type": "stream",
     "text": [
      "<class 'pandas.core.frame.DataFrame'>\n",
      "RangeIndex: 15250 entries, 0 to 15249\n",
      "Data columns (total 6 columns):\n",
      " #   Column      Non-Null Count  Dtype   \n",
      "---  ------      --------------  -----   \n",
      " 0   user        15250 non-null  int64   \n",
      " 1   item        15250 non-null  int64   \n",
      " 2   rating      15250 non-null  float64 \n",
      " 3   timestamp   15250 non-null  int64   \n",
      " 4   prediction  14970 non-null  float64 \n",
      " 5   algorithm   15250 non-null  category\n",
      "dtypes: category(1), float64(2), int64(3)\n",
      "memory usage: 610.9 KB\n"
     ]
    }
   ],
   "source": [
    "preds = []\n",
    "for fld in dirs:\n",
    "    for file in fld.glob(\"pred-*\"):\n",
    "        pred = pd.read_csv(file, sep=',')\n",
    "        pred[\"algorithm\"] = fld.name.split(\"-\")[1]\n",
    "        preds.append(pred)\n",
    "\n",
    "preds = pd.concat(preds, ignore_index=True)\n",
    "preds = preds.astype({'algorithm': 'category'})\n",
    "preds.info()"
   ]
  },
  {
   "cell_type": "markdown",
   "id": "a7d32889",
   "metadata": {
    "papermill": {
     "duration": 0.046869,
     "end_time": "2022-01-07T18:52:47.657886",
     "exception": false,
     "start_time": "2022-01-07T18:52:47.611017",
     "status": "completed"
    },
    "tags": []
   },
   "source": [
    "We need to load the test data so that we have the ground truths for computing accuracy "
   ]
  },
  {
   "cell_type": "code",
   "execution_count": 12,
   "id": "1bf940e5",
   "metadata": {
    "execution": {
     "iopub.execute_input": "2022-01-07T18:52:47.767256Z",
     "iopub.status.busy": "2022-01-07T18:52:47.767256Z",
     "iopub.status.idle": "2022-01-07T18:52:47.782879Z",
     "shell.execute_reply": "2022-01-07T18:52:47.782879Z"
    },
    "papermill": {
     "duration": 0.093743,
     "end_time": "2022-01-07T18:52:47.782879",
     "exception": false,
     "start_time": "2022-01-07T18:52:47.689136",
     "status": "completed"
    },
    "tags": []
   },
   "outputs": [],
   "source": [
    "split_root = Path(\"data-split\")\n",
    "split_dir = split_root / dataset"
   ]
  },
  {
   "cell_type": "code",
   "execution_count": 13,
   "id": "1f6a67f2",
   "metadata": {
    "execution": {
     "iopub.execute_input": "2022-01-07T18:52:47.892247Z",
     "iopub.status.busy": "2022-01-07T18:52:47.892247Z",
     "iopub.status.idle": "2022-01-07T18:52:47.939118Z",
     "shell.execute_reply": "2022-01-07T18:52:47.939118Z"
    },
    "papermill": {
     "duration": 0.109367,
     "end_time": "2022-01-07T18:52:47.939118",
     "exception": false,
     "start_time": "2022-01-07T18:52:47.829751",
     "status": "completed"
    },
    "tags": []
   },
   "outputs": [],
   "source": [
    "test = []\n",
    "for file in split_dir.glob(\"test-*.csv.gz\"):\n",
    "    test.append(pd.read_csv(file, sep=','))\n",
    "\n",
    "test = pd.concat(test, ignore_index=True)"
   ]
  },
  {
   "cell_type": "markdown",
   "id": "e9189cfd",
   "metadata": {
    "papermill": {
     "duration": 0.062523,
     "end_time": "2022-01-07T18:52:48.064111",
     "exception": false,
     "start_time": "2022-01-07T18:52:48.001588",
     "status": "completed"
    },
    "tags": []
   },
   "source": [
    "# Top-N Metrics"
   ]
  },
  {
   "cell_type": "markdown",
   "id": "b150e13e",
   "metadata": {
    "papermill": {
     "duration": 0.046871,
     "end_time": "2022-01-07T18:52:48.142230",
     "exception": false,
     "start_time": "2022-01-07T18:52:48.095359",
     "status": "completed"
    },
    "tags": []
   },
   "source": [
    "The topn.RecListAnalysis class computes top-N metrics for recommendation list and takes care of making sure that the recommendations and ground truths are properly matched. Refer to the documentation for detailed explanation of the purpose for the RecListAnalysis class and how the analysis is done - https://lkpy.lenskit.org/en/stable/evaluation/topn-metrics.html "
   ]
  },
  {
   "cell_type": "code",
   "execution_count": 14,
   "id": "a2031639",
   "metadata": {
    "execution": {
     "iopub.execute_input": "2022-01-07T18:52:48.220349Z",
     "iopub.status.busy": "2022-01-07T18:52:48.220349Z",
     "iopub.status.idle": "2022-01-07T18:52:48.751563Z",
     "shell.execute_reply": "2022-01-07T18:52:48.751563Z"
    },
    "papermill": {
     "duration": 0.578086,
     "end_time": "2022-01-07T18:52:48.751563",
     "exception": false,
     "start_time": "2022-01-07T18:52:48.173477",
     "status": "completed"
    },
    "tags": []
   },
   "outputs": [
    {
     "name": "stdout",
     "output_type": "stream",
     "text": [
      "[   INFO] lenskit.topn analyzing 365900 recommendations (3050 truth rows)\n"
     ]
    },
    {
     "name": "stdout",
     "output_type": "stream",
     "text": [
      "[   INFO] lenskit.topn using rec key columns ['algorithm', 'user']\n"
     ]
    },
    {
     "name": "stdout",
     "output_type": "stream",
     "text": [
      "[   INFO] lenskit.topn using truth key columns ['user']\n"
     ]
    },
    {
     "name": "stdout",
     "output_type": "stream",
     "text": [
      "[   INFO] lenskit.topn numbering truth lists\n"
     ]
    },
    {
     "name": "stdout",
     "output_type": "stream",
     "text": [
      "[   INFO] lenskit.topn numbering rec lists\n"
     ]
    },
    {
     "name": "stdout",
     "output_type": "stream",
     "text": [
      "[   INFO] lenskit.topn collecting metric results\n"
     ]
    },
    {
     "name": "stdout",
     "output_type": "stream",
     "text": [
      "[   INFO] lenskit.topn measured 3659 lists in  305ms\n"
     ]
    },
    {
     "name": "stdout",
     "output_type": "stream",
     "text": [
      "[   INFO] lenskit.topn filling in missing user info (3659 initial rows)\n"
     ]
    },
    {
     "data": {
      "text/html": [
       "<div>\n",
       "<style scoped>\n",
       "    .dataframe tbody tr th:only-of-type {\n",
       "        vertical-align: middle;\n",
       "    }\n",
       "\n",
       "    .dataframe tbody tr th {\n",
       "        vertical-align: top;\n",
       "    }\n",
       "\n",
       "    .dataframe thead th {\n",
       "        text-align: right;\n",
       "    }\n",
       "</style>\n",
       "<table border=\"1\" class=\"dataframe\">\n",
       "  <thead>\n",
       "    <tr style=\"text-align: right;\">\n",
       "      <th></th>\n",
       "      <th></th>\n",
       "      <th>nrecs</th>\n",
       "      <th>precision</th>\n",
       "      <th>recip_rank</th>\n",
       "      <th>ndcg</th>\n",
       "      <th>ntruth</th>\n",
       "    </tr>\n",
       "    <tr>\n",
       "      <th>algorithm</th>\n",
       "      <th>user</th>\n",
       "      <th></th>\n",
       "      <th></th>\n",
       "      <th></th>\n",
       "      <th></th>\n",
       "      <th></th>\n",
       "    </tr>\n",
       "  </thead>\n",
       "  <tbody>\n",
       "    <tr>\n",
       "      <th rowspan=\"5\" valign=\"top\">ALS</th>\n",
       "      <th>5</th>\n",
       "      <td>100.0</td>\n",
       "      <td>0.00</td>\n",
       "      <td>0.00000</td>\n",
       "      <td>0.000000</td>\n",
       "      <td>5</td>\n",
       "    </tr>\n",
       "    <tr>\n",
       "      <th>6</th>\n",
       "      <td>100.0</td>\n",
       "      <td>0.00</td>\n",
       "      <td>0.00000</td>\n",
       "      <td>0.000000</td>\n",
       "      <td>5</td>\n",
       "    </tr>\n",
       "    <tr>\n",
       "      <th>10</th>\n",
       "      <td>100.0</td>\n",
       "      <td>0.00</td>\n",
       "      <td>0.00000</td>\n",
       "      <td>0.000000</td>\n",
       "      <td>5</td>\n",
       "    </tr>\n",
       "    <tr>\n",
       "      <th>15</th>\n",
       "      <td>100.0</td>\n",
       "      <td>0.02</td>\n",
       "      <td>0.02439</td>\n",
       "      <td>0.118321</td>\n",
       "      <td>5</td>\n",
       "    </tr>\n",
       "    <tr>\n",
       "      <th>20</th>\n",
       "      <td>100.0</td>\n",
       "      <td>0.00</td>\n",
       "      <td>0.00000</td>\n",
       "      <td>0.000000</td>\n",
       "      <td>5</td>\n",
       "    </tr>\n",
       "  </tbody>\n",
       "</table>\n",
       "</div>"
      ],
      "text/plain": [
       "                nrecs  precision  recip_rank      ndcg  ntruth\n",
       "algorithm user                                                \n",
       "ALS       5     100.0       0.00     0.00000  0.000000       5\n",
       "          6     100.0       0.00     0.00000  0.000000       5\n",
       "          10    100.0       0.00     0.00000  0.000000       5\n",
       "          15    100.0       0.02     0.02439  0.118321       5\n",
       "          20    100.0       0.00     0.00000  0.000000       5"
      ]
     },
     "execution_count": 14,
     "metadata": {},
     "output_type": "execute_result"
    }
   ],
   "source": [
    "rla = topn.RecListAnalysis()\n",
    "rla.add_metric(topn.precision)\n",
    "rla.add_metric(topn.recip_rank)\n",
    "rla.add_metric(topn.ndcg)\n",
    "results = rla.compute(recs, test, include_missing=True)\n",
    "results = results.fillna(0)\n",
    "results.head()"
   ]
  },
  {
   "cell_type": "markdown",
   "id": "2ea3d7e8",
   "metadata": {
    "papermill": {
     "duration": 0.031268,
     "end_time": "2022-01-07T18:52:48.829677",
     "exception": false,
     "start_time": "2022-01-07T18:52:48.798409",
     "status": "completed"
    },
    "tags": []
   },
   "source": [
    "We will reshape the 'results' dataframe by stacking the columns to index and then use the bar chart to visualize the performance of our algorithms with respect to the precision, reciprocal rank and ndcg metrics"
   ]
  },
  {
   "cell_type": "code",
   "execution_count": 15,
   "id": "992a39f2",
   "metadata": {
    "execution": {
     "iopub.execute_input": "2022-01-07T18:52:48.923419Z",
     "iopub.status.busy": "2022-01-07T18:52:48.923419Z",
     "iopub.status.idle": "2022-01-07T18:52:48.954672Z",
     "shell.execute_reply": "2022-01-07T18:52:48.954672Z"
    },
    "papermill": {
     "duration": 0.078123,
     "end_time": "2022-01-07T18:52:48.954672",
     "exception": false,
     "start_time": "2022-01-07T18:52:48.876549",
     "status": "completed"
    },
    "tags": []
   },
   "outputs": [
    {
     "data": {
      "text/html": [
       "<div>\n",
       "<style scoped>\n",
       "    .dataframe tbody tr th:only-of-type {\n",
       "        vertical-align: middle;\n",
       "    }\n",
       "\n",
       "    .dataframe tbody tr th {\n",
       "        vertical-align: top;\n",
       "    }\n",
       "\n",
       "    .dataframe thead th {\n",
       "        text-align: right;\n",
       "    }\n",
       "</style>\n",
       "<table border=\"1\" class=\"dataframe\">\n",
       "  <thead>\n",
       "    <tr style=\"text-align: right;\">\n",
       "      <th></th>\n",
       "      <th>algorithm</th>\n",
       "      <th>user</th>\n",
       "      <th>metric</th>\n",
       "      <th>val</th>\n",
       "    </tr>\n",
       "  </thead>\n",
       "  <tbody>\n",
       "    <tr>\n",
       "      <th>0</th>\n",
       "      <td>ALS</td>\n",
       "      <td>5</td>\n",
       "      <td>precision</td>\n",
       "      <td>0.0</td>\n",
       "    </tr>\n",
       "    <tr>\n",
       "      <th>1</th>\n",
       "      <td>ALS</td>\n",
       "      <td>5</td>\n",
       "      <td>recip_rank</td>\n",
       "      <td>0.0</td>\n",
       "    </tr>\n",
       "    <tr>\n",
       "      <th>2</th>\n",
       "      <td>ALS</td>\n",
       "      <td>5</td>\n",
       "      <td>ndcg</td>\n",
       "      <td>0.0</td>\n",
       "    </tr>\n",
       "    <tr>\n",
       "      <th>3</th>\n",
       "      <td>ALS</td>\n",
       "      <td>6</td>\n",
       "      <td>precision</td>\n",
       "      <td>0.0</td>\n",
       "    </tr>\n",
       "    <tr>\n",
       "      <th>4</th>\n",
       "      <td>ALS</td>\n",
       "      <td>6</td>\n",
       "      <td>recip_rank</td>\n",
       "      <td>0.0</td>\n",
       "    </tr>\n",
       "  </tbody>\n",
       "</table>\n",
       "</div>"
      ],
      "text/plain": [
       "  algorithm  user      metric  val\n",
       "0       ALS     5   precision  0.0\n",
       "1       ALS     5  recip_rank  0.0\n",
       "2       ALS     5        ndcg  0.0\n",
       "3       ALS     6   precision  0.0\n",
       "4       ALS     6  recip_rank  0.0"
      ]
     },
     "execution_count": 15,
     "metadata": {},
     "output_type": "execute_result"
    }
   ],
   "source": [
    "pltData = (results.drop(columns=['nrecs', 'ntruth']).stack()).reset_index()\n",
    "pltData.columns = ['algorithm', 'user', 'metric', 'val']\n",
    "pltData.head()"
   ]
  },
  {
   "cell_type": "markdown",
   "id": "5893c72a",
   "metadata": {
    "papermill": {
     "duration": 0.062524,
     "end_time": "2022-01-07T18:52:49.064043",
     "exception": false,
     "start_time": "2022-01-07T18:52:49.001519",
     "status": "completed"
    },
    "tags": []
   },
   "source": [
    "We need to determine if the differences we observe in the performances of the algorithms for the various metrics are statistically significant. To achieve this, we will need to use either a parametric or non-parametric statistical test for comparing the differences. We will consider a parametric test - repeated ANOVA measure cause our sample groups are correlated."
   ]
  },
  {
   "cell_type": "code",
   "execution_count": 16,
   "id": "f1ab2326",
   "metadata": {
    "execution": {
     "iopub.execute_input": "2022-01-07T18:52:49.157759Z",
     "iopub.status.busy": "2022-01-07T18:52:49.157759Z",
     "iopub.status.idle": "2022-01-07T18:52:50.642032Z",
     "shell.execute_reply": "2022-01-07T18:52:50.642032Z"
    },
    "papermill": {
     "duration": 1.546744,
     "end_time": "2022-01-07T18:52:50.642032",
     "exception": false,
     "start_time": "2022-01-07T18:52:49.095288",
     "status": "completed"
    },
    "tags": []
   },
   "outputs": [
    {
     "data": {
      "image/png": "[encoded data removed]",
      "text/plain": [
       "<Figure size 777.6x216 with 3 Axes>"
      ]
     },
     "metadata": {
      "needs_background": "light"
     },
     "output_type": "display_data"
    }
   ],
   "source": [
    "g = sns.catplot(x = \"algorithm\", y = \"val\", data = pltData, kind=\"bar\", col = \"metric\", aspect=1.2, height=3, sharey=False)"
   ]
  },
  {
   "cell_type": "markdown",
   "id": "b3c4586e",
   "metadata": {
    "papermill": {
     "duration": 0.062499,
     "end_time": "2022-01-07T18:52:50.751400",
     "exception": false,
     "start_time": "2022-01-07T18:52:50.688901",
     "status": "completed"
    },
    "tags": []
   },
   "source": [
    "### Statistical Testing"
   ]
  },
  {
   "cell_type": "markdown",
   "id": "6a1ebab6",
   "metadata": {
    "papermill": {
     "duration": 0.046866,
     "end_time": "2022-01-07T18:52:50.829538",
     "exception": false,
     "start_time": "2022-01-07T18:52:50.782672",
     "status": "completed"
    },
    "tags": []
   },
   "source": [
    "We will now examine these metrics in more detail and test for statistical significance.  Best practice for statistical testing for recommender systems is still a work in progress, but this method avoids most of the validity problems we know about.\n",
    "\n",
    "The Friedman $\\chi^2$ test will test the null hypothesis that there is no difference between algorithms in terms of their performance."
   ]
  },
  {
   "cell_type": "code",
   "execution_count": 17,
   "id": "99970009",
   "metadata": {
    "execution": {
     "iopub.execute_input": "2022-01-07T18:52:50.938885Z",
     "iopub.status.busy": "2022-01-07T18:52:50.938885Z",
     "iopub.status.idle": "2022-01-07T18:52:50.954534Z",
     "shell.execute_reply": "2022-01-07T18:52:50.954534Z"
    },
    "papermill": {
     "duration": 0.078125,
     "end_time": "2022-01-07T18:52:50.954534",
     "exception": false,
     "start_time": "2022-01-07T18:52:50.876409",
     "status": "completed"
    },
    "tags": []
   },
   "outputs": [],
   "source": [
    "def metric_friedman(metric):\n",
    "    groups = [df[metric] for a, df in results.groupby('algorithm')]\n",
    "    l=[]\n",
    "    for i in groups: \n",
    "        k = len(i)\n",
    "        l.append(k)\n",
    "    if (len(set(l))<=1):\n",
    "        stat, p = friedmanchisquare(*groups)\n",
    "        return pd.Series({'stat': stat, 'p': p}, name=metric)\n",
    "    else:\n",
    "        print('unequal N')"
   ]
  },
  {
   "cell_type": "markdown",
   "id": "a3730cd2",
   "metadata": {
    "papermill": {
     "duration": 0.031243,
     "end_time": "2022-01-07T18:52:51.032649",
     "exception": false,
     "start_time": "2022-01-07T18:52:51.001406",
     "status": "completed"
    },
    "tags": []
   },
   "source": [
    "If the test detects significance, we have at least one pair of different algorithms - but which pairs?  Unfortunately, the good tests aren't readily available in scipy and friends, so we're going to take a conservative approch and perform pairwise Wilconxon signed-rank tests with a Bonferroni adjustment."
   ]
  },
  {
   "cell_type": "code",
   "execution_count": 18,
   "id": "f45bd8cf",
   "metadata": {
    "execution": {
     "iopub.execute_input": "2022-01-07T18:52:51.142016Z",
     "iopub.status.busy": "2022-01-07T18:52:51.142016Z",
     "iopub.status.idle": "2022-01-07T18:52:51.157639Z",
     "shell.execute_reply": "2022-01-07T18:52:51.157639Z"
    },
    "papermill": {
     "duration": 0.062496,
     "end_time": "2022-01-07T18:52:51.157639",
     "exception": false,
     "start_time": "2022-01-07T18:52:51.095143",
     "status": "completed"
    },
    "tags": []
   },
   "outputs": [],
   "source": [
    "# pairs = pd.DataFrame.from_records(combinations(rec_algos, 2), columns=['A1', 'A2'])\n",
    "# def am_wilcox(metric, p_scale = len(pairs)):\n",
    "#     def compute(df):\n",
    "#         vs1 = results.loc[df['A1'], metric]\n",
    "#         vs2 = results.loc[df['A2'], metric]\n",
    "#         print(len(vs1))\n",
    "#         print('---')\n",
    "#         print(len(vs2))\n",
    "#         print('---')\n",
    "#         diff = (vs1 - vs2).mean()\n",
    "#         stat, p = wilcoxon(vs1, vs2)\n",
    "#         return pd.Series({'diff': diff, 'stat': stat, 'p': p, 'adj_p': p * p_scale})\n",
    "#     scores = pairs.apply(compute, axis=1)\n",
    "#     return pairs.join(scores)"
   ]
  },
  {
   "cell_type": "code",
   "execution_count": 19,
   "id": "dbf06274",
   "metadata": {
    "execution": {
     "iopub.execute_input": "2022-01-07T18:52:51.298237Z",
     "iopub.status.busy": "2022-01-07T18:52:51.298237Z",
     "iopub.status.idle": "2022-01-07T18:52:51.313885Z",
     "shell.execute_reply": "2022-01-07T18:52:51.313885Z"
    },
    "papermill": {
     "duration": 0.109373,
     "end_time": "2022-01-07T18:52:51.313885",
     "exception": false,
     "start_time": "2022-01-07T18:52:51.204512",
     "status": "completed"
    },
    "tags": []
   },
   "outputs": [],
   "source": [
    "pairs = pd.DataFrame.from_records(combinations(rec_algos, 2), columns=['A1', 'A2'])\n",
    "def am_wilcox(metric, p_scale = len(pairs)):\n",
    "    def compute(df):\n",
    "        vs1 = results.loc[df['A1'], metric]\n",
    "        vs2 = results.loc[df['A2'], metric]\n",
    "        if len(vs1)!= len(vs2):\n",
    "            print('x and y is of different length')\n",
    "            print(len(vs1),len(vs2))\n",
    "        if len(vs1)== len(vs2):\n",
    "            diff = (vs1 - vs2).mean()\n",
    "            stat, p = wilcoxon(vs1, vs2)\n",
    "            return pd.Series({'diff': diff, 'stat': stat, 'p': p, 'adj_p': p * p_scale})\n",
    "    scores = pairs.apply(compute, axis=1)\n",
    "    return pairs.join(scores)"
   ]
  },
  {
   "cell_type": "markdown",
   "id": "ebd43a05",
   "metadata": {
    "papermill": {
     "duration": 0.062495,
     "end_time": "2022-01-07T18:52:51.438876",
     "exception": false,
     "start_time": "2022-01-07T18:52:51.376381",
     "status": "completed"
    },
    "tags": []
   },
   "source": [
    "## Precision"
   ]
  },
  {
   "cell_type": "code",
   "execution_count": 20,
   "id": "a7b56dc9",
   "metadata": {
    "execution": {
     "iopub.execute_input": "2022-01-07T18:52:51.532618Z",
     "iopub.status.busy": "2022-01-07T18:52:51.532618Z",
     "iopub.status.idle": "2022-01-07T18:52:51.563868Z",
     "shell.execute_reply": "2022-01-07T18:52:51.563868Z"
    },
    "papermill": {
     "duration": 0.078121,
     "end_time": "2022-01-07T18:52:51.563868",
     "exception": false,
     "start_time": "2022-01-07T18:52:51.485747",
     "status": "completed"
    },
    "tags": []
   },
   "outputs": [
    {
     "name": "stdout",
     "output_type": "stream",
     "text": [
      "unequal N\n"
     ]
    }
   ],
   "source": [
    "metric_friedman('precision')"
   ]
  },
  {
   "cell_type": "markdown",
   "id": "1291cd62",
   "metadata": {
    "papermill": {
     "duration": 0.062494,
     "end_time": "2022-01-07T18:52:51.688858",
     "exception": false,
     "start_time": "2022-01-07T18:52:51.626364",
     "status": "completed"
    },
    "tags": []
   },
   "source": [
    "This indicates a statistically significant difference exists - but where is it?\n",
    "\n",
    "To answer that question, we need a post-hoc test. "
   ]
  },
  {
   "cell_type": "code",
   "execution_count": 21,
   "id": "1c461bbd",
   "metadata": {
    "execution": {
     "iopub.execute_input": "2022-01-07T18:52:51.798219Z",
     "iopub.status.busy": "2022-01-07T18:52:51.798219Z",
     "iopub.status.idle": "2022-01-07T18:52:51.876353Z",
     "shell.execute_reply": "2022-01-07T18:52:51.876353Z"
    },
    "papermill": {
     "duration": 0.140629,
     "end_time": "2022-01-07T18:52:51.876353",
     "exception": false,
     "start_time": "2022-01-07T18:52:51.735724",
     "status": "completed"
    },
    "tags": []
   },
   "outputs": [
    {
     "name": "stdout",
     "output_type": "stream",
     "text": [
      "x and y is of different length\n",
      "610 609\n",
      "x and y is of different length\n",
      "610 609\n",
      "x and y is of different length\n",
      "610 609\n",
      "x and y is of different length\n",
      "610 609\n",
      "x and y is of different length\n",
      "610 609\n"
     ]
    },
    {
     "data": {
      "text/html": [
       "<div>\n",
       "<style scoped>\n",
       "    .dataframe tbody tr th:only-of-type {\n",
       "        vertical-align: middle;\n",
       "    }\n",
       "\n",
       "    .dataframe tbody tr th {\n",
       "        vertical-align: top;\n",
       "    }\n",
       "\n",
       "    .dataframe thead th {\n",
       "        text-align: right;\n",
       "    }\n",
       "</style>\n",
       "<table border=\"1\" class=\"dataframe\">\n",
       "  <thead>\n",
       "    <tr style=\"text-align: right;\">\n",
       "      <th></th>\n",
       "      <th>A1</th>\n",
       "      <th>A2</th>\n",
       "      <th>diff</th>\n",
       "      <th>stat</th>\n",
       "      <th>p</th>\n",
       "      <th>adj_p</th>\n",
       "    </tr>\n",
       "  </thead>\n",
       "  <tbody>\n",
       "    <tr>\n",
       "      <th>9</th>\n",
       "      <td>IALS</td>\n",
       "      <td>II</td>\n",
       "      <td>0.023574</td>\n",
       "      <td>62.0</td>\n",
       "      <td>1.107502e-87</td>\n",
       "      <td>1.661253e-86</td>\n",
       "    </tr>\n",
       "    <tr>\n",
       "      <th>10</th>\n",
       "      <td>IALS</td>\n",
       "      <td>Pop</td>\n",
       "      <td>0.008475</td>\n",
       "      <td>13279.5</td>\n",
       "      <td>8.005358e-40</td>\n",
       "      <td>1.200804e-38</td>\n",
       "    </tr>\n",
       "    <tr>\n",
       "      <th>6</th>\n",
       "      <td>Bias</td>\n",
       "      <td>II</td>\n",
       "      <td>0.006869</td>\n",
       "      <td>374.0</td>\n",
       "      <td>1.908001e-50</td>\n",
       "      <td>2.862002e-49</td>\n",
       "    </tr>\n",
       "    <tr>\n",
       "      <th>2</th>\n",
       "      <td>ALS</td>\n",
       "      <td>II</td>\n",
       "      <td>0.005639</td>\n",
       "      <td>172.0</td>\n",
       "      <td>2.313493e-45</td>\n",
       "      <td>3.470239e-44</td>\n",
       "    </tr>\n",
       "    <tr>\n",
       "      <th>0</th>\n",
       "      <td>ALS</td>\n",
       "      <td>Bias</td>\n",
       "      <td>-0.001230</td>\n",
       "      <td>8217.0</td>\n",
       "      <td>3.073162e-04</td>\n",
       "      <td>4.609743e-03</td>\n",
       "    </tr>\n",
       "    <tr>\n",
       "      <th>7</th>\n",
       "      <td>Bias</td>\n",
       "      <td>Pop</td>\n",
       "      <td>-0.008230</td>\n",
       "      <td>6510.5</td>\n",
       "      <td>9.291985e-48</td>\n",
       "      <td>1.393798e-46</td>\n",
       "    </tr>\n",
       "    <tr>\n",
       "      <th>3</th>\n",
       "      <td>ALS</td>\n",
       "      <td>Pop</td>\n",
       "      <td>-0.009459</td>\n",
       "      <td>6520.0</td>\n",
       "      <td>1.408825e-52</td>\n",
       "      <td>2.113237e-51</td>\n",
       "    </tr>\n",
       "    <tr>\n",
       "      <th>12</th>\n",
       "      <td>II</td>\n",
       "      <td>Pop</td>\n",
       "      <td>-0.015098</td>\n",
       "      <td>390.0</td>\n",
       "      <td>3.632159e-79</td>\n",
       "      <td>5.448238e-78</td>\n",
       "    </tr>\n",
       "    <tr>\n",
       "      <th>5</th>\n",
       "      <td>Bias</td>\n",
       "      <td>IALS</td>\n",
       "      <td>-0.016705</td>\n",
       "      <td>3967.5</td>\n",
       "      <td>5.003912e-71</td>\n",
       "      <td>7.505868e-70</td>\n",
       "    </tr>\n",
       "    <tr>\n",
       "      <th>1</th>\n",
       "      <td>ALS</td>\n",
       "      <td>IALS</td>\n",
       "      <td>-0.017934</td>\n",
       "      <td>2399.5</td>\n",
       "      <td>2.803038e-74</td>\n",
       "      <td>4.204557e-73</td>\n",
       "    </tr>\n",
       "    <tr>\n",
       "      <th>4</th>\n",
       "      <td>ALS</td>\n",
       "      <td>UU</td>\n",
       "      <td>NaN</td>\n",
       "      <td>NaN</td>\n",
       "      <td>NaN</td>\n",
       "      <td>NaN</td>\n",
       "    </tr>\n",
       "    <tr>\n",
       "      <th>8</th>\n",
       "      <td>Bias</td>\n",
       "      <td>UU</td>\n",
       "      <td>NaN</td>\n",
       "      <td>NaN</td>\n",
       "      <td>NaN</td>\n",
       "      <td>NaN</td>\n",
       "    </tr>\n",
       "    <tr>\n",
       "      <th>11</th>\n",
       "      <td>IALS</td>\n",
       "      <td>UU</td>\n",
       "      <td>NaN</td>\n",
       "      <td>NaN</td>\n",
       "      <td>NaN</td>\n",
       "      <td>NaN</td>\n",
       "    </tr>\n",
       "    <tr>\n",
       "      <th>13</th>\n",
       "      <td>II</td>\n",
       "      <td>UU</td>\n",
       "      <td>NaN</td>\n",
       "      <td>NaN</td>\n",
       "      <td>NaN</td>\n",
       "      <td>NaN</td>\n",
       "    </tr>\n",
       "    <tr>\n",
       "      <th>14</th>\n",
       "      <td>Pop</td>\n",
       "      <td>UU</td>\n",
       "      <td>NaN</td>\n",
       "      <td>NaN</td>\n",
       "      <td>NaN</td>\n",
       "      <td>NaN</td>\n",
       "    </tr>\n",
       "  </tbody>\n",
       "</table>\n",
       "</div>"
      ],
      "text/plain": [
       "      A1    A2      diff     stat             p         adj_p\n",
       "9   IALS    II  0.023574     62.0  1.107502e-87  1.661253e-86\n",
       "10  IALS   Pop  0.008475  13279.5  8.005358e-40  1.200804e-38\n",
       "6   Bias    II  0.006869    374.0  1.908001e-50  2.862002e-49\n",
       "2    ALS    II  0.005639    172.0  2.313493e-45  3.470239e-44\n",
       "0    ALS  Bias -0.001230   8217.0  3.073162e-04  4.609743e-03\n",
       "7   Bias   Pop -0.008230   6510.5  9.291985e-48  1.393798e-46\n",
       "3    ALS   Pop -0.009459   6520.0  1.408825e-52  2.113237e-51\n",
       "12    II   Pop -0.015098    390.0  3.632159e-79  5.448238e-78\n",
       "5   Bias  IALS -0.016705   3967.5  5.003912e-71  7.505868e-70\n",
       "1    ALS  IALS -0.017934   2399.5  2.803038e-74  4.204557e-73\n",
       "4    ALS    UU       NaN      NaN           NaN           NaN\n",
       "8   Bias    UU       NaN      NaN           NaN           NaN\n",
       "11  IALS    UU       NaN      NaN           NaN           NaN\n",
       "13    II    UU       NaN      NaN           NaN           NaN\n",
       "14   Pop    UU       NaN      NaN           NaN           NaN"
      ]
     },
     "execution_count": 21,
     "metadata": {},
     "output_type": "execute_result"
    }
   ],
   "source": [
    "am_wilcox('precision').sort_values('diff', ascending=False)"
   ]
  },
  {
   "cell_type": "markdown",
   "id": "66a162a8",
   "metadata": {
    "papermill": {
     "duration": 0.046873,
     "end_time": "2022-01-07T18:52:51.970088",
     "exception": false,
     "start_time": "2022-01-07T18:52:51.923215",
     "status": "completed"
    },
    "tags": []
   },
   "source": [
    "We can consider pairs with an adjusted $p$ value less than 0.05 (5.0e-2) to be statistically significant.  However, we have so many data points, the substance of significance is questionable.  Pay attention to the 'diff' column, which is the difference between A1 and A2 (how much A1 outperforms A2)."
   ]
  },
  {
   "cell_type": "markdown",
   "id": "5407d837",
   "metadata": {
    "papermill": {
     "duration": 0.04687,
     "end_time": "2022-01-07T18:52:52.063831",
     "exception": false,
     "start_time": "2022-01-07T18:52:52.016961",
     "status": "completed"
    },
    "tags": []
   },
   "source": [
    "### nDCG"
   ]
  },
  {
   "cell_type": "markdown",
   "id": "e5258146",
   "metadata": {
    "papermill": {
     "duration": 0.062495,
     "end_time": "2022-01-07T18:52:52.173199",
     "exception": false,
     "start_time": "2022-01-07T18:52:52.110704",
     "status": "completed"
    },
    "tags": []
   },
   "source": [
    "Now let's do the same for nDCG:"
   ]
  },
  {
   "cell_type": "code",
   "execution_count": 22,
   "id": "c12cd4e8",
   "metadata": {
    "execution": {
     "iopub.execute_input": "2022-01-07T18:52:52.266942Z",
     "iopub.status.busy": "2022-01-07T18:52:52.266942Z",
     "iopub.status.idle": "2022-01-07T18:52:52.282568Z",
     "shell.execute_reply": "2022-01-07T18:52:52.282568Z"
    },
    "papermill": {
     "duration": 0.062498,
     "end_time": "2022-01-07T18:52:52.282568",
     "exception": false,
     "start_time": "2022-01-07T18:52:52.220070",
     "status": "completed"
    },
    "tags": []
   },
   "outputs": [
    {
     "name": "stdout",
     "output_type": "stream",
     "text": [
      "unequal N\n"
     ]
    }
   ],
   "source": [
    "metric_friedman('ndcg')"
   ]
  },
  {
   "cell_type": "code",
   "execution_count": 23,
   "id": "6e454c2a",
   "metadata": {
    "execution": {
     "iopub.execute_input": "2022-01-07T18:52:52.391911Z",
     "iopub.status.busy": "2022-01-07T18:52:52.391911Z",
     "iopub.status.idle": "2022-01-07T18:52:52.470029Z",
     "shell.execute_reply": "2022-01-07T18:52:52.470029Z"
    },
    "papermill": {
     "duration": 0.140592,
     "end_time": "2022-01-07T18:52:52.470029",
     "exception": false,
     "start_time": "2022-01-07T18:52:52.329437",
     "status": "completed"
    },
    "tags": []
   },
   "outputs": [
    {
     "name": "stdout",
     "output_type": "stream",
     "text": [
      "x and y is of different length\n",
      "610 609\n",
      "x and y is of different length\n",
      "610 609\n",
      "x and y is of different length\n",
      "610 609\n",
      "x and y is of different length\n",
      "610 609\n",
      "x and y is of different length\n",
      "610 609\n"
     ]
    },
    {
     "data": {
      "text/html": [
       "<div>\n",
       "<style scoped>\n",
       "    .dataframe tbody tr th:only-of-type {\n",
       "        vertical-align: middle;\n",
       "    }\n",
       "\n",
       "    .dataframe tbody tr th {\n",
       "        vertical-align: top;\n",
       "    }\n",
       "\n",
       "    .dataframe thead th {\n",
       "        text-align: right;\n",
       "    }\n",
       "</style>\n",
       "<table border=\"1\" class=\"dataframe\">\n",
       "  <thead>\n",
       "    <tr style=\"text-align: right;\">\n",
       "      <th></th>\n",
       "      <th>A1</th>\n",
       "      <th>A2</th>\n",
       "      <th>diff</th>\n",
       "      <th>stat</th>\n",
       "      <th>p</th>\n",
       "      <th>adj_p</th>\n",
       "    </tr>\n",
       "  </thead>\n",
       "  <tbody>\n",
       "    <tr>\n",
       "      <th>9</th>\n",
       "      <td>IALS</td>\n",
       "      <td>II</td>\n",
       "      <td>0.189441</td>\n",
       "      <td>126.0</td>\n",
       "      <td>2.152025e-87</td>\n",
       "      <td>3.228037e-86</td>\n",
       "    </tr>\n",
       "    <tr>\n",
       "      <th>6</th>\n",
       "      <td>Bias</td>\n",
       "      <td>II</td>\n",
       "      <td>0.054333</td>\n",
       "      <td>395.0</td>\n",
       "      <td>3.200055e-48</td>\n",
       "      <td>4.800083e-47</td>\n",
       "    </tr>\n",
       "    <tr>\n",
       "      <th>10</th>\n",
       "      <td>IALS</td>\n",
       "      <td>Pop</td>\n",
       "      <td>0.054176</td>\n",
       "      <td>51107.0</td>\n",
       "      <td>2.431332e-13</td>\n",
       "      <td>3.646999e-12</td>\n",
       "    </tr>\n",
       "    <tr>\n",
       "      <th>2</th>\n",
       "      <td>ALS</td>\n",
       "      <td>II</td>\n",
       "      <td>0.045439</td>\n",
       "      <td>218.0</td>\n",
       "      <td>1.779839e-43</td>\n",
       "      <td>2.669759e-42</td>\n",
       "    </tr>\n",
       "    <tr>\n",
       "      <th>0</th>\n",
       "      <td>ALS</td>\n",
       "      <td>Bias</td>\n",
       "      <td>-0.008894</td>\n",
       "      <td>23263.0</td>\n",
       "      <td>9.204407e-04</td>\n",
       "      <td>1.380661e-02</td>\n",
       "    </tr>\n",
       "    <tr>\n",
       "      <th>7</th>\n",
       "      <td>Bias</td>\n",
       "      <td>Pop</td>\n",
       "      <td>-0.080932</td>\n",
       "      <td>10170.0</td>\n",
       "      <td>1.444721e-56</td>\n",
       "      <td>2.167082e-55</td>\n",
       "    </tr>\n",
       "    <tr>\n",
       "      <th>3</th>\n",
       "      <td>ALS</td>\n",
       "      <td>Pop</td>\n",
       "      <td>-0.089826</td>\n",
       "      <td>12253.0</td>\n",
       "      <td>7.163830e-53</td>\n",
       "      <td>1.074575e-51</td>\n",
       "    </tr>\n",
       "    <tr>\n",
       "      <th>5</th>\n",
       "      <td>Bias</td>\n",
       "      <td>IALS</td>\n",
       "      <td>-0.135108</td>\n",
       "      <td>13142.0</td>\n",
       "      <td>2.849009e-62</td>\n",
       "      <td>4.273513e-61</td>\n",
       "    </tr>\n",
       "    <tr>\n",
       "      <th>12</th>\n",
       "      <td>II</td>\n",
       "      <td>Pop</td>\n",
       "      <td>-0.135265</td>\n",
       "      <td>366.0</td>\n",
       "      <td>1.512348e-77</td>\n",
       "      <td>2.268522e-76</td>\n",
       "    </tr>\n",
       "    <tr>\n",
       "      <th>1</th>\n",
       "      <td>ALS</td>\n",
       "      <td>IALS</td>\n",
       "      <td>-0.144002</td>\n",
       "      <td>9665.0</td>\n",
       "      <td>1.550084e-68</td>\n",
       "      <td>2.325126e-67</td>\n",
       "    </tr>\n",
       "    <tr>\n",
       "      <th>4</th>\n",
       "      <td>ALS</td>\n",
       "      <td>UU</td>\n",
       "      <td>NaN</td>\n",
       "      <td>NaN</td>\n",
       "      <td>NaN</td>\n",
       "      <td>NaN</td>\n",
       "    </tr>\n",
       "    <tr>\n",
       "      <th>8</th>\n",
       "      <td>Bias</td>\n",
       "      <td>UU</td>\n",
       "      <td>NaN</td>\n",
       "      <td>NaN</td>\n",
       "      <td>NaN</td>\n",
       "      <td>NaN</td>\n",
       "    </tr>\n",
       "    <tr>\n",
       "      <th>11</th>\n",
       "      <td>IALS</td>\n",
       "      <td>UU</td>\n",
       "      <td>NaN</td>\n",
       "      <td>NaN</td>\n",
       "      <td>NaN</td>\n",
       "      <td>NaN</td>\n",
       "    </tr>\n",
       "    <tr>\n",
       "      <th>13</th>\n",
       "      <td>II</td>\n",
       "      <td>UU</td>\n",
       "      <td>NaN</td>\n",
       "      <td>NaN</td>\n",
       "      <td>NaN</td>\n",
       "      <td>NaN</td>\n",
       "    </tr>\n",
       "    <tr>\n",
       "      <th>14</th>\n",
       "      <td>Pop</td>\n",
       "      <td>UU</td>\n",
       "      <td>NaN</td>\n",
       "      <td>NaN</td>\n",
       "      <td>NaN</td>\n",
       "      <td>NaN</td>\n",
       "    </tr>\n",
       "  </tbody>\n",
       "</table>\n",
       "</div>"
      ],
      "text/plain": [
       "      A1    A2      diff     stat             p         adj_p\n",
       "9   IALS    II  0.189441    126.0  2.152025e-87  3.228037e-86\n",
       "6   Bias    II  0.054333    395.0  3.200055e-48  4.800083e-47\n",
       "10  IALS   Pop  0.054176  51107.0  2.431332e-13  3.646999e-12\n",
       "2    ALS    II  0.045439    218.0  1.779839e-43  2.669759e-42\n",
       "0    ALS  Bias -0.008894  23263.0  9.204407e-04  1.380661e-02\n",
       "7   Bias   Pop -0.080932  10170.0  1.444721e-56  2.167082e-55\n",
       "3    ALS   Pop -0.089826  12253.0  7.163830e-53  1.074575e-51\n",
       "5   Bias  IALS -0.135108  13142.0  2.849009e-62  4.273513e-61\n",
       "12    II   Pop -0.135265    366.0  1.512348e-77  2.268522e-76\n",
       "1    ALS  IALS -0.144002   9665.0  1.550084e-68  2.325126e-67\n",
       "4    ALS    UU       NaN      NaN           NaN           NaN\n",
       "8   Bias    UU       NaN      NaN           NaN           NaN\n",
       "11  IALS    UU       NaN      NaN           NaN           NaN\n",
       "13    II    UU       NaN      NaN           NaN           NaN\n",
       "14   Pop    UU       NaN      NaN           NaN           NaN"
      ]
     },
     "execution_count": 23,
     "metadata": {},
     "output_type": "execute_result"
    }
   ],
   "source": [
    "am_wilcox('ndcg').sort_values('diff', ascending=False)"
   ]
  },
  {
   "cell_type": "markdown",
   "id": "89c34bc8",
   "metadata": {
    "papermill": {
     "duration": 0.062523,
     "end_time": "2022-01-07T18:52:52.610671",
     "exception": false,
     "start_time": "2022-01-07T18:52:52.548148",
     "status": "completed"
    },
    "tags": []
   },
   "source": [
    "### Reciprocal Rank\n",
    "\n",
    "We'll do this also for reciprocal rank (what is aggregated to compute MRR):"
   ]
  },
  {
   "cell_type": "code",
   "execution_count": 24,
   "id": "1760ffcd",
   "metadata": {
    "execution": {
     "iopub.execute_input": "2022-01-07T18:52:52.720038Z",
     "iopub.status.busy": "2022-01-07T18:52:52.720038Z",
     "iopub.status.idle": "2022-01-07T18:52:52.735661Z",
     "shell.execute_reply": "2022-01-07T18:52:52.735661Z"
    },
    "papermill": {
     "duration": 0.078119,
     "end_time": "2022-01-07T18:52:52.735661",
     "exception": false,
     "start_time": "2022-01-07T18:52:52.657542",
     "status": "completed"
    },
    "tags": []
   },
   "outputs": [
    {
     "name": "stdout",
     "output_type": "stream",
     "text": [
      "unequal N\n"
     ]
    }
   ],
   "source": [
    "metric_friedman('recip_rank')"
   ]
  },
  {
   "cell_type": "code",
   "execution_count": 25,
   "id": "b101448c",
   "metadata": {
    "execution": {
     "iopub.execute_input": "2022-01-07T18:52:52.876278Z",
     "iopub.status.busy": "2022-01-07T18:52:52.876278Z",
     "iopub.status.idle": "2022-01-07T18:52:52.954394Z",
     "shell.execute_reply": "2022-01-07T18:52:52.954394Z"
    },
    "papermill": {
     "duration": 0.156263,
     "end_time": "2022-01-07T18:52:52.954394",
     "exception": false,
     "start_time": "2022-01-07T18:52:52.798131",
     "status": "completed"
    },
    "tags": []
   },
   "outputs": [
    {
     "name": "stdout",
     "output_type": "stream",
     "text": [
      "x and y is of different length\n",
      "610 609\n"
     ]
    },
    {
     "name": "stdout",
     "output_type": "stream",
     "text": [
      "x and y is of different length\n",
      "610 609\n",
      "x and y is of different length\n",
      "610 609\n",
      "x and y is of different length\n",
      "610 609\n",
      "x and y is of different length\n",
      "610 609\n"
     ]
    },
    {
     "data": {
      "text/html": [
       "<div>\n",
       "<style scoped>\n",
       "    .dataframe tbody tr th:only-of-type {\n",
       "        vertical-align: middle;\n",
       "    }\n",
       "\n",
       "    .dataframe tbody tr th {\n",
       "        vertical-align: top;\n",
       "    }\n",
       "\n",
       "    .dataframe thead th {\n",
       "        text-align: right;\n",
       "    }\n",
       "</style>\n",
       "<table border=\"1\" class=\"dataframe\">\n",
       "  <thead>\n",
       "    <tr style=\"text-align: right;\">\n",
       "      <th></th>\n",
       "      <th>A1</th>\n",
       "      <th>A2</th>\n",
       "      <th>diff</th>\n",
       "      <th>stat</th>\n",
       "      <th>p</th>\n",
       "      <th>adj_p</th>\n",
       "    </tr>\n",
       "  </thead>\n",
       "  <tbody>\n",
       "    <tr>\n",
       "      <th>9</th>\n",
       "      <td>IALS</td>\n",
       "      <td>II</td>\n",
       "      <td>0.172900</td>\n",
       "      <td>557.5</td>\n",
       "      <td>2.323135e-86</td>\n",
       "      <td>3.484702e-85</td>\n",
       "    </tr>\n",
       "    <tr>\n",
       "      <th>6</th>\n",
       "      <td>Bias</td>\n",
       "      <td>II</td>\n",
       "      <td>0.067149</td>\n",
       "      <td>564.5</td>\n",
       "      <td>1.716117e-47</td>\n",
       "      <td>2.574176e-46</td>\n",
       "    </tr>\n",
       "    <tr>\n",
       "      <th>2</th>\n",
       "      <td>ALS</td>\n",
       "      <td>II</td>\n",
       "      <td>0.048401</td>\n",
       "      <td>492.0</td>\n",
       "      <td>3.901134e-42</td>\n",
       "      <td>5.851701e-41</td>\n",
       "    </tr>\n",
       "    <tr>\n",
       "      <th>10</th>\n",
       "      <td>IALS</td>\n",
       "      <td>Pop</td>\n",
       "      <td>0.009508</td>\n",
       "      <td>68658.0</td>\n",
       "      <td>1.189532e-01</td>\n",
       "      <td>1.784299e+00</td>\n",
       "    </tr>\n",
       "    <tr>\n",
       "      <th>0</th>\n",
       "      <td>ALS</td>\n",
       "      <td>Bias</td>\n",
       "      <td>-0.018748</td>\n",
       "      <td>23802.5</td>\n",
       "      <td>4.272543e-03</td>\n",
       "      <td>6.408815e-02</td>\n",
       "    </tr>\n",
       "    <tr>\n",
       "      <th>7</th>\n",
       "      <td>Bias</td>\n",
       "      <td>Pop</td>\n",
       "      <td>-0.096243</td>\n",
       "      <td>18253.0</td>\n",
       "      <td>7.131906e-38</td>\n",
       "      <td>1.069786e-36</td>\n",
       "    </tr>\n",
       "    <tr>\n",
       "      <th>5</th>\n",
       "      <td>Bias</td>\n",
       "      <td>IALS</td>\n",
       "      <td>-0.105751</td>\n",
       "      <td>26121.5</td>\n",
       "      <td>1.070153e-38</td>\n",
       "      <td>1.605230e-37</td>\n",
       "    </tr>\n",
       "    <tr>\n",
       "      <th>3</th>\n",
       "      <td>ALS</td>\n",
       "      <td>Pop</td>\n",
       "      <td>-0.114991</td>\n",
       "      <td>16072.5</td>\n",
       "      <td>2.345328e-43</td>\n",
       "      <td>3.517992e-42</td>\n",
       "    </tr>\n",
       "    <tr>\n",
       "      <th>1</th>\n",
       "      <td>ALS</td>\n",
       "      <td>IALS</td>\n",
       "      <td>-0.124499</td>\n",
       "      <td>21474.5</td>\n",
       "      <td>5.532428e-45</td>\n",
       "      <td>8.298642e-44</td>\n",
       "    </tr>\n",
       "    <tr>\n",
       "      <th>12</th>\n",
       "      <td>II</td>\n",
       "      <td>Pop</td>\n",
       "      <td>-0.163392</td>\n",
       "      <td>630.5</td>\n",
       "      <td>7.563555e-77</td>\n",
       "      <td>1.134533e-75</td>\n",
       "    </tr>\n",
       "    <tr>\n",
       "      <th>4</th>\n",
       "      <td>ALS</td>\n",
       "      <td>UU</td>\n",
       "      <td>NaN</td>\n",
       "      <td>NaN</td>\n",
       "      <td>NaN</td>\n",
       "      <td>NaN</td>\n",
       "    </tr>\n",
       "    <tr>\n",
       "      <th>8</th>\n",
       "      <td>Bias</td>\n",
       "      <td>UU</td>\n",
       "      <td>NaN</td>\n",
       "      <td>NaN</td>\n",
       "      <td>NaN</td>\n",
       "      <td>NaN</td>\n",
       "    </tr>\n",
       "    <tr>\n",
       "      <th>11</th>\n",
       "      <td>IALS</td>\n",
       "      <td>UU</td>\n",
       "      <td>NaN</td>\n",
       "      <td>NaN</td>\n",
       "      <td>NaN</td>\n",
       "      <td>NaN</td>\n",
       "    </tr>\n",
       "    <tr>\n",
       "      <th>13</th>\n",
       "      <td>II</td>\n",
       "      <td>UU</td>\n",
       "      <td>NaN</td>\n",
       "      <td>NaN</td>\n",
       "      <td>NaN</td>\n",
       "      <td>NaN</td>\n",
       "    </tr>\n",
       "    <tr>\n",
       "      <th>14</th>\n",
       "      <td>Pop</td>\n",
       "      <td>UU</td>\n",
       "      <td>NaN</td>\n",
       "      <td>NaN</td>\n",
       "      <td>NaN</td>\n",
       "      <td>NaN</td>\n",
       "    </tr>\n",
       "  </tbody>\n",
       "</table>\n",
       "</div>"
      ],
      "text/plain": [
       "      A1    A2      diff     stat             p         adj_p\n",
       "9   IALS    II  0.172900    557.5  2.323135e-86  3.484702e-85\n",
       "6   Bias    II  0.067149    564.5  1.716117e-47  2.574176e-46\n",
       "2    ALS    II  0.048401    492.0  3.901134e-42  5.851701e-41\n",
       "10  IALS   Pop  0.009508  68658.0  1.189532e-01  1.784299e+00\n",
       "0    ALS  Bias -0.018748  23802.5  4.272543e-03  6.408815e-02\n",
       "7   Bias   Pop -0.096243  18253.0  7.131906e-38  1.069786e-36\n",
       "5   Bias  IALS -0.105751  26121.5  1.070153e-38  1.605230e-37\n",
       "3    ALS   Pop -0.114991  16072.5  2.345328e-43  3.517992e-42\n",
       "1    ALS  IALS -0.124499  21474.5  5.532428e-45  8.298642e-44\n",
       "12    II   Pop -0.163392    630.5  7.563555e-77  1.134533e-75\n",
       "4    ALS    UU       NaN      NaN           NaN           NaN\n",
       "8   Bias    UU       NaN      NaN           NaN           NaN\n",
       "11  IALS    UU       NaN      NaN           NaN           NaN\n",
       "13    II    UU       NaN      NaN           NaN           NaN\n",
       "14   Pop    UU       NaN      NaN           NaN           NaN"
      ]
     },
     "execution_count": 25,
     "metadata": {},
     "output_type": "execute_result"
    }
   ],
   "source": [
    "am_wilcox('recip_rank').sort_values('diff', ascending=False)"
   ]
  },
  {
   "cell_type": "markdown",
   "id": "ee2ed52e",
   "metadata": {
    "papermill": {
     "duration": 0.078143,
     "end_time": "2022-01-07T18:52:53.079385",
     "exception": false,
     "start_time": "2022-01-07T18:52:53.001242",
     "status": "completed"
    },
    "tags": []
   },
   "source": [
    "## Prediction RMSE\n",
    "\n",
    "We will also look at the prediction RMSE."
   ]
  },
  {
   "cell_type": "code",
   "execution_count": 26,
   "id": "b4b82ed9",
   "metadata": {
    "execution": {
     "iopub.execute_input": "2022-01-07T18:52:53.188755Z",
     "iopub.status.busy": "2022-01-07T18:52:53.188755Z",
     "iopub.status.idle": "2022-01-07T18:52:55.922914Z",
     "shell.execute_reply": "2022-01-07T18:52:55.922914Z"
    },
    "papermill": {
     "duration": 2.796656,
     "end_time": "2022-01-07T18:52:55.922914",
     "exception": false,
     "start_time": "2022-01-07T18:52:53.126258",
     "status": "completed"
    },
    "tags": []
   },
   "outputs": [],
   "source": [
    "user_rmse = preds.groupby(['algorithm', 'user']).apply(lambda df: rmse(df['prediction'], df['rating']))\n",
    "user_rmse = user_rmse.reset_index(name='RMSE')"
   ]
  },
  {
   "cell_type": "code",
   "execution_count": 27,
   "id": "0f8ab9d3",
   "metadata": {
    "execution": {
     "iopub.execute_input": "2022-01-07T18:52:56.063548Z",
     "iopub.status.busy": "2022-01-07T18:52:56.047906Z",
     "iopub.status.idle": "2022-01-07T18:52:56.500999Z",
     "shell.execute_reply": "2022-01-07T18:52:56.500999Z"
    },
    "papermill": {
     "duration": 0.531213,
     "end_time": "2022-01-07T18:52:56.500999",
     "exception": false,
     "start_time": "2022-01-07T18:52:55.969786",
     "status": "completed"
    },
    "tags": []
   },
   "outputs": [
    {
     "data": {
      "text/plain": [
       "<seaborn.axisgrid.FacetGrid at 0x272a3f89430>"
      ]
     },
     "execution_count": 27,
     "metadata": {},
     "output_type": "execute_result"
    },
    {
     "data": {
      "image/png": "[encoded data removed]",
      "text/plain": [
       "<Figure size 360x360 with 1 Axes>"
      ]
     },
     "metadata": {
      "needs_background": "light"
     },
     "output_type": "display_data"
    }
   ],
   "source": [
    "sns.catplot(x='algorithm', y='RMSE', data=user_rmse, kind='bar')"
   ]
  },
  {
   "cell_type": "code",
   "execution_count": null,
   "id": "21300454",
   "metadata": {
    "papermill": {
     "duration": 0.062471,
     "end_time": "2022-01-07T18:52:56.625993",
     "exception": false,
     "start_time": "2022-01-07T18:52:56.563522",
     "status": "completed"
    },
    "tags": []
   },
   "outputs": [],
   "source": []
  }
 ],
 "metadata": {
  "kernelspec": {
   "display_name": "Python 3",
   "language": "python",
   "name": "python3"
  },
  "language_info": {
   "codemirror_mode": {
    "name": "ipython",
    "version": 3
   },
   "file_extension": ".py",
   "mimetype": "text/x-python",
   "name": "python",
   "nbconvert_exporter": "python",
   "pygments_lexer": "ipython3",
   "version": "3.9.9"
  },
  "papermill": {
   "default_parameters": {},
   "duration": 17.451174,
   "end_time": "2022-01-07T18:52:57.125958",
   "environment_variables": {},
   "exception": null,
   "input_path": "eval-report.ipynb",
   "output_path": "eval-report.mlsmall.ipynb",
   "parameters": {
    "dataset": "mlsmall"
   },
   "start_time": "2022-01-07T18:52:39.674784",
   "version": "2.3.3"
  }
 },
 "nbformat": 4,
 "nbformat_minor": 5
}