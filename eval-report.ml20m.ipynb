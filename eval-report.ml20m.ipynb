{
 "cells": [
  {
   "cell_type": "markdown",
   "id": "fec4ca2f",
   "metadata": {
    "papermill": {
     "duration": 0.046897,
     "end_time": "2022-01-08T13:05:56.460049",
     "exception": false,
     "start_time": "2022-01-08T13:05:56.413152",
     "status": "completed"
    },
    "tags": []
   },
   "source": [
    "# Evaluation Analysis for Recommender Output"
   ]
  },
  {
   "cell_type": "markdown",
   "id": "590074f1",
   "metadata": {
    "papermill": {
     "duration": 0.046871,
     "end_time": "2022-01-08T13:05:56.538169",
     "exception": false,
     "start_time": "2022-01-08T13:05:56.491298",
     "status": "completed"
    },
    "tags": []
   },
   "source": [
    "In this section we will analyze and compare the generated recommendations and predictions from a predefined list of algorithms with the goal of assessing the performance of each algorithm with respect to a metric. In other words, we would rank the algorithms for each metric considered with respect to performance."
   ]
  },
  {
   "cell_type": "markdown",
   "id": "0442b3f7",
   "metadata": {
    "papermill": {
     "duration": 0.031247,
     "end_time": "2022-01-08T13:05:56.600664",
     "exception": false,
     "start_time": "2022-01-08T13:05:56.569417",
     "status": "completed"
    },
    "tags": []
   },
   "source": [
    "# Setup"
   ]
  },
  {
   "cell_type": "markdown",
   "id": "cd61cde9",
   "metadata": {
    "papermill": {
     "duration": 0.046873,
     "end_time": "2022-01-08T13:05:56.678785",
     "exception": false,
     "start_time": "2022-01-08T13:05:56.631912",
     "status": "completed"
    },
    "tags": []
   },
   "source": [
    "Below are the list of packages required to successfully run the analysis. They are divided into partitions to signify their specific task.<br>\n",
    "We need the pathlib package for working with files and folders"
   ]
  },
  {
   "cell_type": "code",
   "execution_count": 1,
   "id": "b69d65d2",
   "metadata": {
    "execution": {
     "iopub.execute_input": "2022-01-08T13:05:56.756899Z",
     "iopub.status.busy": "2022-01-08T13:05:56.756899Z",
     "iopub.status.idle": "2022-01-08T13:05:56.772525Z",
     "shell.execute_reply": "2022-01-08T13:05:56.772525Z"
    },
    "papermill": {
     "duration": 0.062498,
     "end_time": "2022-01-08T13:05:56.772525",
     "exception": false,
     "start_time": "2022-01-08T13:05:56.710027",
     "status": "completed"
    },
    "tags": []
   },
   "outputs": [],
   "source": [
    "from pathlib import Path"
   ]
  },
  {
   "cell_type": "markdown",
   "id": "6feec348",
   "metadata": {
    "papermill": {
     "duration": 0.046871,
     "end_time": "2022-01-08T13:05:56.866266",
     "exception": false,
     "start_time": "2022-01-08T13:05:56.819395",
     "status": "completed"
    },
    "tags": []
   },
   "source": [
    "We would use the pandas for analyzing and manipulating our data while seaborn and matplotlib are used for data visualization. statsmodels.graphics.gofplots and scipy.stats.shapiro are used for normality check. Scipy.stats.friedmanchisquare is a non-parametric test used to determine the statistical significance in metric results and the wilcoxon test is used for pairwise comparison of sample data."
   ]
  },
  {
   "cell_type": "code",
   "execution_count": 2,
   "id": "830e7418",
   "metadata": {
    "execution": {
     "iopub.execute_input": "2022-01-08T13:05:56.928764Z",
     "iopub.status.busy": "2022-01-08T13:05:56.928764Z",
     "iopub.status.idle": "2022-01-08T13:06:00.162993Z",
     "shell.execute_reply": "2022-01-08T13:06:00.162993Z"
    },
    "papermill": {
     "duration": 3.265477,
     "end_time": "2022-01-08T13:06:00.162993",
     "exception": false,
     "start_time": "2022-01-08T13:05:56.897516",
     "status": "completed"
    },
    "tags": []
   },
   "outputs": [],
   "source": [
    "import pandas as pd\n",
    "import seaborn as sns\n",
    "import matplotlib.pyplot as plt\n",
    "from statsmodels.graphics.gofplots import qqplot\n",
    "from scipy.stats import shapiro\n",
    "from scipy.stats import friedmanchisquare, wilcoxon\n",
    "from itertools import combinations"
   ]
  },
  {
   "cell_type": "markdown",
   "id": "153df805",
   "metadata": {
    "papermill": {
     "duration": 0.062524,
     "end_time": "2022-01-08T13:06:00.272348",
     "exception": false,
     "start_time": "2022-01-08T13:06:00.209824",
     "status": "completed"
    },
    "tags": []
   },
   "source": [
    "Logging to show what's happening in LensKit routines:"
   ]
  },
  {
   "cell_type": "code",
   "execution_count": 3,
   "id": "760a8933",
   "metadata": {
    "execution": {
     "iopub.execute_input": "2022-01-08T13:06:00.350442Z",
     "iopub.status.busy": "2022-01-08T13:06:00.350442Z",
     "iopub.status.idle": "2022-01-08T13:06:00.412964Z",
     "shell.execute_reply": "2022-01-08T13:06:00.412964Z"
    },
    "papermill": {
     "duration": 0.109369,
     "end_time": "2022-01-08T13:06:00.412964",
     "exception": false,
     "start_time": "2022-01-08T13:06:00.303595",
     "status": "completed"
    },
    "tags": []
   },
   "outputs": [
    {
     "name": "stdout",
     "output_type": "stream",
     "text": [
      "[   INFO] lenskit.util.log notebook logging configured\n"
     ]
    }
   ],
   "source": [
    "from lenskit import util\n",
    "util.log_to_notebook()"
   ]
  },
  {
   "cell_type": "markdown",
   "id": "794d07e7",
   "metadata": {
    "papermill": {
     "duration": 0.046896,
     "end_time": "2022-01-08T13:06:00.522330",
     "exception": false,
     "start_time": "2022-01-08T13:06:00.475434",
     "status": "completed"
    },
    "tags": []
   },
   "source": [
    "We will use lenskit for training, running, and evaluating recommender algorithms"
   ]
  },
  {
   "cell_type": "code",
   "execution_count": 4,
   "id": "b26746ad",
   "metadata": {
    "execution": {
     "iopub.execute_input": "2022-01-08T13:06:00.600450Z",
     "iopub.status.busy": "2022-01-08T13:06:00.600450Z",
     "iopub.status.idle": "2022-01-08T13:06:00.616075Z",
     "shell.execute_reply": "2022-01-08T13:06:00.616075Z"
    },
    "papermill": {
     "duration": 0.062496,
     "end_time": "2022-01-08T13:06:00.616075",
     "exception": false,
     "start_time": "2022-01-08T13:06:00.553579",
     "status": "completed"
    },
    "tags": []
   },
   "outputs": [],
   "source": [
    "from lenskit import topn\n",
    "from lenskit.metrics.predict import rmse"
   ]
  },
  {
   "cell_type": "markdown",
   "id": "65b2909a",
   "metadata": {
    "papermill": {
     "duration": 0.062497,
     "end_time": "2022-01-08T13:06:00.725418",
     "exception": false,
     "start_time": "2022-01-08T13:06:00.662921",
     "status": "completed"
    },
    "tags": []
   },
   "source": [
    "# Load Data"
   ]
  },
  {
   "cell_type": "markdown",
   "id": "83f980ce",
   "metadata": {
    "papermill": {
     "duration": 0.031249,
     "end_time": "2022-01-08T13:06:00.787940",
     "exception": false,
     "start_time": "2022-01-08T13:06:00.756691",
     "status": "completed"
    },
    "tags": []
   },
   "source": [
    "We specify the dataset we will use for our analysis and the main directory from where we read the recommendation and prediction files. From the main directory we find all the directories associated with the dataset and then read the recommendation and predictions files from those directories."
   ]
  },
  {
   "cell_type": "code",
   "execution_count": 5,
   "id": "f6c9d888",
   "metadata": {
    "execution": {
     "iopub.execute_input": "2022-01-08T13:06:00.881684Z",
     "iopub.status.busy": "2022-01-08T13:06:00.866059Z",
     "iopub.status.idle": "2022-01-08T13:06:00.881684Z",
     "shell.execute_reply": "2022-01-08T13:06:00.881684Z"
    },
    "papermill": {
     "duration": 0.046872,
     "end_time": "2022-01-08T13:06:00.881684",
     "exception": false,
     "start_time": "2022-01-08T13:06:00.834812",
     "status": "completed"
    },
    "tags": [
     "parameters"
    ]
   },
   "outputs": [],
   "source": [
    "dataset = \"ml10m\""
   ]
  },
  {
   "cell_type": "code",
   "execution_count": 6,
   "id": "b0542d4e",
   "metadata": {
    "execution": {
     "iopub.execute_input": "2022-01-08T13:06:00.959778Z",
     "iopub.status.busy": "2022-01-08T13:06:00.959778Z",
     "iopub.status.idle": "2022-01-08T13:06:00.975403Z",
     "shell.execute_reply": "2022-01-08T13:06:00.975403Z"
    },
    "papermill": {
     "duration": 0.046873,
     "end_time": "2022-01-08T13:06:00.975403",
     "exception": false,
     "start_time": "2022-01-08T13:06:00.928530",
     "status": "completed"
    },
    "tags": [
     "injected-parameters"
    ]
   },
   "outputs": [],
   "source": [
    "# Parameters\n",
    "dataset = \"ml20m\"\n"
   ]
  },
  {
   "cell_type": "code",
   "execution_count": 7,
   "id": "ef480ad8",
   "metadata": {
    "execution": {
     "iopub.execute_input": "2022-01-08T13:06:01.053522Z",
     "iopub.status.busy": "2022-01-08T13:06:01.053522Z",
     "iopub.status.idle": "2022-01-08T13:06:01.069172Z",
     "shell.execute_reply": "2022-01-08T13:06:01.069172Z"
    },
    "papermill": {
     "duration": 0.062523,
     "end_time": "2022-01-08T13:06:01.069172",
     "exception": false,
     "start_time": "2022-01-08T13:06:01.006649",
     "status": "completed"
    },
    "tags": []
   },
   "outputs": [],
   "source": [
    "output_root = Path(\"runs\")"
   ]
  },
  {
   "cell_type": "code",
   "execution_count": 8,
   "id": "9b87da77",
   "metadata": {
    "execution": {
     "iopub.execute_input": "2022-01-08T13:06:01.178541Z",
     "iopub.status.busy": "2022-01-08T13:06:01.178541Z",
     "iopub.status.idle": "2022-01-08T13:06:01.194168Z",
     "shell.execute_reply": "2022-01-08T13:06:01.194168Z"
    },
    "papermill": {
     "duration": 0.078123,
     "end_time": "2022-01-08T13:06:01.194168",
     "exception": false,
     "start_time": "2022-01-08T13:06:01.116045",
     "status": "completed"
    },
    "tags": []
   },
   "outputs": [],
   "source": [
    "dirs = [fld for fld in output_root.glob(f'{dataset}-*')]"
   ]
  },
  {
   "cell_type": "code",
   "execution_count": 9,
   "id": "628a4ce0",
   "metadata": {
    "execution": {
     "iopub.execute_input": "2022-01-08T13:06:01.303508Z",
     "iopub.status.busy": "2022-01-08T13:06:01.303508Z",
     "iopub.status.idle": "2022-01-08T13:07:11.549186Z",
     "shell.execute_reply": "2022-01-08T13:07:11.549186Z"
    },
    "papermill": {
     "duration": 70.308175,
     "end_time": "2022-01-08T13:07:11.549186",
     "exception": false,
     "start_time": "2022-01-08T13:06:01.241011",
     "status": "completed"
    },
    "tags": []
   },
   "outputs": [
    {
     "name": "stdout",
     "output_type": "stream",
     "text": [
      "<class 'pandas.core.frame.DataFrame'>\n",
      "RangeIndex: 83086200 entries, 0 to 83086199\n",
      "Data columns (total 5 columns):\n",
      " #   Column     Dtype   \n",
      "---  ------     -----   \n",
      " 0   item       int64   \n",
      " 1   score      float64 \n",
      " 2   user       int64   \n",
      " 3   rank       int64   \n",
      " 4   algorithm  category\n",
      "dtypes: category(1), float64(1), int64(3)\n",
      "memory usage: 2.6 GB\n"
     ]
    }
   ],
   "source": [
    "recs = []\n",
    "for fld in dirs: \n",
    "    for file in fld.glob(\"recs-*\"):\n",
    "        rec = pd.read_csv(file, sep=',')\n",
    "        rec[\"algorithm\"] = fld.name.split(\"-\")[1]\n",
    "        recs.append(rec)\n",
    "\n",
    "recs = pd.concat(recs, ignore_index=True)\n",
    "recs = recs.astype({'algorithm': 'category'})\n",
    "recs.info()"
   ]
  },
  {
   "cell_type": "code",
   "execution_count": 10,
   "id": "e5243f9c",
   "metadata": {
    "execution": {
     "iopub.execute_input": "2022-01-08T13:07:11.627324Z",
     "iopub.status.busy": "2022-01-08T13:07:11.627324Z",
     "iopub.status.idle": "2022-01-08T13:07:12.455382Z",
     "shell.execute_reply": "2022-01-08T13:07:12.455382Z"
    },
    "papermill": {
     "duration": 0.874929,
     "end_time": "2022-01-08T13:07:12.455382",
     "exception": false,
     "start_time": "2022-01-08T13:07:11.580453",
     "status": "completed"
    },
    "tags": []
   },
   "outputs": [
    {
     "data": {
      "text/plain": [
       "['ALS', 'Bias', 'IALS', 'II', 'Pop', 'UU']\n",
       "Categories (6, object): ['ALS', 'Bias', 'IALS', 'II', 'Pop', 'UU']"
      ]
     },
     "execution_count": 10,
     "metadata": {},
     "output_type": "execute_result"
    }
   ],
   "source": [
    "rec_algos = recs['algorithm'].unique()\n",
    "rec_algos"
   ]
  },
  {
   "cell_type": "code",
   "execution_count": 11,
   "id": "030744e1",
   "metadata": {
    "execution": {
     "iopub.execute_input": "2022-01-08T13:07:12.533500Z",
     "iopub.status.busy": "2022-01-08T13:07:12.533500Z",
     "iopub.status.idle": "2022-01-08T13:07:17.512134Z",
     "shell.execute_reply": "2022-01-08T13:07:17.512134Z"
    },
    "papermill": {
     "duration": 5.025506,
     "end_time": "2022-01-08T13:07:17.512134",
     "exception": false,
     "start_time": "2022-01-08T13:07:12.486628",
     "status": "completed"
    },
    "tags": []
   },
   "outputs": [
    {
     "name": "stdout",
     "output_type": "stream",
     "text": [
      "<class 'pandas.core.frame.DataFrame'>\n",
      "RangeIndex: 3462325 entries, 0 to 3462324\n",
      "Data columns (total 6 columns):\n",
      " #   Column      Dtype   \n",
      "---  ------      -----   \n",
      " 0   user        int64   \n",
      " 1   item        int64   \n",
      " 2   rating      float64 \n",
      " 3   timestamp   int64   \n",
      " 4   prediction  float64 \n",
      " 5   algorithm   category\n",
      "dtypes: category(1), float64(2), int64(3)\n",
      "memory usage: 135.4 MB\n"
     ]
    }
   ],
   "source": [
    "preds = []\n",
    "for fld in dirs:\n",
    "    for file in fld.glob(\"pred-*\"):\n",
    "        pred = pd.read_csv(file, sep=',')\n",
    "        pred[\"algorithm\"] = fld.name.split(\"-\")[1]\n",
    "        preds.append(pred)\n",
    "\n",
    "preds = pd.concat(preds, ignore_index=True)\n",
    "preds = preds.astype({'algorithm': 'category'})\n",
    "preds.info()"
   ]
  },
  {
   "cell_type": "markdown",
   "id": "db8d3aa9",
   "metadata": {
    "papermill": {
     "duration": 0.03127,
     "end_time": "2022-01-08T13:07:17.584116",
     "exception": false,
     "start_time": "2022-01-08T13:07:17.552846",
     "status": "completed"
    },
    "tags": []
   },
   "source": [
    "We need to load the test data so that we have the ground truths for computing accuracy "
   ]
  },
  {
   "cell_type": "code",
   "execution_count": 12,
   "id": "4f79217a",
   "metadata": {
    "execution": {
     "iopub.execute_input": "2022-01-08T13:07:17.662234Z",
     "iopub.status.busy": "2022-01-08T13:07:17.662234Z",
     "iopub.status.idle": "2022-01-08T13:07:17.677860Z",
     "shell.execute_reply": "2022-01-08T13:07:17.677860Z"
    },
    "papermill": {
     "duration": 0.046873,
     "end_time": "2022-01-08T13:07:17.677860",
     "exception": false,
     "start_time": "2022-01-08T13:07:17.630987",
     "status": "completed"
    },
    "tags": []
   },
   "outputs": [],
   "source": [
    "split_root = Path(\"data-split\")\n",
    "split_dir = split_root / dataset"
   ]
  },
  {
   "cell_type": "code",
   "execution_count": 13,
   "id": "9cc35134",
   "metadata": {
    "execution": {
     "iopub.execute_input": "2022-01-08T13:07:17.755979Z",
     "iopub.status.busy": "2022-01-08T13:07:17.755979Z",
     "iopub.status.idle": "2022-01-08T13:07:18.490292Z",
     "shell.execute_reply": "2022-01-08T13:07:18.490292Z"
    },
    "papermill": {
     "duration": 0.781184,
     "end_time": "2022-01-08T13:07:18.490292",
     "exception": false,
     "start_time": "2022-01-08T13:07:17.709108",
     "status": "completed"
    },
    "tags": []
   },
   "outputs": [],
   "source": [
    "test = []\n",
    "for file in split_dir.glob(\"test-*.csv.gz\"):\n",
    "    test.append(pd.read_csv(file, sep=','))\n",
    "\n",
    "test = pd.concat(test, ignore_index=True)"
   ]
  },
  {
   "cell_type": "markdown",
   "id": "98c6e505",
   "metadata": {
    "papermill": {
     "duration": 0.04689,
     "end_time": "2022-01-08T13:07:18.568429",
     "exception": false,
     "start_time": "2022-01-08T13:07:18.521539",
     "status": "completed"
    },
    "tags": []
   },
   "source": [
    "# Top-N Metrics"
   ]
  },
  {
   "cell_type": "markdown",
   "id": "2f192011",
   "metadata": {
    "papermill": {
     "duration": 0.031247,
     "end_time": "2022-01-08T13:07:18.630925",
     "exception": false,
     "start_time": "2022-01-08T13:07:18.599678",
     "status": "completed"
    },
    "tags": []
   },
   "source": [
    "The topn.RecListAnalysis class computes top-N metrics for recommendation list and takes care of making sure that the recommendations and ground truths are properly matched. Refer to the documentation for detailed explanation of the purpose for the RecListAnalysis class and how the analysis is done - https://lkpy.lenskit.org/en/stable/evaluation/topn-metrics.html "
   ]
  },
  {
   "cell_type": "code",
   "execution_count": 14,
   "id": "4c3168ae",
   "metadata": {
    "execution": {
     "iopub.execute_input": "2022-01-08T13:07:18.724652Z",
     "iopub.status.busy": "2022-01-08T13:07:18.724652Z",
     "iopub.status.idle": "2022-01-08T13:09:37.934841Z",
     "shell.execute_reply": "2022-01-08T13:09:37.934841Z"
    },
    "papermill": {
     "duration": 139.257061,
     "end_time": "2022-01-08T13:09:37.934841",
     "exception": false,
     "start_time": "2022-01-08T13:07:18.677780",
     "status": "completed"
    },
    "tags": []
   },
   "outputs": [
    {
     "name": "stdout",
     "output_type": "stream",
     "text": [
      "[   INFO] lenskit.topn analyzing 83086200 recommendations (692465 truth rows)\n",
      "[   INFO] lenskit.topn using rec key columns ['algorithm', 'user']\n",
      "[   INFO] lenskit.topn using truth key columns ['user']\n",
      "[   INFO] lenskit.topn numbering truth lists\n",
      "[   INFO] lenskit.topn numbering rec lists\n",
      "[   INFO] lenskit.topn collecting metric results\n",
      "[   INFO] lenskit.topn measured 830862 lists in 1m45.95s\n",
      "[   INFO] lenskit.topn filling in missing user info (830862 initial rows)\n"
     ]
    },
    {
     "data": {
      "text/html": [
       "<div>\n",
       "<style scoped>\n",
       "    .dataframe tbody tr th:only-of-type {\n",
       "        vertical-align: middle;\n",
       "    }\n",
       "\n",
       "    .dataframe tbody tr th {\n",
       "        vertical-align: top;\n",
       "    }\n",
       "\n",
       "    .dataframe thead th {\n",
       "        text-align: right;\n",
       "    }\n",
       "</style>\n",
       "<table border=\"1\" class=\"dataframe\">\n",
       "  <thead>\n",
       "    <tr style=\"text-align: right;\">\n",
       "      <th></th>\n",
       "      <th></th>\n",
       "      <th>nrecs</th>\n",
       "      <th>precision</th>\n",
       "      <th>recip_rank</th>\n",
       "      <th>ndcg</th>\n",
       "      <th>ntruth</th>\n",
       "    </tr>\n",
       "    <tr>\n",
       "      <th>algorithm</th>\n",
       "      <th>user</th>\n",
       "      <th></th>\n",
       "      <th></th>\n",
       "      <th></th>\n",
       "      <th></th>\n",
       "      <th></th>\n",
       "    </tr>\n",
       "  </thead>\n",
       "  <tbody>\n",
       "    <tr>\n",
       "      <th rowspan=\"5\" valign=\"top\">ALS</th>\n",
       "      <th>6</th>\n",
       "      <td>100.0</td>\n",
       "      <td>0.01</td>\n",
       "      <td>0.018868</td>\n",
       "      <td>0.053730</td>\n",
       "      <td>5</td>\n",
       "    </tr>\n",
       "    <tr>\n",
       "      <th>9</th>\n",
       "      <td>100.0</td>\n",
       "      <td>0.00</td>\n",
       "      <td>0.000000</td>\n",
       "      <td>0.000000</td>\n",
       "      <td>5</td>\n",
       "    </tr>\n",
       "    <tr>\n",
       "      <th>12</th>\n",
       "      <td>100.0</td>\n",
       "      <td>0.00</td>\n",
       "      <td>0.000000</td>\n",
       "      <td>0.000000</td>\n",
       "      <td>5</td>\n",
       "    </tr>\n",
       "    <tr>\n",
       "      <th>15</th>\n",
       "      <td>100.0</td>\n",
       "      <td>0.01</td>\n",
       "      <td>0.012821</td>\n",
       "      <td>0.044671</td>\n",
       "      <td>5</td>\n",
       "    </tr>\n",
       "    <tr>\n",
       "      <th>20</th>\n",
       "      <td>100.0</td>\n",
       "      <td>0.00</td>\n",
       "      <td>0.000000</td>\n",
       "      <td>0.000000</td>\n",
       "      <td>5</td>\n",
       "    </tr>\n",
       "  </tbody>\n",
       "</table>\n",
       "</div>"
      ],
      "text/plain": [
       "                nrecs  precision  recip_rank      ndcg  ntruth\n",
       "algorithm user                                                \n",
       "ALS       6     100.0       0.01    0.018868  0.053730       5\n",
       "          9     100.0       0.00    0.000000  0.000000       5\n",
       "          12    100.0       0.00    0.000000  0.000000       5\n",
       "          15    100.0       0.01    0.012821  0.044671       5\n",
       "          20    100.0       0.00    0.000000  0.000000       5"
      ]
     },
     "execution_count": 14,
     "metadata": {},
     "output_type": "execute_result"
    }
   ],
   "source": [
    "rla = topn.RecListAnalysis()\n",
    "rla.add_metric(topn.precision)\n",
    "rla.add_metric(topn.recip_rank)\n",
    "rla.add_metric(topn.ndcg)\n",
    "results = rla.compute(recs, test, include_missing=True)\n",
    "results = results.fillna(0)\n",
    "results.head()"
   ]
  },
  {
   "cell_type": "markdown",
   "id": "14a4a932",
   "metadata": {
    "papermill": {
     "duration": 0.046872,
     "end_time": "2022-01-08T13:09:38.012961",
     "exception": false,
     "start_time": "2022-01-08T13:09:37.966089",
     "status": "completed"
    },
    "tags": []
   },
   "source": [
    "We will reshape the 'results' dataframe by stacking the columns to index and then use the bar chart to visualize the performance of our algorithms with respect to the precision, reciprocal rank and ndcg metrics"
   ]
  },
  {
   "cell_type": "code",
   "execution_count": 15,
   "id": "a79db1f4",
   "metadata": {
    "execution": {
     "iopub.execute_input": "2022-01-08T13:09:38.122330Z",
     "iopub.status.busy": "2022-01-08T13:09:38.122330Z",
     "iopub.status.idle": "2022-01-08T13:09:38.372340Z",
     "shell.execute_reply": "2022-01-08T13:09:38.372340Z"
    },
    "papermill": {
     "duration": 0.312507,
     "end_time": "2022-01-08T13:09:38.372340",
     "exception": false,
     "start_time": "2022-01-08T13:09:38.059833",
     "status": "completed"
    },
    "tags": []
   },
   "outputs": [
    {
     "data": {
      "text/html": [
       "<div>\n",
       "<style scoped>\n",
       "    .dataframe tbody tr th:only-of-type {\n",
       "        vertical-align: middle;\n",
       "    }\n",
       "\n",
       "    .dataframe tbody tr th {\n",
       "        vertical-align: top;\n",
       "    }\n",
       "\n",
       "    .dataframe thead th {\n",
       "        text-align: right;\n",
       "    }\n",
       "</style>\n",
       "<table border=\"1\" class=\"dataframe\">\n",
       "  <thead>\n",
       "    <tr style=\"text-align: right;\">\n",
       "      <th></th>\n",
       "      <th>algorithm</th>\n",
       "      <th>user</th>\n",
       "      <th>metric</th>\n",
       "      <th>val</th>\n",
       "    </tr>\n",
       "  </thead>\n",
       "  <tbody>\n",
       "    <tr>\n",
       "      <th>0</th>\n",
       "      <td>ALS</td>\n",
       "      <td>6</td>\n",
       "      <td>precision</td>\n",
       "      <td>0.010000</td>\n",
       "    </tr>\n",
       "    <tr>\n",
       "      <th>1</th>\n",
       "      <td>ALS</td>\n",
       "      <td>6</td>\n",
       "      <td>recip_rank</td>\n",
       "      <td>0.018868</td>\n",
       "    </tr>\n",
       "    <tr>\n",
       "      <th>2</th>\n",
       "      <td>ALS</td>\n",
       "      <td>6</td>\n",
       "      <td>ndcg</td>\n",
       "      <td>0.053730</td>\n",
       "    </tr>\n",
       "    <tr>\n",
       "      <th>3</th>\n",
       "      <td>ALS</td>\n",
       "      <td>9</td>\n",
       "      <td>precision</td>\n",
       "      <td>0.000000</td>\n",
       "    </tr>\n",
       "    <tr>\n",
       "      <th>4</th>\n",
       "      <td>ALS</td>\n",
       "      <td>9</td>\n",
       "      <td>recip_rank</td>\n",
       "      <td>0.000000</td>\n",
       "    </tr>\n",
       "  </tbody>\n",
       "</table>\n",
       "</div>"
      ],
      "text/plain": [
       "  algorithm  user      metric       val\n",
       "0       ALS     6   precision  0.010000\n",
       "1       ALS     6  recip_rank  0.018868\n",
       "2       ALS     6        ndcg  0.053730\n",
       "3       ALS     9   precision  0.000000\n",
       "4       ALS     9  recip_rank  0.000000"
      ]
     },
     "execution_count": 15,
     "metadata": {},
     "output_type": "execute_result"
    }
   ],
   "source": [
    "pltData = (results.drop(columns=['nrecs', 'ntruth']).stack()).reset_index()\n",
    "pltData.columns = ['algorithm', 'user', 'metric', 'val']\n",
    "pltData.head()"
   ]
  },
  {
   "cell_type": "markdown",
   "id": "09d922a4",
   "metadata": {
    "papermill": {
     "duration": 0.046874,
     "end_time": "2022-01-08T13:09:38.450453",
     "exception": false,
     "start_time": "2022-01-08T13:09:38.403579",
     "status": "completed"
    },
    "tags": []
   },
   "source": [
    "We need to determine if the differences we observe in the performances of the algorithms for the various metrics are statistically significant. To achieve this, we will need to use either a parametric or non-parametric statistical test for comparing the differences. We will consider a parametric test - repeated ANOVA measure cause our sample groups are correlated."
   ]
  },
  {
   "cell_type": "code",
   "execution_count": 16,
   "id": "e4ae011d",
   "metadata": {
    "execution": {
     "iopub.execute_input": "2022-01-08T13:09:38.544195Z",
     "iopub.status.busy": "2022-01-08T13:09:38.544195Z",
     "iopub.status.idle": "2022-01-08T13:10:23.121610Z",
     "shell.execute_reply": "2022-01-08T13:10:23.121610Z"
    },
    "papermill": {
     "duration": 44.624287,
     "end_time": "2022-01-08T13:10:23.121610",
     "exception": false,
     "start_time": "2022-01-08T13:09:38.497323",
     "status": "completed"
    },
    "tags": []
   },
   "outputs": [
    {
     "data": {
      "image/png": "[encoded data removed]",
      "text/plain": [
       "<Figure size 777.6x216 with 3 Axes>"
      ]
     },
     "metadata": {
      "needs_background": "light"
     },
     "output_type": "display_data"
    }
   ],
   "source": [
    "g = sns.catplot(x = \"algorithm\", y = \"val\", data = pltData, kind=\"bar\", col = \"metric\", aspect=1.2, height=3, sharey=False)"
   ]
  },
  {
   "cell_type": "markdown",
   "id": "0483c33c",
   "metadata": {
    "papermill": {
     "duration": 0.046871,
     "end_time": "2022-01-08T13:10:23.199748",
     "exception": false,
     "start_time": "2022-01-08T13:10:23.152877",
     "status": "completed"
    },
    "tags": []
   },
   "source": [
    "### Statistical Testing"
   ]
  },
  {
   "cell_type": "markdown",
   "id": "3f836edf",
   "metadata": {
    "papermill": {
     "duration": 0.046872,
     "end_time": "2022-01-08T13:10:23.293493",
     "exception": false,
     "start_time": "2022-01-08T13:10:23.246621",
     "status": "completed"
    },
    "tags": []
   },
   "source": [
    "We will now examine these metrics in more detail and test for statistical significance.  Best practice for statistical testing for recommender systems is still a work in progress, but this method avoids most of the validity problems we know about.\n",
    "\n",
    "The Friedman $\\chi^2$ test will test the null hypothesis that there is no difference between algorithms in terms of their performance."
   ]
  },
  {
   "cell_type": "code",
   "execution_count": 17,
   "id": "ca1c50f8",
   "metadata": {
    "execution": {
     "iopub.execute_input": "2022-01-08T13:10:23.387236Z",
     "iopub.status.busy": "2022-01-08T13:10:23.387236Z",
     "iopub.status.idle": "2022-01-08T13:10:23.402862Z",
     "shell.execute_reply": "2022-01-08T13:10:23.402862Z"
    },
    "papermill": {
     "duration": 0.062498,
     "end_time": "2022-01-08T13:10:23.402862",
     "exception": false,
     "start_time": "2022-01-08T13:10:23.340364",
     "status": "completed"
    },
    "tags": []
   },
   "outputs": [],
   "source": [
    "def metric_friedman(metric):\n",
    "    groups = [df[metric] for a, df in results.groupby('algorithm')]\n",
    "    l=[]\n",
    "    for i in groups: \n",
    "        k = len(i)\n",
    "        l.append(k)\n",
    "    if (len(set(l))<=1):\n",
    "        stat, p = friedmanchisquare(*groups)\n",
    "        return pd.Series({'stat': stat, 'p': p}, name=metric)\n",
    "    else:\n",
    "        print('unequal N')"
   ]
  },
  {
   "cell_type": "markdown",
   "id": "00ffa1df",
   "metadata": {
    "papermill": {
     "duration": 0.046873,
     "end_time": "2022-01-08T13:10:23.480982",
     "exception": false,
     "start_time": "2022-01-08T13:10:23.434109",
     "status": "completed"
    },
    "tags": []
   },
   "source": [
    "If the test detects significance, we have at least one pair of different algorithms - but which pairs?  Unfortunately, the good tests aren't readily available in scipy and friends, so we're going to take a conservative approch and perform pairwise Wilconxon signed-rank tests with a Bonferroni adjustment."
   ]
  },
  {
   "cell_type": "code",
   "execution_count": 18,
   "id": "4e1ba742",
   "metadata": {
    "execution": {
     "iopub.execute_input": "2022-01-08T13:10:23.583829Z",
     "iopub.status.busy": "2022-01-08T13:10:23.583829Z",
     "iopub.status.idle": "2022-01-08T13:10:23.583829Z",
     "shell.execute_reply": "2022-01-08T13:10:23.583829Z"
    },
    "papermill": {
     "duration": 0.046875,
     "end_time": "2022-01-08T13:10:23.583829",
     "exception": false,
     "start_time": "2022-01-08T13:10:23.536954",
     "status": "completed"
    },
    "tags": []
   },
   "outputs": [],
   "source": [
    "# pairs = pd.DataFrame.from_records(combinations(rec_algos, 2), columns=['A1', 'A2'])\n",
    "# def am_wilcox(metric, p_scale = len(pairs)):\n",
    "#     def compute(df):\n",
    "#         vs1 = results.loc[df['A1'], metric]\n",
    "#         vs2 = results.loc[df['A2'], metric]\n",
    "#         print(len(vs1))\n",
    "#         print('---')\n",
    "#         print(len(vs2))\n",
    "#         print('---')\n",
    "#         diff = (vs1 - vs2).mean()\n",
    "#         stat, p = wilcoxon(vs1, vs2)\n",
    "#         return pd.Series({'diff': diff, 'stat': stat, 'p': p, 'adj_p': p * p_scale})\n",
    "#     scores = pairs.apply(compute, axis=1)\n",
    "#     return pairs.join(scores)"
   ]
  },
  {
   "cell_type": "code",
   "execution_count": 19,
   "id": "da669d51",
   "metadata": {
    "execution": {
     "iopub.execute_input": "2022-01-08T13:10:23.677573Z",
     "iopub.status.busy": "2022-01-08T13:10:23.677573Z",
     "iopub.status.idle": "2022-01-08T13:10:23.693197Z",
     "shell.execute_reply": "2022-01-08T13:10:23.693197Z"
    },
    "papermill": {
     "duration": 0.07812,
     "end_time": "2022-01-08T13:10:23.693197",
     "exception": false,
     "start_time": "2022-01-08T13:10:23.615077",
     "status": "completed"
    },
    "tags": []
   },
   "outputs": [],
   "source": [
    "pairs = pd.DataFrame.from_records(combinations(rec_algos, 2), columns=['A1', 'A2'])\n",
    "def am_wilcox(metric, p_scale = len(pairs)):\n",
    "    def compute(df):\n",
    "        vs1 = results.loc[df['A1'], metric]\n",
    "        vs2 = results.loc[df['A2'], metric]\n",
    "        if len(vs1)!= len(vs2):\n",
    "            print('x and y is of different length')\n",
    "            print(len(vs1),len(vs2))\n",
    "        if len(vs1)== len(vs2):\n",
    "            diff = (vs1 - vs2).mean()\n",
    "            stat, p = wilcoxon(vs1, vs2)\n",
    "            return pd.Series({'diff': diff, 'stat': stat, 'p': p, 'adj_p': p * p_scale})\n",
    "    scores = pairs.apply(compute, axis=1)\n",
    "    return pairs.join(scores)"
   ]
  },
  {
   "cell_type": "markdown",
   "id": "e4fa3b1b",
   "metadata": {
    "papermill": {
     "duration": 0.062497,
     "end_time": "2022-01-08T13:10:23.802593",
     "exception": false,
     "start_time": "2022-01-08T13:10:23.740096",
     "status": "completed"
    },
    "tags": []
   },
   "source": [
    "## Precision"
   ]
  },
  {
   "cell_type": "code",
   "execution_count": 20,
   "id": "148fbc8f",
   "metadata": {
    "execution": {
     "iopub.execute_input": "2022-01-08T13:10:23.896335Z",
     "iopub.status.busy": "2022-01-08T13:10:23.896335Z",
     "iopub.status.idle": "2022-01-08T13:10:24.052551Z",
     "shell.execute_reply": "2022-01-08T13:10:24.052551Z"
    },
    "papermill": {
     "duration": 0.203088,
     "end_time": "2022-01-08T13:10:24.052551",
     "exception": false,
     "start_time": "2022-01-08T13:10:23.849463",
     "status": "completed"
    },
    "tags": []
   },
   "outputs": [
    {
     "name": "stdout",
     "output_type": "stream",
     "text": [
      "unequal N\n"
     ]
    }
   ],
   "source": [
    "metric_friedman('precision')"
   ]
  },
  {
   "cell_type": "markdown",
   "id": "ca168c39",
   "metadata": {
    "papermill": {
     "duration": 0.046874,
     "end_time": "2022-01-08T13:10:24.161945",
     "exception": false,
     "start_time": "2022-01-08T13:10:24.115071",
     "status": "completed"
    },
    "tags": []
   },
   "source": [
    "This indicates a statistically significant difference exists - but where is it?\n",
    "\n",
    "To answer that question, we need a post-hoc test. "
   ]
  },
  {
   "cell_type": "code",
   "execution_count": 21,
   "id": "9ccc1c81",
   "metadata": {
    "execution": {
     "iopub.execute_input": "2022-01-08T13:10:24.255681Z",
     "iopub.status.busy": "2022-01-08T13:10:24.255681Z",
     "iopub.status.idle": "2022-01-08T13:10:24.865001Z",
     "shell.execute_reply": "2022-01-08T13:10:24.865001Z"
    },
    "papermill": {
     "duration": 0.656191,
     "end_time": "2022-01-08T13:10:24.865001",
     "exception": false,
     "start_time": "2022-01-08T13:10:24.208810",
     "status": "completed"
    },
    "tags": []
   },
   "outputs": [
    {
     "name": "stdout",
     "output_type": "stream",
     "text": [
      "x and y is of different length\n",
      "138493 138397\n",
      "x and y is of different length\n",
      "138493 138397\n",
      "x and y is of different length\n",
      "138493 138397\n",
      "x and y is of different length\n",
      "138493 138397\n",
      "x and y is of different length\n",
      "138493 138397\n"
     ]
    },
    {
     "data": {
      "text/html": [
       "<div>\n",
       "<style scoped>\n",
       "    .dataframe tbody tr th:only-of-type {\n",
       "        vertical-align: middle;\n",
       "    }\n",
       "\n",
       "    .dataframe tbody tr th {\n",
       "        vertical-align: top;\n",
       "    }\n",
       "\n",
       "    .dataframe thead th {\n",
       "        text-align: right;\n",
       "    }\n",
       "</style>\n",
       "<table border=\"1\" class=\"dataframe\">\n",
       "  <thead>\n",
       "    <tr style=\"text-align: right;\">\n",
       "      <th></th>\n",
       "      <th>A1</th>\n",
       "      <th>A2</th>\n",
       "      <th>diff</th>\n",
       "      <th>stat</th>\n",
       "      <th>p</th>\n",
       "      <th>adj_p</th>\n",
       "    </tr>\n",
       "  </thead>\n",
       "  <tbody>\n",
       "    <tr>\n",
       "      <th>9</th>\n",
       "      <td>IALS</td>\n",
       "      <td>II</td>\n",
       "      <td>0.026561</td>\n",
       "      <td>9304851.5</td>\n",
       "      <td>0.0</td>\n",
       "      <td>0.0</td>\n",
       "    </tr>\n",
       "    <tr>\n",
       "      <th>10</th>\n",
       "      <td>IALS</td>\n",
       "      <td>Pop</td>\n",
       "      <td>0.011311</td>\n",
       "      <td>599093493.5</td>\n",
       "      <td>0.0</td>\n",
       "      <td>0.0</td>\n",
       "    </tr>\n",
       "    <tr>\n",
       "      <th>6</th>\n",
       "      <td>Bias</td>\n",
       "      <td>II</td>\n",
       "      <td>0.004980</td>\n",
       "      <td>13877115.5</td>\n",
       "      <td>0.0</td>\n",
       "      <td>0.0</td>\n",
       "    </tr>\n",
       "    <tr>\n",
       "      <th>2</th>\n",
       "      <td>ALS</td>\n",
       "      <td>II</td>\n",
       "      <td>0.003428</td>\n",
       "      <td>12151702.0</td>\n",
       "      <td>0.0</td>\n",
       "      <td>0.0</td>\n",
       "    </tr>\n",
       "    <tr>\n",
       "      <th>0</th>\n",
       "      <td>ALS</td>\n",
       "      <td>Bias</td>\n",
       "      <td>-0.001552</td>\n",
       "      <td>119549828.0</td>\n",
       "      <td>0.0</td>\n",
       "      <td>0.0</td>\n",
       "    </tr>\n",
       "    <tr>\n",
       "      <th>7</th>\n",
       "      <td>Bias</td>\n",
       "      <td>Pop</td>\n",
       "      <td>-0.010270</td>\n",
       "      <td>338981225.5</td>\n",
       "      <td>0.0</td>\n",
       "      <td>0.0</td>\n",
       "    </tr>\n",
       "    <tr>\n",
       "      <th>3</th>\n",
       "      <td>ALS</td>\n",
       "      <td>Pop</td>\n",
       "      <td>-0.011822</td>\n",
       "      <td>204693739.0</td>\n",
       "      <td>0.0</td>\n",
       "      <td>0.0</td>\n",
       "    </tr>\n",
       "    <tr>\n",
       "      <th>12</th>\n",
       "      <td>II</td>\n",
       "      <td>Pop</td>\n",
       "      <td>-0.015250</td>\n",
       "      <td>14164968.5</td>\n",
       "      <td>0.0</td>\n",
       "      <td>0.0</td>\n",
       "    </tr>\n",
       "    <tr>\n",
       "      <th>5</th>\n",
       "      <td>Bias</td>\n",
       "      <td>IALS</td>\n",
       "      <td>-0.021581</td>\n",
       "      <td>134453959.0</td>\n",
       "      <td>0.0</td>\n",
       "      <td>0.0</td>\n",
       "    </tr>\n",
       "    <tr>\n",
       "      <th>1</th>\n",
       "      <td>ALS</td>\n",
       "      <td>IALS</td>\n",
       "      <td>-0.023133</td>\n",
       "      <td>76628616.0</td>\n",
       "      <td>0.0</td>\n",
       "      <td>0.0</td>\n",
       "    </tr>\n",
       "    <tr>\n",
       "      <th>4</th>\n",
       "      <td>ALS</td>\n",
       "      <td>UU</td>\n",
       "      <td>NaN</td>\n",
       "      <td>NaN</td>\n",
       "      <td>NaN</td>\n",
       "      <td>NaN</td>\n",
       "    </tr>\n",
       "    <tr>\n",
       "      <th>8</th>\n",
       "      <td>Bias</td>\n",
       "      <td>UU</td>\n",
       "      <td>NaN</td>\n",
       "      <td>NaN</td>\n",
       "      <td>NaN</td>\n",
       "      <td>NaN</td>\n",
       "    </tr>\n",
       "    <tr>\n",
       "      <th>11</th>\n",
       "      <td>IALS</td>\n",
       "      <td>UU</td>\n",
       "      <td>NaN</td>\n",
       "      <td>NaN</td>\n",
       "      <td>NaN</td>\n",
       "      <td>NaN</td>\n",
       "    </tr>\n",
       "    <tr>\n",
       "      <th>13</th>\n",
       "      <td>II</td>\n",
       "      <td>UU</td>\n",
       "      <td>NaN</td>\n",
       "      <td>NaN</td>\n",
       "      <td>NaN</td>\n",
       "      <td>NaN</td>\n",
       "    </tr>\n",
       "    <tr>\n",
       "      <th>14</th>\n",
       "      <td>Pop</td>\n",
       "      <td>UU</td>\n",
       "      <td>NaN</td>\n",
       "      <td>NaN</td>\n",
       "      <td>NaN</td>\n",
       "      <td>NaN</td>\n",
       "    </tr>\n",
       "  </tbody>\n",
       "</table>\n",
       "</div>"
      ],
      "text/plain": [
       "      A1    A2      diff         stat    p  adj_p\n",
       "9   IALS    II  0.026561    9304851.5  0.0    0.0\n",
       "10  IALS   Pop  0.011311  599093493.5  0.0    0.0\n",
       "6   Bias    II  0.004980   13877115.5  0.0    0.0\n",
       "2    ALS    II  0.003428   12151702.0  0.0    0.0\n",
       "0    ALS  Bias -0.001552  119549828.0  0.0    0.0\n",
       "7   Bias   Pop -0.010270  338981225.5  0.0    0.0\n",
       "3    ALS   Pop -0.011822  204693739.0  0.0    0.0\n",
       "12    II   Pop -0.015250   14164968.5  0.0    0.0\n",
       "5   Bias  IALS -0.021581  134453959.0  0.0    0.0\n",
       "1    ALS  IALS -0.023133   76628616.0  0.0    0.0\n",
       "4    ALS    UU       NaN          NaN  NaN    NaN\n",
       "8   Bias    UU       NaN          NaN  NaN    NaN\n",
       "11  IALS    UU       NaN          NaN  NaN    NaN\n",
       "13    II    UU       NaN          NaN  NaN    NaN\n",
       "14   Pop    UU       NaN          NaN  NaN    NaN"
      ]
     },
     "execution_count": 21,
     "metadata": {},
     "output_type": "execute_result"
    }
   ],
   "source": [
    "am_wilcox('precision').sort_values('diff', ascending=False)"
   ]
  },
  {
   "cell_type": "markdown",
   "id": "c84208df",
   "metadata": {
    "papermill": {
     "duration": 0.046872,
     "end_time": "2022-01-08T13:10:24.958744",
     "exception": false,
     "start_time": "2022-01-08T13:10:24.911872",
     "status": "completed"
    },
    "tags": []
   },
   "source": [
    "We can consider pairs with an adjusted $p$ value less than 0.05 (5.0e-2) to be statistically significant.  However, we have so many data points, the substance of significance is questionable.  Pay attention to the 'diff' column, which is the difference between A1 and A2 (how much A1 outperforms A2)."
   ]
  },
  {
   "cell_type": "markdown",
   "id": "5f23dc35",
   "metadata": {
    "papermill": {
     "duration": 0.046872,
     "end_time": "2022-01-08T13:10:25.052506",
     "exception": false,
     "start_time": "2022-01-08T13:10:25.005634",
     "status": "completed"
    },
    "tags": []
   },
   "source": [
    "### nDCG"
   ]
  },
  {
   "cell_type": "markdown",
   "id": "fcf8eabc",
   "metadata": {
    "papermill": {
     "duration": 0.046871,
     "end_time": "2022-01-08T13:10:25.161874",
     "exception": false,
     "start_time": "2022-01-08T13:10:25.115003",
     "status": "completed"
    },
    "tags": []
   },
   "source": [
    "Now let's do the same for nDCG:"
   ]
  },
  {
   "cell_type": "code",
   "execution_count": 22,
   "id": "cc68638a",
   "metadata": {
    "execution": {
     "iopub.execute_input": "2022-01-08T13:10:25.272817Z",
     "iopub.status.busy": "2022-01-08T13:10:25.272817Z",
     "iopub.status.idle": "2022-01-08T13:10:25.413416Z",
     "shell.execute_reply": "2022-01-08T13:10:25.413416Z"
    },
    "papermill": {
     "duration": 0.187494,
     "end_time": "2022-01-08T13:10:25.413416",
     "exception": false,
     "start_time": "2022-01-08T13:10:25.225922",
     "status": "completed"
    },
    "tags": []
   },
   "outputs": [
    {
     "name": "stdout",
     "output_type": "stream",
     "text": [
      "unequal N\n"
     ]
    }
   ],
   "source": [
    "metric_friedman('ndcg')"
   ]
  },
  {
   "cell_type": "code",
   "execution_count": 23,
   "id": "547dab6c",
   "metadata": {
    "execution": {
     "iopub.execute_input": "2022-01-08T13:10:25.511782Z",
     "iopub.status.busy": "2022-01-08T13:10:25.511782Z",
     "iopub.status.idle": "2022-01-08T13:10:26.214864Z",
     "shell.execute_reply": "2022-01-08T13:10:26.214864Z"
    },
    "papermill": {
     "duration": 0.749975,
     "end_time": "2022-01-08T13:10:26.214864",
     "exception": false,
     "start_time": "2022-01-08T13:10:25.464889",
     "status": "completed"
    },
    "tags": []
   },
   "outputs": [
    {
     "name": "stdout",
     "output_type": "stream",
     "text": [
      "x and y is of different length\n",
      "138493 138397\n",
      "x and y is of different length\n",
      "138493 138397\n",
      "x and y is of different length\n",
      "138493 138397\n",
      "x and y is of different length\n",
      "138493 138397\n",
      "x and y is of different length\n",
      "138493 138397\n"
     ]
    },
    {
     "data": {
      "text/html": [
       "<div>\n",
       "<style scoped>\n",
       "    .dataframe tbody tr th:only-of-type {\n",
       "        vertical-align: middle;\n",
       "    }\n",
       "\n",
       "    .dataframe tbody tr th {\n",
       "        vertical-align: top;\n",
       "    }\n",
       "\n",
       "    .dataframe thead th {\n",
       "        text-align: right;\n",
       "    }\n",
       "</style>\n",
       "<table border=\"1\" class=\"dataframe\">\n",
       "  <thead>\n",
       "    <tr style=\"text-align: right;\">\n",
       "      <th></th>\n",
       "      <th>A1</th>\n",
       "      <th>A2</th>\n",
       "      <th>diff</th>\n",
       "      <th>stat</th>\n",
       "      <th>p</th>\n",
       "      <th>adj_p</th>\n",
       "    </tr>\n",
       "  </thead>\n",
       "  <tbody>\n",
       "    <tr>\n",
       "      <th>9</th>\n",
       "      <td>IALS</td>\n",
       "      <td>II</td>\n",
       "      <td>0.208972</td>\n",
       "      <td>1.415187e+07</td>\n",
       "      <td>0.0</td>\n",
       "      <td>0.0</td>\n",
       "    </tr>\n",
       "    <tr>\n",
       "      <th>10</th>\n",
       "      <td>IALS</td>\n",
       "      <td>Pop</td>\n",
       "      <td>0.076138</td>\n",
       "      <td>2.329856e+09</td>\n",
       "      <td>0.0</td>\n",
       "      <td>0.0</td>\n",
       "    </tr>\n",
       "    <tr>\n",
       "      <th>6</th>\n",
       "      <td>Bias</td>\n",
       "      <td>II</td>\n",
       "      <td>0.051605</td>\n",
       "      <td>1.109868e+07</td>\n",
       "      <td>0.0</td>\n",
       "      <td>0.0</td>\n",
       "    </tr>\n",
       "    <tr>\n",
       "      <th>2</th>\n",
       "      <td>ALS</td>\n",
       "      <td>II</td>\n",
       "      <td>0.030548</td>\n",
       "      <td>1.086773e+07</td>\n",
       "      <td>0.0</td>\n",
       "      <td>0.0</td>\n",
       "    </tr>\n",
       "    <tr>\n",
       "      <th>0</th>\n",
       "      <td>ALS</td>\n",
       "      <td>Bias</td>\n",
       "      <td>-0.021057</td>\n",
       "      <td>3.974367e+08</td>\n",
       "      <td>0.0</td>\n",
       "      <td>0.0</td>\n",
       "    </tr>\n",
       "    <tr>\n",
       "      <th>7</th>\n",
       "      <td>Bias</td>\n",
       "      <td>Pop</td>\n",
       "      <td>-0.081229</td>\n",
       "      <td>9.358643e+08</td>\n",
       "      <td>0.0</td>\n",
       "      <td>0.0</td>\n",
       "    </tr>\n",
       "    <tr>\n",
       "      <th>3</th>\n",
       "      <td>ALS</td>\n",
       "      <td>Pop</td>\n",
       "      <td>-0.102286</td>\n",
       "      <td>4.278887e+08</td>\n",
       "      <td>0.0</td>\n",
       "      <td>0.0</td>\n",
       "    </tr>\n",
       "    <tr>\n",
       "      <th>12</th>\n",
       "      <td>II</td>\n",
       "      <td>Pop</td>\n",
       "      <td>-0.132834</td>\n",
       "      <td>1.358844e+07</td>\n",
       "      <td>0.0</td>\n",
       "      <td>0.0</td>\n",
       "    </tr>\n",
       "    <tr>\n",
       "      <th>5</th>\n",
       "      <td>Bias</td>\n",
       "      <td>IALS</td>\n",
       "      <td>-0.157367</td>\n",
       "      <td>7.695263e+08</td>\n",
       "      <td>0.0</td>\n",
       "      <td>0.0</td>\n",
       "    </tr>\n",
       "    <tr>\n",
       "      <th>1</th>\n",
       "      <td>ALS</td>\n",
       "      <td>IALS</td>\n",
       "      <td>-0.178424</td>\n",
       "      <td>3.551631e+08</td>\n",
       "      <td>0.0</td>\n",
       "      <td>0.0</td>\n",
       "    </tr>\n",
       "    <tr>\n",
       "      <th>4</th>\n",
       "      <td>ALS</td>\n",
       "      <td>UU</td>\n",
       "      <td>NaN</td>\n",
       "      <td>NaN</td>\n",
       "      <td>NaN</td>\n",
       "      <td>NaN</td>\n",
       "    </tr>\n",
       "    <tr>\n",
       "      <th>8</th>\n",
       "      <td>Bias</td>\n",
       "      <td>UU</td>\n",
       "      <td>NaN</td>\n",
       "      <td>NaN</td>\n",
       "      <td>NaN</td>\n",
       "      <td>NaN</td>\n",
       "    </tr>\n",
       "    <tr>\n",
       "      <th>11</th>\n",
       "      <td>IALS</td>\n",
       "      <td>UU</td>\n",
       "      <td>NaN</td>\n",
       "      <td>NaN</td>\n",
       "      <td>NaN</td>\n",
       "      <td>NaN</td>\n",
       "    </tr>\n",
       "    <tr>\n",
       "      <th>13</th>\n",
       "      <td>II</td>\n",
       "      <td>UU</td>\n",
       "      <td>NaN</td>\n",
       "      <td>NaN</td>\n",
       "      <td>NaN</td>\n",
       "      <td>NaN</td>\n",
       "    </tr>\n",
       "    <tr>\n",
       "      <th>14</th>\n",
       "      <td>Pop</td>\n",
       "      <td>UU</td>\n",
       "      <td>NaN</td>\n",
       "      <td>NaN</td>\n",
       "      <td>NaN</td>\n",
       "      <td>NaN</td>\n",
       "    </tr>\n",
       "  </tbody>\n",
       "</table>\n",
       "</div>"
      ],
      "text/plain": [
       "      A1    A2      diff          stat    p  adj_p\n",
       "9   IALS    II  0.208972  1.415187e+07  0.0    0.0\n",
       "10  IALS   Pop  0.076138  2.329856e+09  0.0    0.0\n",
       "6   Bias    II  0.051605  1.109868e+07  0.0    0.0\n",
       "2    ALS    II  0.030548  1.086773e+07  0.0    0.0\n",
       "0    ALS  Bias -0.021057  3.974367e+08  0.0    0.0\n",
       "7   Bias   Pop -0.081229  9.358643e+08  0.0    0.0\n",
       "3    ALS   Pop -0.102286  4.278887e+08  0.0    0.0\n",
       "12    II   Pop -0.132834  1.358844e+07  0.0    0.0\n",
       "5   Bias  IALS -0.157367  7.695263e+08  0.0    0.0\n",
       "1    ALS  IALS -0.178424  3.551631e+08  0.0    0.0\n",
       "4    ALS    UU       NaN           NaN  NaN    NaN\n",
       "8   Bias    UU       NaN           NaN  NaN    NaN\n",
       "11  IALS    UU       NaN           NaN  NaN    NaN\n",
       "13    II    UU       NaN           NaN  NaN    NaN\n",
       "14   Pop    UU       NaN           NaN  NaN    NaN"
      ]
     },
     "execution_count": 23,
     "metadata": {},
     "output_type": "execute_result"
    }
   ],
   "source": [
    "am_wilcox('ndcg').sort_values('diff', ascending=False)"
   ]
  },
  {
   "cell_type": "markdown",
   "id": "cfc2bd9b",
   "metadata": {
    "papermill": {
     "duration": 0.046872,
     "end_time": "2022-01-08T13:10:26.308607",
     "exception": false,
     "start_time": "2022-01-08T13:10:26.261735",
     "status": "completed"
    },
    "tags": []
   },
   "source": [
    "### Reciprocal Rank\n",
    "\n",
    "We'll do this also for reciprocal rank (what is aggregated to compute MRR):"
   ]
  },
  {
   "cell_type": "code",
   "execution_count": 24,
   "id": "6d7345b6",
   "metadata": {
    "execution": {
     "iopub.execute_input": "2022-01-08T13:10:26.417976Z",
     "iopub.status.busy": "2022-01-08T13:10:26.417976Z",
     "iopub.status.idle": "2022-01-08T13:10:26.558574Z",
     "shell.execute_reply": "2022-01-08T13:10:26.558574Z"
    },
    "papermill": {
     "duration": 0.187471,
     "end_time": "2022-01-08T13:10:26.558574",
     "exception": false,
     "start_time": "2022-01-08T13:10:26.371103",
     "status": "completed"
    },
    "tags": []
   },
   "outputs": [
    {
     "name": "stdout",
     "output_type": "stream",
     "text": [
      "unequal N\n"
     ]
    }
   ],
   "source": [
    "metric_friedman('recip_rank')"
   ]
  },
  {
   "cell_type": "code",
   "execution_count": 25,
   "id": "7b951f08",
   "metadata": {
    "execution": {
     "iopub.execute_input": "2022-01-08T13:10:26.656999Z",
     "iopub.status.busy": "2022-01-08T13:10:26.656999Z",
     "iopub.status.idle": "2022-01-08T13:10:27.281945Z",
     "shell.execute_reply": "2022-01-08T13:10:27.281945Z"
    },
    "papermill": {
     "duration": 0.671839,
     "end_time": "2022-01-08T13:10:27.281945",
     "exception": false,
     "start_time": "2022-01-08T13:10:26.610106",
     "status": "completed"
    },
    "tags": []
   },
   "outputs": [
    {
     "name": "stdout",
     "output_type": "stream",
     "text": [
      "x and y is of different length\n",
      "138493 138397\n",
      "x and y is of different length\n",
      "138493 138397\n",
      "x and y is of different length\n",
      "138493 138397\n",
      "x and y is of different length\n",
      "138493 138397\n",
      "x and y is of different length\n",
      "138493 138397\n"
     ]
    },
    {
     "data": {
      "text/html": [
       "<div>\n",
       "<style scoped>\n",
       "    .dataframe tbody tr th:only-of-type {\n",
       "        vertical-align: middle;\n",
       "    }\n",
       "\n",
       "    .dataframe tbody tr th {\n",
       "        vertical-align: top;\n",
       "    }\n",
       "\n",
       "    .dataframe thead th {\n",
       "        text-align: right;\n",
       "    }\n",
       "</style>\n",
       "<table border=\"1\" class=\"dataframe\">\n",
       "  <thead>\n",
       "    <tr style=\"text-align: right;\">\n",
       "      <th></th>\n",
       "      <th>A1</th>\n",
       "      <th>A2</th>\n",
       "      <th>diff</th>\n",
       "      <th>stat</th>\n",
       "      <th>p</th>\n",
       "      <th>adj_p</th>\n",
       "    </tr>\n",
       "  </thead>\n",
       "  <tbody>\n",
       "    <tr>\n",
       "      <th>9</th>\n",
       "      <td>IALS</td>\n",
       "      <td>II</td>\n",
       "      <td>0.185671</td>\n",
       "      <td>2.189875e+07</td>\n",
       "      <td>0.0</td>\n",
       "      <td>0.0</td>\n",
       "    </tr>\n",
       "    <tr>\n",
       "      <th>6</th>\n",
       "      <td>Bias</td>\n",
       "      <td>II</td>\n",
       "      <td>0.078250</td>\n",
       "      <td>8.720108e+06</td>\n",
       "      <td>0.0</td>\n",
       "      <td>0.0</td>\n",
       "    </tr>\n",
       "    <tr>\n",
       "      <th>2</th>\n",
       "      <td>ALS</td>\n",
       "      <td>II</td>\n",
       "      <td>0.035467</td>\n",
       "      <td>9.768904e+06</td>\n",
       "      <td>0.0</td>\n",
       "      <td>0.0</td>\n",
       "    </tr>\n",
       "    <tr>\n",
       "      <th>10</th>\n",
       "      <td>IALS</td>\n",
       "      <td>Pop</td>\n",
       "      <td>0.026977</td>\n",
       "      <td>3.404597e+09</td>\n",
       "      <td>0.0</td>\n",
       "      <td>0.0</td>\n",
       "    </tr>\n",
       "    <tr>\n",
       "      <th>0</th>\n",
       "      <td>ALS</td>\n",
       "      <td>Bias</td>\n",
       "      <td>-0.042783</td>\n",
       "      <td>3.961096e+08</td>\n",
       "      <td>0.0</td>\n",
       "      <td>0.0</td>\n",
       "    </tr>\n",
       "    <tr>\n",
       "      <th>7</th>\n",
       "      <td>Bias</td>\n",
       "      <td>Pop</td>\n",
       "      <td>-0.080443</td>\n",
       "      <td>1.361307e+09</td>\n",
       "      <td>0.0</td>\n",
       "      <td>0.0</td>\n",
       "    </tr>\n",
       "    <tr>\n",
       "      <th>5</th>\n",
       "      <td>Bias</td>\n",
       "      <td>IALS</td>\n",
       "      <td>-0.107421</td>\n",
       "      <td>1.605265e+09</td>\n",
       "      <td>0.0</td>\n",
       "      <td>0.0</td>\n",
       "    </tr>\n",
       "    <tr>\n",
       "      <th>3</th>\n",
       "      <td>ALS</td>\n",
       "      <td>Pop</td>\n",
       "      <td>-0.123227</td>\n",
       "      <td>6.282958e+08</td>\n",
       "      <td>0.0</td>\n",
       "      <td>0.0</td>\n",
       "    </tr>\n",
       "    <tr>\n",
       "      <th>1</th>\n",
       "      <td>ALS</td>\n",
       "      <td>IALS</td>\n",
       "      <td>-0.150204</td>\n",
       "      <td>8.680014e+08</td>\n",
       "      <td>0.0</td>\n",
       "      <td>0.0</td>\n",
       "    </tr>\n",
       "    <tr>\n",
       "      <th>12</th>\n",
       "      <td>II</td>\n",
       "      <td>Pop</td>\n",
       "      <td>-0.158693</td>\n",
       "      <td>1.156585e+07</td>\n",
       "      <td>0.0</td>\n",
       "      <td>0.0</td>\n",
       "    </tr>\n",
       "    <tr>\n",
       "      <th>4</th>\n",
       "      <td>ALS</td>\n",
       "      <td>UU</td>\n",
       "      <td>NaN</td>\n",
       "      <td>NaN</td>\n",
       "      <td>NaN</td>\n",
       "      <td>NaN</td>\n",
       "    </tr>\n",
       "    <tr>\n",
       "      <th>8</th>\n",
       "      <td>Bias</td>\n",
       "      <td>UU</td>\n",
       "      <td>NaN</td>\n",
       "      <td>NaN</td>\n",
       "      <td>NaN</td>\n",
       "      <td>NaN</td>\n",
       "    </tr>\n",
       "    <tr>\n",
       "      <th>11</th>\n",
       "      <td>IALS</td>\n",
       "      <td>UU</td>\n",
       "      <td>NaN</td>\n",
       "      <td>NaN</td>\n",
       "      <td>NaN</td>\n",
       "      <td>NaN</td>\n",
       "    </tr>\n",
       "    <tr>\n",
       "      <th>13</th>\n",
       "      <td>II</td>\n",
       "      <td>UU</td>\n",
       "      <td>NaN</td>\n",
       "      <td>NaN</td>\n",
       "      <td>NaN</td>\n",
       "      <td>NaN</td>\n",
       "    </tr>\n",
       "    <tr>\n",
       "      <th>14</th>\n",
       "      <td>Pop</td>\n",
       "      <td>UU</td>\n",
       "      <td>NaN</td>\n",
       "      <td>NaN</td>\n",
       "      <td>NaN</td>\n",
       "      <td>NaN</td>\n",
       "    </tr>\n",
       "  </tbody>\n",
       "</table>\n",
       "</div>"
      ],
      "text/plain": [
       "      A1    A2      diff          stat    p  adj_p\n",
       "9   IALS    II  0.185671  2.189875e+07  0.0    0.0\n",
       "6   Bias    II  0.078250  8.720108e+06  0.0    0.0\n",
       "2    ALS    II  0.035467  9.768904e+06  0.0    0.0\n",
       "10  IALS   Pop  0.026977  3.404597e+09  0.0    0.0\n",
       "0    ALS  Bias -0.042783  3.961096e+08  0.0    0.0\n",
       "7   Bias   Pop -0.080443  1.361307e+09  0.0    0.0\n",
       "5   Bias  IALS -0.107421  1.605265e+09  0.0    0.0\n",
       "3    ALS   Pop -0.123227  6.282958e+08  0.0    0.0\n",
       "1    ALS  IALS -0.150204  8.680014e+08  0.0    0.0\n",
       "12    II   Pop -0.158693  1.156585e+07  0.0    0.0\n",
       "4    ALS    UU       NaN           NaN  NaN    NaN\n",
       "8   Bias    UU       NaN           NaN  NaN    NaN\n",
       "11  IALS    UU       NaN           NaN  NaN    NaN\n",
       "13    II    UU       NaN           NaN  NaN    NaN\n",
       "14   Pop    UU       NaN           NaN  NaN    NaN"
      ]
     },
     "execution_count": 25,
     "metadata": {},
     "output_type": "execute_result"
    }
   ],
   "source": [
    "am_wilcox('recip_rank').sort_values('diff', ascending=False)"
   ]
  },
  {
   "cell_type": "markdown",
   "id": "bf203179",
   "metadata": {
    "papermill": {
     "duration": 0.046872,
     "end_time": "2022-01-08T13:10:27.375712",
     "exception": false,
     "start_time": "2022-01-08T13:10:27.328840",
     "status": "completed"
    },
    "tags": []
   },
   "source": [
    "## Prediction RMSE\n",
    "\n",
    "We will also look at the prediction RMSE."
   ]
  },
  {
   "cell_type": "code",
   "execution_count": 26,
   "id": "87bb78ec",
   "metadata": {
    "execution": {
     "iopub.execute_input": "2022-01-08T13:10:27.485082Z",
     "iopub.status.busy": "2022-01-08T13:10:27.485082Z",
     "iopub.status.idle": "2022-01-08T13:20:14.778539Z",
     "shell.execute_reply": "2022-01-08T13:20:14.778539Z"
    },
    "papermill": {
     "duration": 587.355953,
     "end_time": "2022-01-08T13:20:14.778539",
     "exception": false,
     "start_time": "2022-01-08T13:10:27.422586",
     "status": "completed"
    },
    "tags": []
   },
   "outputs": [],
   "source": [
    "user_rmse = preds.groupby(['algorithm', 'user']).apply(lambda df: rmse(df['prediction'], df['rating']))\n",
    "user_rmse = user_rmse.reset_index(name='RMSE')"
   ]
  },
  {
   "cell_type": "code",
   "execution_count": 27,
   "id": "00e11456",
   "metadata": {
    "execution": {
     "iopub.execute_input": "2022-01-08T13:20:14.887888Z",
     "iopub.status.busy": "2022-01-08T13:20:14.872263Z",
     "iopub.status.idle": "2022-01-08T13:20:26.840261Z",
     "shell.execute_reply": "2022-01-08T13:20:26.840261Z"
    },
    "papermill": {
     "duration": 12.014853,
     "end_time": "2022-01-08T13:20:26.840261",
     "exception": false,
     "start_time": "2022-01-08T13:20:14.825408",
     "status": "completed"
    },
    "tags": []
   },
   "outputs": [
    {
     "data": {
      "text/plain": [
       "<seaborn.axisgrid.FacetGrid at 0x1c6af4dadf0>"
      ]
     },
     "execution_count": 27,
     "metadata": {},
     "output_type": "execute_result"
    },
    {
     "data": {
      "image/png": "[encoded data removed]",
      "text/plain": [
       "<Figure size 360x360 with 1 Axes>"
      ]
     },
     "metadata": {
      "needs_background": "light"
     },
     "output_type": "display_data"
    }
   ],
   "source": [
    "sns.catplot(x='algorithm', y='RMSE', data=user_rmse, kind='bar')"
   ]
  },
  {
   "cell_type": "code",
   "execution_count": null,
   "id": "2299f97c",
   "metadata": {
    "papermill": {
     "duration": 0.062495,
     "end_time": "2022-01-08T13:20:26.949647",
     "exception": false,
     "start_time": "2022-01-08T13:20:26.887152",
     "status": "completed"
    },
    "tags": []
   },
   "outputs": [],
   "source": []
  }
 ],
 "metadata": {
  "kernelspec": {
   "display_name": "Python 3",
   "language": "python",
   "name": "python3"
  },
  "language_info": {
   "codemirror_mode": {
    "name": "ipython",
    "version": 3
   },
   "file_extension": ".py",
   "mimetype": "text/x-python",
   "name": "python",
   "nbconvert_exporter": "python",
   "pygments_lexer": "ipython3",
   "version": "3.8.8"
  },
  "papermill": {
   "default_parameters": {},
   "duration": 874.395597,
   "end_time": "2022-01-08T13:20:27.668333",
   "environment_variables": {},
   "exception": null,
   "input_path": "eval-report.ipynb",
   "output_path": "eval-report.ml20m.ipynb",
   "parameters": {
    "dataset": "ml20m"
   },
   "start_time": "2022-01-08T13:05:53.272736",
   "version": "2.3.3"
  }
 },
 "nbformat": 4,
 "nbformat_minor": 5
}
