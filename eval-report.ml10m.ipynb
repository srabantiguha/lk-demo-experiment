{
 "cells": [
  {
   "cell_type": "markdown",
   "id": "00391501",
   "metadata": {
    "papermill": {
     "duration": 0.046849,
     "end_time": "2022-01-07T23:05:30.315177",
     "exception": false,
     "start_time": "2022-01-07T23:05:30.268328",
     "status": "completed"
    },
    "tags": []
   },
   "source": [
    "# Evaluation Analysis for Recommender Output"
   ]
  },
  {
   "cell_type": "markdown",
   "id": "913572b9",
   "metadata": {
    "papermill": {
     "duration": 0.031269,
     "end_time": "2022-01-07T23:05:30.393290",
     "exception": false,
     "start_time": "2022-01-07T23:05:30.362021",
     "status": "completed"
    },
    "tags": []
   },
   "source": [
    "In this section we will analyze and compare the generated recommendations and predictions from a predefined list of algorithms with the goal of assessing the performance of each algorithm with respect to a metric. In other words, we would rank the algorithms for each metric considered with respect to performance."
   ]
  },
  {
   "cell_type": "markdown",
   "id": "689e3455",
   "metadata": {
    "papermill": {
     "duration": 0.031254,
     "end_time": "2022-01-07T23:05:30.455792",
     "exception": false,
     "start_time": "2022-01-07T23:05:30.424538",
     "status": "completed"
    },
    "tags": []
   },
   "source": [
    "# Setup"
   ]
  },
  {
   "cell_type": "markdown",
   "id": "4dd4ca82",
   "metadata": {
    "papermill": {
     "duration": 0.031247,
     "end_time": "2022-01-07T23:05:30.533904",
     "exception": false,
     "start_time": "2022-01-07T23:05:30.502657",
     "status": "completed"
    },
    "tags": []
   },
   "source": [
    "Below are the list of packages required to successfully run the analysis. They are divided into partitions to signify their specific task.<br>\n",
    "We need the pathlib package for working with files and folders"
   ]
  },
  {
   "cell_type": "code",
   "execution_count": 1,
   "id": "d4172cc5",
   "metadata": {
    "execution": {
     "iopub.execute_input": "2022-01-07T23:05:30.627629Z",
     "iopub.status.busy": "2022-01-07T23:05:30.627629Z",
     "iopub.status.idle": "2022-01-07T23:05:30.643274Z",
     "shell.execute_reply": "2022-01-07T23:05:30.643274Z"
    },
    "papermill": {
     "duration": 0.062497,
     "end_time": "2022-01-07T23:05:30.643274",
     "exception": false,
     "start_time": "2022-01-07T23:05:30.580777",
     "status": "completed"
    },
    "tags": []
   },
   "outputs": [],
   "source": [
    "from pathlib import Path"
   ]
  },
  {
   "cell_type": "markdown",
   "id": "24dad87c",
   "metadata": {
    "papermill": {
     "duration": 0.031229,
     "end_time": "2022-01-07T23:05:30.705749",
     "exception": false,
     "start_time": "2022-01-07T23:05:30.674520",
     "status": "completed"
    },
    "tags": []
   },
   "source": [
    "We would use the pandas for analyzing and manipulating our data while seaborn and matplotlib are used for data visualization. statsmodels.graphics.gofplots and scipy.stats.shapiro are used for normality check. Scipy.stats.friedmanchisquare is a non-parametric test used to determine the statistical significance in metric results and the wilcoxon test is used for pairwise comparison of sample data."
   ]
  },
  {
   "cell_type": "code",
   "execution_count": 2,
   "id": "5fd598e3",
   "metadata": {
    "execution": {
     "iopub.execute_input": "2022-01-07T23:05:30.783887Z",
     "iopub.status.busy": "2022-01-07T23:05:30.783887Z",
     "iopub.status.idle": "2022-01-07T23:05:33.211021Z",
     "shell.execute_reply": "2022-01-07T23:05:33.211021Z"
    },
    "papermill": {
     "duration": 2.474005,
     "end_time": "2022-01-07T23:05:33.211021",
     "exception": false,
     "start_time": "2022-01-07T23:05:30.737016",
     "status": "completed"
    },
    "tags": []
   },
   "outputs": [],
   "source": [
    "import pandas as pd\n",
    "import seaborn as sns\n",
    "import matplotlib.pyplot as plt\n",
    "from statsmodels.graphics.gofplots import qqplot\n",
    "from scipy.stats import shapiro\n",
    "from scipy.stats import friedmanchisquare, wilcoxon\n",
    "from itertools import combinations"
   ]
  },
  {
   "cell_type": "markdown",
   "id": "f45dc1b0",
   "metadata": {
    "papermill": {
     "duration": 0.031228,
     "end_time": "2022-01-07T23:05:33.273516",
     "exception": false,
     "start_time": "2022-01-07T23:05:33.242288",
     "status": "completed"
    },
    "tags": []
   },
   "source": [
    "Logging to show what's happening in LensKit routines:"
   ]
  },
  {
   "cell_type": "code",
   "execution_count": 3,
   "id": "2411d275",
   "metadata": {
    "execution": {
     "iopub.execute_input": "2022-01-07T23:05:33.351655Z",
     "iopub.status.busy": "2022-01-07T23:05:33.351655Z",
     "iopub.status.idle": "2022-01-07T23:05:33.414172Z",
     "shell.execute_reply": "2022-01-07T23:05:33.414172Z"
    },
    "papermill": {
     "duration": 0.093766,
     "end_time": "2022-01-07T23:05:33.414172",
     "exception": false,
     "start_time": "2022-01-07T23:05:33.320406",
     "status": "completed"
    },
    "tags": []
   },
   "outputs": [
    {
     "name": "stdout",
     "output_type": "stream",
     "text": [
      "[   INFO] lenskit.util.log notebook logging configured\n"
     ]
    }
   ],
   "source": [
    "from lenskit import util\n",
    "util.log_to_notebook()"
   ]
  },
  {
   "cell_type": "markdown",
   "id": "137fd522",
   "metadata": {
    "papermill": {
     "duration": 0.062493,
     "end_time": "2022-01-07T23:05:33.523523",
     "exception": false,
     "start_time": "2022-01-07T23:05:33.461030",
     "status": "completed"
    },
    "tags": []
   },
   "source": [
    "We will use lenskit for training, running, and evaluating recommender algorithms"
   ]
  },
  {
   "cell_type": "code",
   "execution_count": 4,
   "id": "ccd606e5",
   "metadata": {
    "execution": {
     "iopub.execute_input": "2022-01-07T23:05:33.617269Z",
     "iopub.status.busy": "2022-01-07T23:05:33.601644Z",
     "iopub.status.idle": "2022-01-07T23:05:33.632892Z",
     "shell.execute_reply": "2022-01-07T23:05:33.632892Z"
    },
    "papermill": {
     "duration": 0.078118,
     "end_time": "2022-01-07T23:05:33.632892",
     "exception": false,
     "start_time": "2022-01-07T23:05:33.554774",
     "status": "completed"
    },
    "tags": []
   },
   "outputs": [],
   "source": [
    "from lenskit import topn\n",
    "from lenskit.metrics.predict import rmse"
   ]
  },
  {
   "cell_type": "markdown",
   "id": "58f257d5",
   "metadata": {
    "papermill": {
     "duration": 0.062496,
     "end_time": "2022-01-07T23:05:33.742260",
     "exception": false,
     "start_time": "2022-01-07T23:05:33.679764",
     "status": "completed"
    },
    "tags": []
   },
   "source": [
    "# Load Data"
   ]
  },
  {
   "cell_type": "markdown",
   "id": "f6edbc73",
   "metadata": {
    "papermill": {
     "duration": 0.031246,
     "end_time": "2022-01-07T23:05:33.804755",
     "exception": false,
     "start_time": "2022-01-07T23:05:33.773509",
     "status": "completed"
    },
    "tags": []
   },
   "source": [
    "We specify the dataset we will use for our analysis and the main directory from where we read the recommendation and prediction files. From the main directory we find all the directories associated with the dataset and then read the recommendation and predictions files from those directories."
   ]
  },
  {
   "cell_type": "code",
   "execution_count": 5,
   "id": "74003a12",
   "metadata": {
    "execution": {
     "iopub.execute_input": "2022-01-07T23:05:33.898498Z",
     "iopub.status.busy": "2022-01-07T23:05:33.882874Z",
     "iopub.status.idle": "2022-01-07T23:05:33.898498Z",
     "shell.execute_reply": "2022-01-07T23:05:33.898498Z"
    },
    "papermill": {
     "duration": 0.046869,
     "end_time": "2022-01-07T23:05:33.898498",
     "exception": false,
     "start_time": "2022-01-07T23:05:33.851629",
     "status": "completed"
    },
    "tags": [
     "parameters"
    ]
   },
   "outputs": [],
   "source": [
    "dataset = \"ml10m\""
   ]
  },
  {
   "cell_type": "code",
   "execution_count": 6,
   "id": "0c85b95a",
   "metadata": {
    "execution": {
     "iopub.execute_input": "2022-01-07T23:05:33.992218Z",
     "iopub.status.busy": "2022-01-07T23:05:33.992218Z",
     "iopub.status.idle": "2022-01-07T23:05:34.007861Z",
     "shell.execute_reply": "2022-01-07T23:05:34.007861Z"
    },
    "papermill": {
     "duration": 0.062491,
     "end_time": "2022-01-07T23:05:34.007861",
     "exception": false,
     "start_time": "2022-01-07T23:05:33.945370",
     "status": "completed"
    },
    "tags": [
     "injected-parameters"
    ]
   },
   "outputs": [],
   "source": [
    "# Parameters\n",
    "dataset = \"ml10m\"\n"
   ]
  },
  {
   "cell_type": "code",
   "execution_count": 7,
   "id": "eea40629",
   "metadata": {
    "execution": {
     "iopub.execute_input": "2022-01-07T23:05:34.117234Z",
     "iopub.status.busy": "2022-01-07T23:05:34.117234Z",
     "iopub.status.idle": "2022-01-07T23:05:34.132857Z",
     "shell.execute_reply": "2022-01-07T23:05:34.132857Z"
    },
    "papermill": {
     "duration": 0.078117,
     "end_time": "2022-01-07T23:05:34.132857",
     "exception": false,
     "start_time": "2022-01-07T23:05:34.054740",
     "status": "completed"
    },
    "tags": []
   },
   "outputs": [],
   "source": [
    "output_root = Path(\"runs\")"
   ]
  },
  {
   "cell_type": "code",
   "execution_count": 8,
   "id": "837a2d7e",
   "metadata": {
    "execution": {
     "iopub.execute_input": "2022-01-07T23:05:34.257849Z",
     "iopub.status.busy": "2022-01-07T23:05:34.257849Z",
     "iopub.status.idle": "2022-01-07T23:05:34.273473Z",
     "shell.execute_reply": "2022-01-07T23:05:34.273473Z"
    },
    "papermill": {
     "duration": 0.07812,
     "end_time": "2022-01-07T23:05:34.273473",
     "exception": false,
     "start_time": "2022-01-07T23:05:34.195353",
     "status": "completed"
    },
    "tags": []
   },
   "outputs": [],
   "source": [
    "dirs = [fld for fld in output_root.glob(f'{dataset}-*')]"
   ]
  },
  {
   "cell_type": "code",
   "execution_count": 9,
   "id": "ab18a967",
   "metadata": {
    "execution": {
     "iopub.execute_input": "2022-01-07T23:05:34.382841Z",
     "iopub.status.busy": "2022-01-07T23:05:34.382841Z",
     "iopub.status.idle": "2022-01-07T23:06:10.002958Z",
     "shell.execute_reply": "2022-01-07T23:06:10.002958Z"
    },
    "papermill": {
     "duration": 35.682614,
     "end_time": "2022-01-07T23:06:10.002958",
     "exception": false,
     "start_time": "2022-01-07T23:05:34.320344",
     "status": "completed"
    },
    "tags": []
   },
   "outputs": [
    {
     "name": "stdout",
     "output_type": "stream",
     "text": [
      "<class 'pandas.core.frame.DataFrame'>\n",
      "RangeIndex: 41923000 entries, 0 to 41922999\n",
      "Data columns (total 5 columns):\n",
      " #   Column     Dtype   \n",
      "---  ------     -----   \n",
      " 0   item       int64   \n",
      " 1   score      float64 \n",
      " 2   user       int64   \n",
      " 3   rank       int64   \n",
      " 4   algorithm  category\n",
      "dtypes: category(1), float64(1), int64(3)\n",
      "memory usage: 1.3 GB\n"
     ]
    }
   ],
   "source": [
    "recs = []\n",
    "for fld in dirs: \n",
    "    for file in fld.glob(\"recs-*\"):\n",
    "        rec = pd.read_csv(file, sep=',')\n",
    "        rec[\"algorithm\"] = fld.name.split(\"-\")[1]\n",
    "        recs.append(rec)\n",
    "\n",
    "recs = pd.concat(recs, ignore_index=True)\n",
    "recs = recs.astype({'algorithm': 'category'})\n",
    "recs.info()"
   ]
  },
  {
   "cell_type": "code",
   "execution_count": 10,
   "id": "9a504281",
   "metadata": {
    "execution": {
     "iopub.execute_input": "2022-01-07T23:06:10.081079Z",
     "iopub.status.busy": "2022-01-07T23:06:10.081079Z",
     "iopub.status.idle": "2022-01-07T23:06:10.525206Z",
     "shell.execute_reply": "2022-01-07T23:06:10.525206Z"
    },
    "papermill": {
     "duration": 0.475376,
     "end_time": "2022-01-07T23:06:10.525206",
     "exception": false,
     "start_time": "2022-01-07T23:06:10.049830",
     "status": "completed"
    },
    "tags": []
   },
   "outputs": [
    {
     "data": {
      "text/plain": [
       "['ALS', 'Bias', 'IALS', 'II', 'Pop', 'UU']\n",
       "Categories (6, object): ['ALS', 'Bias', 'IALS', 'II', 'Pop', 'UU']"
      ]
     },
     "execution_count": 10,
     "metadata": {},
     "output_type": "execute_result"
    }
   ],
   "source": [
    "rec_algos = recs['algorithm'].unique()\n",
    "rec_algos"
   ]
  },
  {
   "cell_type": "code",
   "execution_count": 11,
   "id": "e753f757",
   "metadata": {
    "execution": {
     "iopub.execute_input": "2022-01-07T23:06:10.634555Z",
     "iopub.status.busy": "2022-01-07T23:06:10.618931Z",
     "iopub.status.idle": "2022-01-07T23:06:13.115563Z",
     "shell.execute_reply": "2022-01-07T23:06:13.115563Z"
    },
    "papermill": {
     "duration": 2.5591,
     "end_time": "2022-01-07T23:06:13.115563",
     "exception": false,
     "start_time": "2022-01-07T23:06:10.556463",
     "status": "completed"
    },
    "tags": []
   },
   "outputs": [
    {
     "name": "stdout",
     "output_type": "stream",
     "text": [
      "<class 'pandas.core.frame.DataFrame'>\n",
      "RangeIndex: 1746950 entries, 0 to 1746949\n",
      "Data columns (total 6 columns):\n",
      " #   Column      Dtype   \n",
      "---  ------      -----   \n",
      " 0   user        int64   \n",
      " 1   item        int64   \n",
      " 2   rating      float64 \n",
      " 3   timestamp   int64   \n",
      " 4   prediction  float64 \n",
      " 5   algorithm   category\n",
      "dtypes: category(1), float64(2), int64(3)\n",
      "memory usage: 68.3 MB\n"
     ]
    }
   ],
   "source": [
    "preds = []\n",
    "for fld in dirs:\n",
    "    for file in fld.glob(\"pred-*\"):\n",
    "        pred = pd.read_csv(file, sep=',')\n",
    "        pred[\"algorithm\"] = fld.name.split(\"-\")[1]\n",
    "        preds.append(pred)\n",
    "\n",
    "preds = pd.concat(preds, ignore_index=True)\n",
    "preds = preds.astype({'algorithm': 'category'})\n",
    "preds.info()"
   ]
  },
  {
   "cell_type": "markdown",
   "id": "8618c795",
   "metadata": {
    "papermill": {
     "duration": 0.046873,
     "end_time": "2022-01-07T23:06:13.193667",
     "exception": false,
     "start_time": "2022-01-07T23:06:13.146794",
     "status": "completed"
    },
    "tags": []
   },
   "source": [
    "We need to load the test data so that we have the ground truths for computing accuracy "
   ]
  },
  {
   "cell_type": "code",
   "execution_count": 12,
   "id": "c4b38650",
   "metadata": {
    "execution": {
     "iopub.execute_input": "2022-01-07T23:06:13.271784Z",
     "iopub.status.busy": "2022-01-07T23:06:13.271784Z",
     "iopub.status.idle": "2022-01-07T23:06:13.287435Z",
     "shell.execute_reply": "2022-01-07T23:06:13.287435Z"
    },
    "papermill": {
     "duration": 0.062522,
     "end_time": "2022-01-07T23:06:13.287435",
     "exception": false,
     "start_time": "2022-01-07T23:06:13.224913",
     "status": "completed"
    },
    "tags": []
   },
   "outputs": [],
   "source": [
    "split_root = Path(\"data-split\")\n",
    "split_dir = split_root / dataset"
   ]
  },
  {
   "cell_type": "code",
   "execution_count": 13,
   "id": "d706e8de",
   "metadata": {
    "execution": {
     "iopub.execute_input": "2022-01-07T23:06:13.365545Z",
     "iopub.status.busy": "2022-01-07T23:06:13.365545Z",
     "iopub.status.idle": "2022-01-07T23:06:13.724905Z",
     "shell.execute_reply": "2022-01-07T23:06:13.724905Z"
    },
    "papermill": {
     "duration": 0.406231,
     "end_time": "2022-01-07T23:06:13.724905",
     "exception": false,
     "start_time": "2022-01-07T23:06:13.318674",
     "status": "completed"
    },
    "tags": []
   },
   "outputs": [],
   "source": [
    "test = []\n",
    "for file in split_dir.glob(\"test-*.csv.gz\"):\n",
    "    test.append(pd.read_csv(file, sep=','))\n",
    "\n",
    "test = pd.concat(test, ignore_index=True)"
   ]
  },
  {
   "cell_type": "markdown",
   "id": "4bc59fd3",
   "metadata": {
    "papermill": {
     "duration": 0.031269,
     "end_time": "2022-01-07T23:06:13.798648",
     "exception": false,
     "start_time": "2022-01-07T23:06:13.767379",
     "status": "completed"
    },
    "tags": []
   },
   "source": [
    "# Top-N Metrics"
   ]
  },
  {
   "cell_type": "markdown",
   "id": "983832e6",
   "metadata": {
    "papermill": {
     "duration": 0.031247,
     "end_time": "2022-01-07T23:06:13.876766",
     "exception": false,
     "start_time": "2022-01-07T23:06:13.845519",
     "status": "completed"
    },
    "tags": []
   },
   "source": [
    "The topn.RecListAnalysis class computes top-N metrics for recommendation list and takes care of making sure that the recommendations and ground truths are properly matched. Refer to the documentation for detailed explanation of the purpose for the RecListAnalysis class and how the analysis is done - https://lkpy.lenskit.org/en/stable/evaluation/topn-metrics.html "
   ]
  },
  {
   "cell_type": "code",
   "execution_count": 14,
   "id": "533b8589",
   "metadata": {
    "execution": {
     "iopub.execute_input": "2022-01-07T23:06:13.970494Z",
     "iopub.status.busy": "2022-01-07T23:06:13.970494Z",
     "iopub.status.idle": "2022-01-07T23:07:17.104716Z",
     "shell.execute_reply": "2022-01-07T23:07:17.104716Z"
    },
    "papermill": {
     "duration": 63.181077,
     "end_time": "2022-01-07T23:07:17.104716",
     "exception": false,
     "start_time": "2022-01-07T23:06:13.923639",
     "status": "completed"
    },
    "tags": []
   },
   "outputs": [
    {
     "name": "stdout",
     "output_type": "stream",
     "text": [
      "[   INFO] lenskit.topn analyzing 41923000 recommendations (349390 truth rows)\n"
     ]
    },
    {
     "name": "stdout",
     "output_type": "stream",
     "text": [
      "[   INFO] lenskit.topn using rec key columns ['algorithm', 'user']\n"
     ]
    },
    {
     "name": "stdout",
     "output_type": "stream",
     "text": [
      "[   INFO] lenskit.topn using truth key columns ['user']\n"
     ]
    },
    {
     "name": "stdout",
     "output_type": "stream",
     "text": [
      "[   INFO] lenskit.topn numbering truth lists\n"
     ]
    },
    {
     "name": "stdout",
     "output_type": "stream",
     "text": [
      "[   INFO] lenskit.topn numbering rec lists\n"
     ]
    },
    {
     "name": "stdout",
     "output_type": "stream",
     "text": [
      "[   INFO] lenskit.topn collecting metric results\n"
     ]
    },
    {
     "name": "stdout",
     "output_type": "stream",
     "text": [
      "[   INFO] lenskit.topn measured 419230 lists in 46.45s\n"
     ]
    },
    {
     "name": "stdout",
     "output_type": "stream",
     "text": [
      "[   INFO] lenskit.topn filling in missing user info (419230 initial rows)\n"
     ]
    },
    {
     "data": {
      "text/html": [
       "<div>\n",
       "<style scoped>\n",
       "    .dataframe tbody tr th:only-of-type {\n",
       "        vertical-align: middle;\n",
       "    }\n",
       "\n",
       "    .dataframe tbody tr th {\n",
       "        vertical-align: top;\n",
       "    }\n",
       "\n",
       "    .dataframe thead th {\n",
       "        text-align: right;\n",
       "    }\n",
       "</style>\n",
       "<table border=\"1\" class=\"dataframe\">\n",
       "  <thead>\n",
       "    <tr style=\"text-align: right;\">\n",
       "      <th></th>\n",
       "      <th></th>\n",
       "      <th>nrecs</th>\n",
       "      <th>precision</th>\n",
       "      <th>recip_rank</th>\n",
       "      <th>ndcg</th>\n",
       "      <th>ntruth</th>\n",
       "    </tr>\n",
       "    <tr>\n",
       "      <th>algorithm</th>\n",
       "      <th>user</th>\n",
       "      <th></th>\n",
       "      <th></th>\n",
       "      <th></th>\n",
       "      <th></th>\n",
       "      <th></th>\n",
       "    </tr>\n",
       "  </thead>\n",
       "  <tbody>\n",
       "    <tr>\n",
       "      <th rowspan=\"5\" valign=\"top\">ALS</th>\n",
       "      <th>8</th>\n",
       "      <td>100.0</td>\n",
       "      <td>0.00</td>\n",
       "      <td>0.00</td>\n",
       "      <td>0.000000</td>\n",
       "      <td>5</td>\n",
       "    </tr>\n",
       "    <tr>\n",
       "      <th>17</th>\n",
       "      <td>100.0</td>\n",
       "      <td>0.01</td>\n",
       "      <td>0.05</td>\n",
       "      <td>0.077722</td>\n",
       "      <td>5</td>\n",
       "    </tr>\n",
       "    <tr>\n",
       "      <th>27</th>\n",
       "      <td>100.0</td>\n",
       "      <td>0.00</td>\n",
       "      <td>0.00</td>\n",
       "      <td>0.000000</td>\n",
       "      <td>5</td>\n",
       "    </tr>\n",
       "    <tr>\n",
       "      <th>45</th>\n",
       "      <td>100.0</td>\n",
       "      <td>0.02</td>\n",
       "      <td>0.50</td>\n",
       "      <td>0.388228</td>\n",
       "      <td>5</td>\n",
       "    </tr>\n",
       "    <tr>\n",
       "      <th>50</th>\n",
       "      <td>100.0</td>\n",
       "      <td>0.00</td>\n",
       "      <td>0.00</td>\n",
       "      <td>0.000000</td>\n",
       "      <td>5</td>\n",
       "    </tr>\n",
       "  </tbody>\n",
       "</table>\n",
       "</div>"
      ],
      "text/plain": [
       "                nrecs  precision  recip_rank      ndcg  ntruth\n",
       "algorithm user                                                \n",
       "ALS       8     100.0       0.00        0.00  0.000000       5\n",
       "          17    100.0       0.01        0.05  0.077722       5\n",
       "          27    100.0       0.00        0.00  0.000000       5\n",
       "          45    100.0       0.02        0.50  0.388228       5\n",
       "          50    100.0       0.00        0.00  0.000000       5"
      ]
     },
     "execution_count": 14,
     "metadata": {},
     "output_type": "execute_result"
    }
   ],
   "source": [
    "rla = topn.RecListAnalysis()\n",
    "rla.add_metric(topn.precision)\n",
    "rla.add_metric(topn.recip_rank)\n",
    "rla.add_metric(topn.ndcg)\n",
    "results = rla.compute(recs, test, include_missing=True)\n",
    "results = results.fillna(0)\n",
    "results.head()"
   ]
  },
  {
   "cell_type": "markdown",
   "id": "7b1679a0",
   "metadata": {
    "papermill": {
     "duration": 0.031248,
     "end_time": "2022-01-07T23:07:17.182835",
     "exception": false,
     "start_time": "2022-01-07T23:07:17.151587",
     "status": "completed"
    },
    "tags": []
   },
   "source": [
    "We will reshape the 'results' dataframe by stacking the columns to index and then use the bar chart to visualize the performance of our algorithms with respect to the precision, reciprocal rank and ndcg metrics"
   ]
  },
  {
   "cell_type": "code",
   "execution_count": 15,
   "id": "58492863",
   "metadata": {
    "execution": {
     "iopub.execute_input": "2022-01-07T23:07:17.292219Z",
     "iopub.status.busy": "2022-01-07T23:07:17.292219Z",
     "iopub.status.idle": "2022-01-07T23:07:17.432845Z",
     "shell.execute_reply": "2022-01-07T23:07:17.432845Z"
    },
    "papermill": {
     "duration": 0.203138,
     "end_time": "2022-01-07T23:07:17.432845",
     "exception": false,
     "start_time": "2022-01-07T23:07:17.229707",
     "status": "completed"
    },
    "tags": []
   },
   "outputs": [
    {
     "data": {
      "text/html": [
       "<div>\n",
       "<style scoped>\n",
       "    .dataframe tbody tr th:only-of-type {\n",
       "        vertical-align: middle;\n",
       "    }\n",
       "\n",
       "    .dataframe tbody tr th {\n",
       "        vertical-align: top;\n",
       "    }\n",
       "\n",
       "    .dataframe thead th {\n",
       "        text-align: right;\n",
       "    }\n",
       "</style>\n",
       "<table border=\"1\" class=\"dataframe\">\n",
       "  <thead>\n",
       "    <tr style=\"text-align: right;\">\n",
       "      <th></th>\n",
       "      <th>algorithm</th>\n",
       "      <th>user</th>\n",
       "      <th>metric</th>\n",
       "      <th>val</th>\n",
       "    </tr>\n",
       "  </thead>\n",
       "  <tbody>\n",
       "    <tr>\n",
       "      <th>0</th>\n",
       "      <td>ALS</td>\n",
       "      <td>8</td>\n",
       "      <td>precision</td>\n",
       "      <td>0.00</td>\n",
       "    </tr>\n",
       "    <tr>\n",
       "      <th>1</th>\n",
       "      <td>ALS</td>\n",
       "      <td>8</td>\n",
       "      <td>recip_rank</td>\n",
       "      <td>0.00</td>\n",
       "    </tr>\n",
       "    <tr>\n",
       "      <th>2</th>\n",
       "      <td>ALS</td>\n",
       "      <td>8</td>\n",
       "      <td>ndcg</td>\n",
       "      <td>0.00</td>\n",
       "    </tr>\n",
       "    <tr>\n",
       "      <th>3</th>\n",
       "      <td>ALS</td>\n",
       "      <td>17</td>\n",
       "      <td>precision</td>\n",
       "      <td>0.01</td>\n",
       "    </tr>\n",
       "    <tr>\n",
       "      <th>4</th>\n",
       "      <td>ALS</td>\n",
       "      <td>17</td>\n",
       "      <td>recip_rank</td>\n",
       "      <td>0.05</td>\n",
       "    </tr>\n",
       "  </tbody>\n",
       "</table>\n",
       "</div>"
      ],
      "text/plain": [
       "  algorithm  user      metric   val\n",
       "0       ALS     8   precision  0.00\n",
       "1       ALS     8  recip_rank  0.00\n",
       "2       ALS     8        ndcg  0.00\n",
       "3       ALS    17   precision  0.01\n",
       "4       ALS    17  recip_rank  0.05"
      ]
     },
     "execution_count": 15,
     "metadata": {},
     "output_type": "execute_result"
    }
   ],
   "source": [
    "pltData = (results.drop(columns=['nrecs', 'ntruth']).stack()).reset_index()\n",
    "pltData.columns = ['algorithm', 'user', 'metric', 'val']\n",
    "pltData.head()"
   ]
  },
  {
   "cell_type": "markdown",
   "id": "75c5e805",
   "metadata": {
    "papermill": {
     "duration": 0.031248,
     "end_time": "2022-01-07T23:07:17.510937",
     "exception": false,
     "start_time": "2022-01-07T23:07:17.479689",
     "status": "completed"
    },
    "tags": []
   },
   "source": [
    "We need to determine if the differences we observe in the performances of the algorithms for the various metrics are statistically significant. To achieve this, we will need to use either a parametric or non-parametric statistical test for comparing the differences. We will consider a parametric test - repeated ANOVA measure cause our sample groups are correlated."
   ]
  },
  {
   "cell_type": "code",
   "execution_count": 16,
   "id": "775dfe96",
   "metadata": {
    "execution": {
     "iopub.execute_input": "2022-01-07T23:07:17.604697Z",
     "iopub.status.busy": "2022-01-07T23:07:17.604697Z",
     "iopub.status.idle": "2022-01-07T23:07:32.353687Z",
     "shell.execute_reply": "2022-01-07T23:07:32.353687Z"
    },
    "papermill": {
     "duration": 14.795879,
     "end_time": "2022-01-07T23:07:32.353687",
     "exception": false,
     "start_time": "2022-01-07T23:07:17.557808",
     "status": "completed"
    },
    "tags": []
   },
   "outputs": [
    {
     "data": {
      "image/png": "[encoded data removed]",
      "text/plain": [
       "<Figure size 777.6x216 with 3 Axes>"
      ]
     },
     "metadata": {
      "needs_background": "light"
     },
     "output_type": "display_data"
    }
   ],
   "source": [
    "g = sns.catplot(x = \"algorithm\", y = \"val\", data = pltData, kind=\"bar\", col = \"metric\", aspect=1.2, height=3, sharey=False)"
   ]
  },
  {
   "cell_type": "markdown",
   "id": "b0b226c8",
   "metadata": {
    "papermill": {
     "duration": 0.062492,
     "end_time": "2022-01-07T23:07:32.478675",
     "exception": false,
     "start_time": "2022-01-07T23:07:32.416183",
     "status": "completed"
    },
    "tags": []
   },
   "source": [
    "### Statistical Testing"
   ]
  },
  {
   "cell_type": "markdown",
   "id": "185a6010",
   "metadata": {
    "papermill": {
     "duration": 0.046865,
     "end_time": "2022-01-07T23:07:32.572398",
     "exception": false,
     "start_time": "2022-01-07T23:07:32.525533",
     "status": "completed"
    },
    "tags": []
   },
   "source": [
    "We will now examine these metrics in more detail and test for statistical significance.  Best practice for statistical testing for recommender systems is still a work in progress, but this method avoids most of the validity problems we know about.\n",
    "\n",
    "The Friedman $\\chi^2$ test will test the null hypothesis that there is no difference between algorithms in terms of their performance."
   ]
  },
  {
   "cell_type": "code",
   "execution_count": 17,
   "id": "fec5a027",
   "metadata": {
    "execution": {
     "iopub.execute_input": "2022-01-07T23:07:32.666141Z",
     "iopub.status.busy": "2022-01-07T23:07:32.666141Z",
     "iopub.status.idle": "2022-01-07T23:07:32.681765Z",
     "shell.execute_reply": "2022-01-07T23:07:32.681765Z"
    },
    "papermill": {
     "duration": 0.062495,
     "end_time": "2022-01-07T23:07:32.681765",
     "exception": false,
     "start_time": "2022-01-07T23:07:32.619270",
     "status": "completed"
    },
    "tags": []
   },
   "outputs": [],
   "source": [
    "def metric_friedman(metric):\n",
    "    groups = [df[metric] for a, df in results.groupby('algorithm')]\n",
    "    l=[]\n",
    "    for i in groups: \n",
    "        k = len(i)\n",
    "        l.append(k)\n",
    "    if (len(set(l))<=1):\n",
    "        stat, p = friedmanchisquare(*groups)\n",
    "        return pd.Series({'stat': stat, 'p': p}, name=metric)\n",
    "    else:\n",
    "        print('unequal N')"
   ]
  },
  {
   "cell_type": "markdown",
   "id": "f2cacb77",
   "metadata": {
    "papermill": {
     "duration": 0.046871,
     "end_time": "2022-01-07T23:07:32.775508",
     "exception": false,
     "start_time": "2022-01-07T23:07:32.728637",
     "status": "completed"
    },
    "tags": []
   },
   "source": [
    "If the test detects significance, we have at least one pair of different algorithms - but which pairs?  Unfortunately, the good tests aren't readily available in scipy and friends, so we're going to take a conservative approch and perform pairwise Wilconxon signed-rank tests with a Bonferroni adjustment."
   ]
  },
  {
   "cell_type": "code",
   "execution_count": 18,
   "id": "f1c9bb9d",
   "metadata": {
    "execution": {
     "iopub.execute_input": "2022-01-07T23:07:32.869252Z",
     "iopub.status.busy": "2022-01-07T23:07:32.869252Z",
     "iopub.status.idle": "2022-01-07T23:07:32.884894Z",
     "shell.execute_reply": "2022-01-07T23:07:32.884894Z"
    },
    "papermill": {
     "duration": 0.062514,
     "end_time": "2022-01-07T23:07:32.884894",
     "exception": false,
     "start_time": "2022-01-07T23:07:32.822380",
     "status": "completed"
    },
    "tags": []
   },
   "outputs": [],
   "source": [
    "# pairs = pd.DataFrame.from_records(combinations(rec_algos, 2), columns=['A1', 'A2'])\n",
    "# def am_wilcox(metric, p_scale = len(pairs)):\n",
    "#     def compute(df):\n",
    "#         vs1 = results.loc[df['A1'], metric]\n",
    "#         vs2 = results.loc[df['A2'], metric]\n",
    "#         print(len(vs1))\n",
    "#         print('---')\n",
    "#         print(len(vs2))\n",
    "#         print('---')\n",
    "#         diff = (vs1 - vs2).mean()\n",
    "#         stat, p = wilcoxon(vs1, vs2)\n",
    "#         return pd.Series({'diff': diff, 'stat': stat, 'p': p, 'adj_p': p * p_scale})\n",
    "#     scores = pairs.apply(compute, axis=1)\n",
    "#     return pairs.join(scores)"
   ]
  },
  {
   "cell_type": "code",
   "execution_count": 19,
   "id": "0b59889a",
   "metadata": {
    "execution": {
     "iopub.execute_input": "2022-01-07T23:07:32.978638Z",
     "iopub.status.busy": "2022-01-07T23:07:32.978638Z",
     "iopub.status.idle": "2022-01-07T23:07:32.994244Z",
     "shell.execute_reply": "2022-01-07T23:07:32.994244Z"
    },
    "papermill": {
     "duration": 0.062496,
     "end_time": "2022-01-07T23:07:32.994244",
     "exception": false,
     "start_time": "2022-01-07T23:07:32.931748",
     "status": "completed"
    },
    "tags": []
   },
   "outputs": [],
   "source": [
    "pairs = pd.DataFrame.from_records(combinations(rec_algos, 2), columns=['A1', 'A2'])\n",
    "def am_wilcox(metric, p_scale = len(pairs)):\n",
    "    def compute(df):\n",
    "        vs1 = results.loc[df['A1'], metric]\n",
    "        vs2 = results.loc[df['A2'], metric]\n",
    "        if len(vs1)!= len(vs2):\n",
    "            print('x and y is of different length')\n",
    "            print(len(vs1),len(vs2))\n",
    "        if len(vs1)== len(vs2):\n",
    "            diff = (vs1 - vs2).mean()\n",
    "            stat, p = wilcoxon(vs1, vs2)\n",
    "            return pd.Series({'diff': diff, 'stat': stat, 'p': p, 'adj_p': p * p_scale})\n",
    "    scores = pairs.apply(compute, axis=1)\n",
    "    return pairs.join(scores)"
   ]
  },
  {
   "cell_type": "markdown",
   "id": "781cf00e",
   "metadata": {
    "papermill": {
     "duration": 0.03123,
     "end_time": "2022-01-07T23:07:33.072363",
     "exception": false,
     "start_time": "2022-01-07T23:07:33.041133",
     "status": "completed"
    },
    "tags": []
   },
   "source": [
    "## Precision"
   ]
  },
  {
   "cell_type": "code",
   "execution_count": 20,
   "id": "ab3ceac4",
   "metadata": {
    "execution": {
     "iopub.execute_input": "2022-01-07T23:07:33.181732Z",
     "iopub.status.busy": "2022-01-07T23:07:33.166107Z",
     "iopub.status.idle": "2022-01-07T23:07:33.244227Z",
     "shell.execute_reply": "2022-01-07T23:07:33.244227Z"
    },
    "papermill": {
     "duration": 0.124993,
     "end_time": "2022-01-07T23:07:33.244227",
     "exception": false,
     "start_time": "2022-01-07T23:07:33.119234",
     "status": "completed"
    },
    "tags": []
   },
   "outputs": [
    {
     "name": "stdout",
     "output_type": "stream",
     "text": [
      "unequal N\n"
     ]
    }
   ],
   "source": [
    "metric_friedman('precision')"
   ]
  },
  {
   "cell_type": "markdown",
   "id": "7da25816",
   "metadata": {
    "papermill": {
     "duration": 0.046871,
     "end_time": "2022-01-07T23:07:33.337969",
     "exception": false,
     "start_time": "2022-01-07T23:07:33.291098",
     "status": "completed"
    },
    "tags": []
   },
   "source": [
    "This indicates a statistically significant difference exists - but where is it?\n",
    "\n",
    "To answer that question, we need a post-hoc test. "
   ]
  },
  {
   "cell_type": "code",
   "execution_count": 21,
   "id": "15544c72",
   "metadata": {
    "execution": {
     "iopub.execute_input": "2022-01-07T23:07:33.431714Z",
     "iopub.status.busy": "2022-01-07T23:07:33.431714Z",
     "iopub.status.idle": "2022-01-07T23:07:33.744210Z",
     "shell.execute_reply": "2022-01-07T23:07:33.744210Z"
    },
    "papermill": {
     "duration": 0.359369,
     "end_time": "2022-01-07T23:07:33.744210",
     "exception": false,
     "start_time": "2022-01-07T23:07:33.384841",
     "status": "completed"
    },
    "tags": []
   },
   "outputs": [
    {
     "name": "stdout",
     "output_type": "stream",
     "text": [
      "x and y is of different length\n",
      "69878 69840\n",
      "x and y is of different length\n",
      "69878 69840\n",
      "x and y is of different length\n",
      "69878 69840\n",
      "x and y is of different length\n",
      "69878 69840\n",
      "x and y is of different length\n",
      "69878 69840\n"
     ]
    },
    {
     "data": {
      "text/html": [
       "<div>\n",
       "<style scoped>\n",
       "    .dataframe tbody tr th:only-of-type {\n",
       "        vertical-align: middle;\n",
       "    }\n",
       "\n",
       "    .dataframe tbody tr th {\n",
       "        vertical-align: top;\n",
       "    }\n",
       "\n",
       "    .dataframe thead th {\n",
       "        text-align: right;\n",
       "    }\n",
       "</style>\n",
       "<table border=\"1\" class=\"dataframe\">\n",
       "  <thead>\n",
       "    <tr style=\"text-align: right;\">\n",
       "      <th></th>\n",
       "      <th>A1</th>\n",
       "      <th>A2</th>\n",
       "      <th>diff</th>\n",
       "      <th>stat</th>\n",
       "      <th>p</th>\n",
       "      <th>adj_p</th>\n",
       "    </tr>\n",
       "  </thead>\n",
       "  <tbody>\n",
       "    <tr>\n",
       "      <th>9</th>\n",
       "      <td>IALS</td>\n",
       "      <td>II</td>\n",
       "      <td>0.026577</td>\n",
       "      <td>12876100.5</td>\n",
       "      <td>0.000000e+00</td>\n",
       "      <td>0.000000e+00</td>\n",
       "    </tr>\n",
       "    <tr>\n",
       "      <th>10</th>\n",
       "      <td>IALS</td>\n",
       "      <td>Pop</td>\n",
       "      <td>0.011319</td>\n",
       "      <td>148373589.5</td>\n",
       "      <td>0.000000e+00</td>\n",
       "      <td>0.000000e+00</td>\n",
       "    </tr>\n",
       "    <tr>\n",
       "      <th>6</th>\n",
       "      <td>Bias</td>\n",
       "      <td>II</td>\n",
       "      <td>0.002535</td>\n",
       "      <td>40288827.5</td>\n",
       "      <td>0.000000e+00</td>\n",
       "      <td>0.000000e+00</td>\n",
       "    </tr>\n",
       "    <tr>\n",
       "      <th>2</th>\n",
       "      <td>ALS</td>\n",
       "      <td>II</td>\n",
       "      <td>0.002372</td>\n",
       "      <td>26394496.5</td>\n",
       "      <td>0.000000e+00</td>\n",
       "      <td>0.000000e+00</td>\n",
       "    </tr>\n",
       "    <tr>\n",
       "      <th>0</th>\n",
       "      <td>ALS</td>\n",
       "      <td>Bias</td>\n",
       "      <td>-0.000162</td>\n",
       "      <td>56156356.0</td>\n",
       "      <td>3.150265e-17</td>\n",
       "      <td>4.725398e-16</td>\n",
       "    </tr>\n",
       "    <tr>\n",
       "      <th>7</th>\n",
       "      <td>Bias</td>\n",
       "      <td>Pop</td>\n",
       "      <td>-0.012723</td>\n",
       "      <td>70408156.0</td>\n",
       "      <td>0.000000e+00</td>\n",
       "      <td>0.000000e+00</td>\n",
       "    </tr>\n",
       "    <tr>\n",
       "      <th>3</th>\n",
       "      <td>ALS</td>\n",
       "      <td>Pop</td>\n",
       "      <td>-0.012885</td>\n",
       "      <td>65760084.0</td>\n",
       "      <td>0.000000e+00</td>\n",
       "      <td>0.000000e+00</td>\n",
       "    </tr>\n",
       "    <tr>\n",
       "      <th>12</th>\n",
       "      <td>II</td>\n",
       "      <td>Pop</td>\n",
       "      <td>-0.015257</td>\n",
       "      <td>34715428.0</td>\n",
       "      <td>0.000000e+00</td>\n",
       "      <td>0.000000e+00</td>\n",
       "    </tr>\n",
       "    <tr>\n",
       "      <th>5</th>\n",
       "      <td>Bias</td>\n",
       "      <td>IALS</td>\n",
       "      <td>-0.024042</td>\n",
       "      <td>25656958.0</td>\n",
       "      <td>0.000000e+00</td>\n",
       "      <td>0.000000e+00</td>\n",
       "    </tr>\n",
       "    <tr>\n",
       "      <th>1</th>\n",
       "      <td>ALS</td>\n",
       "      <td>IALS</td>\n",
       "      <td>-0.024204</td>\n",
       "      <td>23117872.5</td>\n",
       "      <td>0.000000e+00</td>\n",
       "      <td>0.000000e+00</td>\n",
       "    </tr>\n",
       "    <tr>\n",
       "      <th>4</th>\n",
       "      <td>ALS</td>\n",
       "      <td>UU</td>\n",
       "      <td>NaN</td>\n",
       "      <td>NaN</td>\n",
       "      <td>NaN</td>\n",
       "      <td>NaN</td>\n",
       "    </tr>\n",
       "    <tr>\n",
       "      <th>8</th>\n",
       "      <td>Bias</td>\n",
       "      <td>UU</td>\n",
       "      <td>NaN</td>\n",
       "      <td>NaN</td>\n",
       "      <td>NaN</td>\n",
       "      <td>NaN</td>\n",
       "    </tr>\n",
       "    <tr>\n",
       "      <th>11</th>\n",
       "      <td>IALS</td>\n",
       "      <td>UU</td>\n",
       "      <td>NaN</td>\n",
       "      <td>NaN</td>\n",
       "      <td>NaN</td>\n",
       "      <td>NaN</td>\n",
       "    </tr>\n",
       "    <tr>\n",
       "      <th>13</th>\n",
       "      <td>II</td>\n",
       "      <td>UU</td>\n",
       "      <td>NaN</td>\n",
       "      <td>NaN</td>\n",
       "      <td>NaN</td>\n",
       "      <td>NaN</td>\n",
       "    </tr>\n",
       "    <tr>\n",
       "      <th>14</th>\n",
       "      <td>Pop</td>\n",
       "      <td>UU</td>\n",
       "      <td>NaN</td>\n",
       "      <td>NaN</td>\n",
       "      <td>NaN</td>\n",
       "      <td>NaN</td>\n",
       "    </tr>\n",
       "  </tbody>\n",
       "</table>\n",
       "</div>"
      ],
      "text/plain": [
       "      A1    A2      diff         stat             p         adj_p\n",
       "9   IALS    II  0.026577   12876100.5  0.000000e+00  0.000000e+00\n",
       "10  IALS   Pop  0.011319  148373589.5  0.000000e+00  0.000000e+00\n",
       "6   Bias    II  0.002535   40288827.5  0.000000e+00  0.000000e+00\n",
       "2    ALS    II  0.002372   26394496.5  0.000000e+00  0.000000e+00\n",
       "0    ALS  Bias -0.000162   56156356.0  3.150265e-17  4.725398e-16\n",
       "7   Bias   Pop -0.012723   70408156.0  0.000000e+00  0.000000e+00\n",
       "3    ALS   Pop -0.012885   65760084.0  0.000000e+00  0.000000e+00\n",
       "12    II   Pop -0.015257   34715428.0  0.000000e+00  0.000000e+00\n",
       "5   Bias  IALS -0.024042   25656958.0  0.000000e+00  0.000000e+00\n",
       "1    ALS  IALS -0.024204   23117872.5  0.000000e+00  0.000000e+00\n",
       "4    ALS    UU       NaN          NaN           NaN           NaN\n",
       "8   Bias    UU       NaN          NaN           NaN           NaN\n",
       "11  IALS    UU       NaN          NaN           NaN           NaN\n",
       "13    II    UU       NaN          NaN           NaN           NaN\n",
       "14   Pop    UU       NaN          NaN           NaN           NaN"
      ]
     },
     "execution_count": 21,
     "metadata": {},
     "output_type": "execute_result"
    }
   ],
   "source": [
    "am_wilcox('precision').sort_values('diff', ascending=False)"
   ]
  },
  {
   "cell_type": "markdown",
   "id": "4f3cea71",
   "metadata": {
    "papermill": {
     "duration": 0.07812,
     "end_time": "2022-01-07T23:07:33.869208",
     "exception": false,
     "start_time": "2022-01-07T23:07:33.791088",
     "status": "completed"
    },
    "tags": []
   },
   "source": [
    "We can consider pairs with an adjusted $p$ value less than 0.05 (5.0e-2) to be statistically significant.  However, we have so many data points, the substance of significance is questionable.  Pay attention to the 'diff' column, which is the difference between A1 and A2 (how much A1 outperforms A2)."
   ]
  },
  {
   "cell_type": "markdown",
   "id": "5560ce31",
   "metadata": {
    "papermill": {
     "duration": 0.046873,
     "end_time": "2022-01-07T23:07:33.962951",
     "exception": false,
     "start_time": "2022-01-07T23:07:33.916078",
     "status": "completed"
    },
    "tags": []
   },
   "source": [
    "### nDCG"
   ]
  },
  {
   "cell_type": "markdown",
   "id": "14187354",
   "metadata": {
    "papermill": {
     "duration": 0.062498,
     "end_time": "2022-01-07T23:07:34.072321",
     "exception": false,
     "start_time": "2022-01-07T23:07:34.009823",
     "status": "completed"
    },
    "tags": []
   },
   "source": [
    "Now let's do the same for nDCG:"
   ]
  },
  {
   "cell_type": "code",
   "execution_count": 22,
   "id": "5ba017f0",
   "metadata": {
    "execution": {
     "iopub.execute_input": "2022-01-07T23:07:34.181681Z",
     "iopub.status.busy": "2022-01-07T23:07:34.181681Z",
     "iopub.status.idle": "2022-01-07T23:07:34.259810Z",
     "shell.execute_reply": "2022-01-07T23:07:34.259810Z"
    },
    "papermill": {
     "duration": 0.14062,
     "end_time": "2022-01-07T23:07:34.259810",
     "exception": false,
     "start_time": "2022-01-07T23:07:34.119190",
     "status": "completed"
    },
    "tags": []
   },
   "outputs": [
    {
     "name": "stdout",
     "output_type": "stream",
     "text": [
      "unequal N\n"
     ]
    }
   ],
   "source": [
    "metric_friedman('ndcg')"
   ]
  },
  {
   "cell_type": "code",
   "execution_count": 23,
   "id": "19fe9adf",
   "metadata": {
    "execution": {
     "iopub.execute_input": "2022-01-07T23:07:34.353545Z",
     "iopub.status.busy": "2022-01-07T23:07:34.353545Z",
     "iopub.status.idle": "2022-01-07T23:07:34.712903Z",
     "shell.execute_reply": "2022-01-07T23:07:34.712903Z"
    },
    "papermill": {
     "duration": 0.406231,
     "end_time": "2022-01-07T23:07:34.712903",
     "exception": false,
     "start_time": "2022-01-07T23:07:34.306672",
     "status": "completed"
    },
    "tags": []
   },
   "outputs": [
    {
     "name": "stdout",
     "output_type": "stream",
     "text": [
      "x and y is of different length\n",
      "69878 69840\n",
      "x and y is of different length\n",
      "69878 69840\n",
      "x and y is of different length\n",
      "69878 69840\n"
     ]
    },
    {
     "name": "stdout",
     "output_type": "stream",
     "text": [
      "x and y is of different length\n",
      "69878 69840\n",
      "x and y is of different length\n",
      "69878 69840\n"
     ]
    },
    {
     "data": {
      "text/html": [
       "<div>\n",
       "<style scoped>\n",
       "    .dataframe tbody tr th:only-of-type {\n",
       "        vertical-align: middle;\n",
       "    }\n",
       "\n",
       "    .dataframe tbody tr th {\n",
       "        vertical-align: top;\n",
       "    }\n",
       "\n",
       "    .dataframe thead th {\n",
       "        text-align: right;\n",
       "    }\n",
       "</style>\n",
       "<table border=\"1\" class=\"dataframe\">\n",
       "  <thead>\n",
       "    <tr style=\"text-align: right;\">\n",
       "      <th></th>\n",
       "      <th>A1</th>\n",
       "      <th>A2</th>\n",
       "      <th>diff</th>\n",
       "      <th>stat</th>\n",
       "      <th>p</th>\n",
       "      <th>adj_p</th>\n",
       "    </tr>\n",
       "  </thead>\n",
       "  <tbody>\n",
       "    <tr>\n",
       "      <th>9</th>\n",
       "      <td>IALS</td>\n",
       "      <td>II</td>\n",
       "      <td>0.216460</td>\n",
       "      <td>28137754.0</td>\n",
       "      <td>0.000000e+00</td>\n",
       "      <td>0.000000e+00</td>\n",
       "    </tr>\n",
       "    <tr>\n",
       "      <th>10</th>\n",
       "      <td>IALS</td>\n",
       "      <td>Pop</td>\n",
       "      <td>0.078155</td>\n",
       "      <td>601640220.5</td>\n",
       "      <td>0.000000e+00</td>\n",
       "      <td>0.000000e+00</td>\n",
       "    </tr>\n",
       "    <tr>\n",
       "      <th>6</th>\n",
       "      <td>Bias</td>\n",
       "      <td>II</td>\n",
       "      <td>0.033168</td>\n",
       "      <td>56725338.5</td>\n",
       "      <td>0.000000e+00</td>\n",
       "      <td>0.000000e+00</td>\n",
       "    </tr>\n",
       "    <tr>\n",
       "      <th>2</th>\n",
       "      <td>ALS</td>\n",
       "      <td>II</td>\n",
       "      <td>0.028404</td>\n",
       "      <td>37484743.0</td>\n",
       "      <td>0.000000e+00</td>\n",
       "      <td>0.000000e+00</td>\n",
       "    </tr>\n",
       "    <tr>\n",
       "      <th>0</th>\n",
       "      <td>ALS</td>\n",
       "      <td>Bias</td>\n",
       "      <td>-0.004764</td>\n",
       "      <td>197352744.5</td>\n",
       "      <td>3.901495e-28</td>\n",
       "      <td>5.852242e-27</td>\n",
       "    </tr>\n",
       "    <tr>\n",
       "      <th>7</th>\n",
       "      <td>Bias</td>\n",
       "      <td>Pop</td>\n",
       "      <td>-0.105137</td>\n",
       "      <td>203418225.0</td>\n",
       "      <td>0.000000e+00</td>\n",
       "      <td>0.000000e+00</td>\n",
       "    </tr>\n",
       "    <tr>\n",
       "      <th>3</th>\n",
       "      <td>ALS</td>\n",
       "      <td>Pop</td>\n",
       "      <td>-0.109901</td>\n",
       "      <td>167212904.5</td>\n",
       "      <td>0.000000e+00</td>\n",
       "      <td>0.000000e+00</td>\n",
       "    </tr>\n",
       "    <tr>\n",
       "      <th>12</th>\n",
       "      <td>II</td>\n",
       "      <td>Pop</td>\n",
       "      <td>-0.138305</td>\n",
       "      <td>47824251.5</td>\n",
       "      <td>0.000000e+00</td>\n",
       "      <td>0.000000e+00</td>\n",
       "    </tr>\n",
       "    <tr>\n",
       "      <th>5</th>\n",
       "      <td>Bias</td>\n",
       "      <td>IALS</td>\n",
       "      <td>-0.183292</td>\n",
       "      <td>143118767.5</td>\n",
       "      <td>0.000000e+00</td>\n",
       "      <td>0.000000e+00</td>\n",
       "    </tr>\n",
       "    <tr>\n",
       "      <th>1</th>\n",
       "      <td>ALS</td>\n",
       "      <td>IALS</td>\n",
       "      <td>-0.188056</td>\n",
       "      <td>115838273.5</td>\n",
       "      <td>0.000000e+00</td>\n",
       "      <td>0.000000e+00</td>\n",
       "    </tr>\n",
       "    <tr>\n",
       "      <th>4</th>\n",
       "      <td>ALS</td>\n",
       "      <td>UU</td>\n",
       "      <td>NaN</td>\n",
       "      <td>NaN</td>\n",
       "      <td>NaN</td>\n",
       "      <td>NaN</td>\n",
       "    </tr>\n",
       "    <tr>\n",
       "      <th>8</th>\n",
       "      <td>Bias</td>\n",
       "      <td>UU</td>\n",
       "      <td>NaN</td>\n",
       "      <td>NaN</td>\n",
       "      <td>NaN</td>\n",
       "      <td>NaN</td>\n",
       "    </tr>\n",
       "    <tr>\n",
       "      <th>11</th>\n",
       "      <td>IALS</td>\n",
       "      <td>UU</td>\n",
       "      <td>NaN</td>\n",
       "      <td>NaN</td>\n",
       "      <td>NaN</td>\n",
       "      <td>NaN</td>\n",
       "    </tr>\n",
       "    <tr>\n",
       "      <th>13</th>\n",
       "      <td>II</td>\n",
       "      <td>UU</td>\n",
       "      <td>NaN</td>\n",
       "      <td>NaN</td>\n",
       "      <td>NaN</td>\n",
       "      <td>NaN</td>\n",
       "    </tr>\n",
       "    <tr>\n",
       "      <th>14</th>\n",
       "      <td>Pop</td>\n",
       "      <td>UU</td>\n",
       "      <td>NaN</td>\n",
       "      <td>NaN</td>\n",
       "      <td>NaN</td>\n",
       "      <td>NaN</td>\n",
       "    </tr>\n",
       "  </tbody>\n",
       "</table>\n",
       "</div>"
      ],
      "text/plain": [
       "      A1    A2      diff         stat             p         adj_p\n",
       "9   IALS    II  0.216460   28137754.0  0.000000e+00  0.000000e+00\n",
       "10  IALS   Pop  0.078155  601640220.5  0.000000e+00  0.000000e+00\n",
       "6   Bias    II  0.033168   56725338.5  0.000000e+00  0.000000e+00\n",
       "2    ALS    II  0.028404   37484743.0  0.000000e+00  0.000000e+00\n",
       "0    ALS  Bias -0.004764  197352744.5  3.901495e-28  5.852242e-27\n",
       "7   Bias   Pop -0.105137  203418225.0  0.000000e+00  0.000000e+00\n",
       "3    ALS   Pop -0.109901  167212904.5  0.000000e+00  0.000000e+00\n",
       "12    II   Pop -0.138305   47824251.5  0.000000e+00  0.000000e+00\n",
       "5   Bias  IALS -0.183292  143118767.5  0.000000e+00  0.000000e+00\n",
       "1    ALS  IALS -0.188056  115838273.5  0.000000e+00  0.000000e+00\n",
       "4    ALS    UU       NaN          NaN           NaN           NaN\n",
       "8   Bias    UU       NaN          NaN           NaN           NaN\n",
       "11  IALS    UU       NaN          NaN           NaN           NaN\n",
       "13    II    UU       NaN          NaN           NaN           NaN\n",
       "14   Pop    UU       NaN          NaN           NaN           NaN"
      ]
     },
     "execution_count": 23,
     "metadata": {},
     "output_type": "execute_result"
    }
   ],
   "source": [
    "am_wilcox('ndcg').sort_values('diff', ascending=False)"
   ]
  },
  {
   "cell_type": "markdown",
   "id": "5c0d1873",
   "metadata": {
    "papermill": {
     "duration": 0.04687,
     "end_time": "2022-01-07T23:07:34.806637",
     "exception": false,
     "start_time": "2022-01-07T23:07:34.759767",
     "status": "completed"
    },
    "tags": []
   },
   "source": [
    "### Reciprocal Rank\n",
    "\n",
    "We'll do this also for reciprocal rank (what is aggregated to compute MRR):"
   ]
  },
  {
   "cell_type": "code",
   "execution_count": 24,
   "id": "99362b36",
   "metadata": {
    "execution": {
     "iopub.execute_input": "2022-01-07T23:07:34.916005Z",
     "iopub.status.busy": "2022-01-07T23:07:34.916005Z",
     "iopub.status.idle": "2022-01-07T23:07:34.994135Z",
     "shell.execute_reply": "2022-01-07T23:07:34.994135Z"
    },
    "papermill": {
     "duration": 0.125002,
     "end_time": "2022-01-07T23:07:34.994135",
     "exception": false,
     "start_time": "2022-01-07T23:07:34.869133",
     "status": "completed"
    },
    "tags": []
   },
   "outputs": [
    {
     "name": "stdout",
     "output_type": "stream",
     "text": [
      "unequal N\n"
     ]
    }
   ],
   "source": [
    "metric_friedman('recip_rank')"
   ]
  },
  {
   "cell_type": "code",
   "execution_count": 25,
   "id": "379d1964",
   "metadata": {
    "execution": {
     "iopub.execute_input": "2022-01-07T23:07:35.103492Z",
     "iopub.status.busy": "2022-01-07T23:07:35.087859Z",
     "iopub.status.idle": "2022-01-07T23:07:35.415978Z",
     "shell.execute_reply": "2022-01-07T23:07:35.415978Z"
    },
    "papermill": {
     "duration": 0.374982,
     "end_time": "2022-01-07T23:07:35.415978",
     "exception": false,
     "start_time": "2022-01-07T23:07:35.040996",
     "status": "completed"
    },
    "tags": []
   },
   "outputs": [
    {
     "name": "stdout",
     "output_type": "stream",
     "text": [
      "x and y is of different length\n",
      "69878 69840\n",
      "x and y is of different length\n",
      "69878 69840\n",
      "x and y is of different length\n",
      "69878 69840\n",
      "x and y is of different length\n",
      "69878 69840\n",
      "x and y is of different length\n",
      "69878 "
     ]
    },
    {
     "name": "stdout",
     "output_type": "stream",
     "text": [
      "69840\n"
     ]
    },
    {
     "data": {
      "text/html": [
       "<div>\n",
       "<style scoped>\n",
       "    .dataframe tbody tr th:only-of-type {\n",
       "        vertical-align: middle;\n",
       "    }\n",
       "\n",
       "    .dataframe tbody tr th {\n",
       "        vertical-align: top;\n",
       "    }\n",
       "\n",
       "    .dataframe thead th {\n",
       "        text-align: right;\n",
       "    }\n",
       "</style>\n",
       "<table border=\"1\" class=\"dataframe\">\n",
       "  <thead>\n",
       "    <tr style=\"text-align: right;\">\n",
       "      <th></th>\n",
       "      <th>A1</th>\n",
       "      <th>A2</th>\n",
       "      <th>diff</th>\n",
       "      <th>stat</th>\n",
       "      <th>p</th>\n",
       "      <th>adj_p</th>\n",
       "    </tr>\n",
       "  </thead>\n",
       "  <tbody>\n",
       "    <tr>\n",
       "      <th>9</th>\n",
       "      <td>IALS</td>\n",
       "      <td>II</td>\n",
       "      <td>0.196246</td>\n",
       "      <td>64337679.0</td>\n",
       "      <td>0.000000e+00</td>\n",
       "      <td>0.000000e+00</td>\n",
       "    </tr>\n",
       "    <tr>\n",
       "      <th>6</th>\n",
       "      <td>Bias</td>\n",
       "      <td>II</td>\n",
       "      <td>0.062264</td>\n",
       "      <td>58118732.0</td>\n",
       "      <td>0.000000e+00</td>\n",
       "      <td>0.000000e+00</td>\n",
       "    </tr>\n",
       "    <tr>\n",
       "      <th>2</th>\n",
       "      <td>ALS</td>\n",
       "      <td>II</td>\n",
       "      <td>0.042897</td>\n",
       "      <td>36443647.0</td>\n",
       "      <td>0.000000e+00</td>\n",
       "      <td>0.000000e+00</td>\n",
       "    </tr>\n",
       "    <tr>\n",
       "      <th>10</th>\n",
       "      <td>IALS</td>\n",
       "      <td>Pop</td>\n",
       "      <td>0.026006</td>\n",
       "      <td>875013883.5</td>\n",
       "      <td>0.000000e+00</td>\n",
       "      <td>0.000000e+00</td>\n",
       "    </tr>\n",
       "    <tr>\n",
       "      <th>0</th>\n",
       "      <td>ALS</td>\n",
       "      <td>Bias</td>\n",
       "      <td>-0.019367</td>\n",
       "      <td>190098434.0</td>\n",
       "      <td>4.520950e-40</td>\n",
       "      <td>6.781424e-39</td>\n",
       "    </tr>\n",
       "    <tr>\n",
       "      <th>7</th>\n",
       "      <td>Bias</td>\n",
       "      <td>Pop</td>\n",
       "      <td>-0.107976</td>\n",
       "      <td>316230610.0</td>\n",
       "      <td>0.000000e+00</td>\n",
       "      <td>0.000000e+00</td>\n",
       "    </tr>\n",
       "    <tr>\n",
       "      <th>3</th>\n",
       "      <td>ALS</td>\n",
       "      <td>Pop</td>\n",
       "      <td>-0.127344</td>\n",
       "      <td>252941486.0</td>\n",
       "      <td>0.000000e+00</td>\n",
       "      <td>0.000000e+00</td>\n",
       "    </tr>\n",
       "    <tr>\n",
       "      <th>5</th>\n",
       "      <td>Bias</td>\n",
       "      <td>IALS</td>\n",
       "      <td>-0.133982</td>\n",
       "      <td>341545904.0</td>\n",
       "      <td>0.000000e+00</td>\n",
       "      <td>0.000000e+00</td>\n",
       "    </tr>\n",
       "    <tr>\n",
       "      <th>1</th>\n",
       "      <td>ALS</td>\n",
       "      <td>IALS</td>\n",
       "      <td>-0.153349</td>\n",
       "      <td>288986917.5</td>\n",
       "      <td>0.000000e+00</td>\n",
       "      <td>0.000000e+00</td>\n",
       "    </tr>\n",
       "    <tr>\n",
       "      <th>12</th>\n",
       "      <td>II</td>\n",
       "      <td>Pop</td>\n",
       "      <td>-0.170240</td>\n",
       "      <td>57517181.5</td>\n",
       "      <td>0.000000e+00</td>\n",
       "      <td>0.000000e+00</td>\n",
       "    </tr>\n",
       "    <tr>\n",
       "      <th>4</th>\n",
       "      <td>ALS</td>\n",
       "      <td>UU</td>\n",
       "      <td>NaN</td>\n",
       "      <td>NaN</td>\n",
       "      <td>NaN</td>\n",
       "      <td>NaN</td>\n",
       "    </tr>\n",
       "    <tr>\n",
       "      <th>8</th>\n",
       "      <td>Bias</td>\n",
       "      <td>UU</td>\n",
       "      <td>NaN</td>\n",
       "      <td>NaN</td>\n",
       "      <td>NaN</td>\n",
       "      <td>NaN</td>\n",
       "    </tr>\n",
       "    <tr>\n",
       "      <th>11</th>\n",
       "      <td>IALS</td>\n",
       "      <td>UU</td>\n",
       "      <td>NaN</td>\n",
       "      <td>NaN</td>\n",
       "      <td>NaN</td>\n",
       "      <td>NaN</td>\n",
       "    </tr>\n",
       "    <tr>\n",
       "      <th>13</th>\n",
       "      <td>II</td>\n",
       "      <td>UU</td>\n",
       "      <td>NaN</td>\n",
       "      <td>NaN</td>\n",
       "      <td>NaN</td>\n",
       "      <td>NaN</td>\n",
       "    </tr>\n",
       "    <tr>\n",
       "      <th>14</th>\n",
       "      <td>Pop</td>\n",
       "      <td>UU</td>\n",
       "      <td>NaN</td>\n",
       "      <td>NaN</td>\n",
       "      <td>NaN</td>\n",
       "      <td>NaN</td>\n",
       "    </tr>\n",
       "  </tbody>\n",
       "</table>\n",
       "</div>"
      ],
      "text/plain": [
       "      A1    A2      diff         stat             p         adj_p\n",
       "9   IALS    II  0.196246   64337679.0  0.000000e+00  0.000000e+00\n",
       "6   Bias    II  0.062264   58118732.0  0.000000e+00  0.000000e+00\n",
       "2    ALS    II  0.042897   36443647.0  0.000000e+00  0.000000e+00\n",
       "10  IALS   Pop  0.026006  875013883.5  0.000000e+00  0.000000e+00\n",
       "0    ALS  Bias -0.019367  190098434.0  4.520950e-40  6.781424e-39\n",
       "7   Bias   Pop -0.107976  316230610.0  0.000000e+00  0.000000e+00\n",
       "3    ALS   Pop -0.127344  252941486.0  0.000000e+00  0.000000e+00\n",
       "5   Bias  IALS -0.133982  341545904.0  0.000000e+00  0.000000e+00\n",
       "1    ALS  IALS -0.153349  288986917.5  0.000000e+00  0.000000e+00\n",
       "12    II   Pop -0.170240   57517181.5  0.000000e+00  0.000000e+00\n",
       "4    ALS    UU       NaN          NaN           NaN           NaN\n",
       "8   Bias    UU       NaN          NaN           NaN           NaN\n",
       "11  IALS    UU       NaN          NaN           NaN           NaN\n",
       "13    II    UU       NaN          NaN           NaN           NaN\n",
       "14   Pop    UU       NaN          NaN           NaN           NaN"
      ]
     },
     "execution_count": 25,
     "metadata": {},
     "output_type": "execute_result"
    }
   ],
   "source": [
    "am_wilcox('recip_rank').sort_values('diff', ascending=False)"
   ]
  },
  {
   "cell_type": "markdown",
   "id": "3ad76cba",
   "metadata": {
    "papermill": {
     "duration": 0.046872,
     "end_time": "2022-01-07T23:07:35.509715",
     "exception": false,
     "start_time": "2022-01-07T23:07:35.462843",
     "status": "completed"
    },
    "tags": []
   },
   "source": [
    "## Prediction RMSE\n",
    "\n",
    "We will also look at the prediction RMSE."
   ]
  },
  {
   "cell_type": "code",
   "execution_count": 26,
   "id": "e874e5e3",
   "metadata": {
    "execution": {
     "iopub.execute_input": "2022-01-07T23:07:35.634687Z",
     "iopub.status.busy": "2022-01-07T23:07:35.634687Z",
     "iopub.status.idle": "2022-01-07T23:12:28.043653Z",
     "shell.execute_reply": "2022-01-07T23:12:28.043653Z"
    },
    "papermill": {
     "duration": 292.472441,
     "end_time": "2022-01-07T23:12:28.044652",
     "exception": false,
     "start_time": "2022-01-07T23:07:35.572211",
     "status": "completed"
    },
    "tags": []
   },
   "outputs": [],
   "source": [
    "user_rmse = preds.groupby(['algorithm', 'user']).apply(lambda df: rmse(df['prediction'], df['rating']))\n",
    "user_rmse = user_rmse.reset_index(name='RMSE')"
   ]
  },
  {
   "cell_type": "code",
   "execution_count": 27,
   "id": "33139a3a",
   "metadata": {
    "execution": {
     "iopub.execute_input": "2022-01-07T23:12:28.144319Z",
     "iopub.status.busy": "2022-01-07T23:12:28.144319Z",
     "iopub.status.idle": "2022-01-07T23:12:32.101854Z",
     "shell.execute_reply": "2022-01-07T23:12:32.102872Z"
    },
    "papermill": {
     "duration": 4.004269,
     "end_time": "2022-01-07T23:12:32.102872",
     "exception": false,
     "start_time": "2022-01-07T23:12:28.098603",
     "status": "completed"
    },
    "tags": []
   },
   "outputs": [
    {
     "data": {
      "text/plain": [
       "<seaborn.axisgrid.FacetGrid at 0x1b30ff38370>"
      ]
     },
     "execution_count": 27,
     "metadata": {},
     "output_type": "execute_result"
    },
    {
     "data": {
      "image/png": "[encoded data removed]",
      "text/plain": [
       "<Figure size 360x360 with 1 Axes>"
      ]
     },
     "metadata": {
      "needs_background": "light"
     },
     "output_type": "display_data"
    }
   ],
   "source": [
    "sns.catplot(x='algorithm', y='RMSE', data=user_rmse, kind='bar')"
   ]
  },
  {
   "cell_type": "code",
   "execution_count": null,
   "id": "e33527dd",
   "metadata": {
    "papermill": {
     "duration": 0.062497,
     "end_time": "2022-01-07T23:12:32.207670",
     "exception": false,
     "start_time": "2022-01-07T23:12:32.145173",
     "status": "completed"
    },
    "tags": []
   },
   "outputs": [],
   "source": []
  }
 ],
 "metadata": {
  "kernelspec": {
   "display_name": "Python 3",
   "language": "python",
   "name": "python3"
  },
  "language_info": {
   "codemirror_mode": {
    "name": "ipython",
    "version": 3
   },
   "file_extension": ".py",
   "mimetype": "text/x-python",
   "name": "python",
   "nbconvert_exporter": "python",
   "pygments_lexer": "ipython3",
   "version": "3.9.9"
  },
  "papermill": {
   "default_parameters": {},
   "duration": 425.536365,
   "end_time": "2022-01-07T23:12:32.804866",
   "environment_variables": {},
   "exception": null,
   "input_path": "eval-report.ipynb",
   "output_path": "eval-report.ml10m.ipynb",
   "parameters": {
    "dataset": "ml10m"
   },
   "start_time": "2022-01-07T23:05:27.268501",
   "version": "2.3.3"
  }
 },
 "nbformat": 4,
 "nbformat_minor": 5
}