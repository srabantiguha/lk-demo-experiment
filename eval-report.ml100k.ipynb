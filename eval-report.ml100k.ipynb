{
 "cells": [
  {
   "cell_type": "markdown",
   "id": "32c99138",
   "metadata": {
    "papermill": {
     "duration": 0.046843,
     "end_time": "2022-01-07T23:14:57.488162",
     "exception": false,
     "start_time": "2022-01-07T23:14:57.441319",
     "status": "completed"
    },
    "tags": []
   },
   "source": [
    "# Evaluation Analysis for Recommender Output"
   ]
  },
  {
   "cell_type": "markdown",
   "id": "e72f325b",
   "metadata": {
    "papermill": {
     "duration": 0.046846,
     "end_time": "2022-01-07T23:14:57.581877",
     "exception": false,
     "start_time": "2022-01-07T23:14:57.535031",
     "status": "completed"
    },
    "tags": []
   },
   "source": [
    "In this section we will analyze and compare the generated recommendations and predictions from a predefined list of algorithms with the goal of assessing the performance of each algorithm with respect to a metric. In other words, we would rank the algorithms for each metric considered with respect to performance."
   ]
  },
  {
   "cell_type": "markdown",
   "id": "5080a6d9",
   "metadata": {
    "papermill": {
     "duration": 0.046872,
     "end_time": "2022-01-07T23:14:57.659996",
     "exception": false,
     "start_time": "2022-01-07T23:14:57.613124",
     "status": "completed"
    },
    "tags": []
   },
   "source": [
    "# Setup"
   ]
  },
  {
   "cell_type": "markdown",
   "id": "6068ae7c",
   "metadata": {
    "papermill": {
     "duration": 0.031248,
     "end_time": "2022-01-07T23:14:57.722492",
     "exception": false,
     "start_time": "2022-01-07T23:14:57.691244",
     "status": "completed"
    },
    "tags": []
   },
   "source": [
    "Below are the list of packages required to successfully run the analysis. They are divided into partitions to signify their specific task.<br>\n",
    "We need the pathlib package for working with files and folders"
   ]
  },
  {
   "cell_type": "code",
   "execution_count": 1,
   "id": "9bb61074",
   "metadata": {
    "execution": {
     "iopub.execute_input": "2022-01-07T23:14:57.800611Z",
     "iopub.status.busy": "2022-01-07T23:14:57.800611Z",
     "iopub.status.idle": "2022-01-07T23:14:57.816237Z",
     "shell.execute_reply": "2022-01-07T23:14:57.816237Z"
    },
    "papermill": {
     "duration": 0.062497,
     "end_time": "2022-01-07T23:14:57.816237",
     "exception": false,
     "start_time": "2022-01-07T23:14:57.753740",
     "status": "completed"
    },
    "tags": []
   },
   "outputs": [],
   "source": [
    "from pathlib import Path"
   ]
  },
  {
   "cell_type": "markdown",
   "id": "9b263f92",
   "metadata": {
    "papermill": {
     "duration": 0.046846,
     "end_time": "2022-01-07T23:14:57.925604",
     "exception": false,
     "start_time": "2022-01-07T23:14:57.878758",
     "status": "completed"
    },
    "tags": []
   },
   "source": [
    "We would use the pandas for analyzing and manipulating our data while seaborn and matplotlib are used for data visualization. statsmodels.graphics.gofplots and scipy.stats.shapiro are used for normality check. Scipy.stats.friedmanchisquare is a non-parametric test used to determine the statistical significance in metric results and the wilcoxon test is used for pairwise comparison of sample data."
   ]
  },
  {
   "cell_type": "code",
   "execution_count": 2,
   "id": "a46f7721",
   "metadata": {
    "execution": {
     "iopub.execute_input": "2022-01-07T23:14:58.003723Z",
     "iopub.status.busy": "2022-01-07T23:14:58.003723Z",
     "iopub.status.idle": "2022-01-07T23:15:00.296105Z",
     "shell.execute_reply": "2022-01-07T23:15:00.296105Z"
    },
    "papermill": {
     "duration": 2.323631,
     "end_time": "2022-01-07T23:15:00.296105",
     "exception": false,
     "start_time": "2022-01-07T23:14:57.972474",
     "status": "completed"
    },
    "tags": []
   },
   "outputs": [],
   "source": [
    "import pandas as pd\n",
    "import seaborn as sns\n",
    "import matplotlib.pyplot as plt\n",
    "from statsmodels.graphics.gofplots import qqplot\n",
    "from scipy.stats import shapiro\n",
    "from scipy.stats import friedmanchisquare, wilcoxon\n",
    "from itertools import combinations"
   ]
  },
  {
   "cell_type": "markdown",
   "id": "69780e9b",
   "metadata": {
    "papermill": {
     "duration": 0.062495,
     "end_time": "2022-01-07T23:15:00.405445",
     "exception": false,
     "start_time": "2022-01-07T23:15:00.342950",
     "status": "completed"
    },
    "tags": []
   },
   "source": [
    "Logging to show what's happening in LensKit routines:"
   ]
  },
  {
   "cell_type": "code",
   "execution_count": 3,
   "id": "d97c2eec",
   "metadata": {
    "execution": {
     "iopub.execute_input": "2022-01-07T23:15:00.483589Z",
     "iopub.status.busy": "2022-01-07T23:15:00.467965Z",
     "iopub.status.idle": "2022-01-07T23:15:00.546086Z",
     "shell.execute_reply": "2022-01-07T23:15:00.546086Z"
    },
    "papermill": {
     "duration": 0.109368,
     "end_time": "2022-01-07T23:15:00.546086",
     "exception": false,
     "start_time": "2022-01-07T23:15:00.436718",
     "status": "completed"
    },
    "tags": []
   },
   "outputs": [
    {
     "name": "stdout",
     "output_type": "stream",
     "text": [
      "[   INFO] lenskit.util.log notebook logging configured\n"
     ]
    }
   ],
   "source": [
    "from lenskit import util\n",
    "util.log_to_notebook()"
   ]
  },
  {
   "cell_type": "markdown",
   "id": "de78e38a",
   "metadata": {
    "papermill": {
     "duration": 0.046871,
     "end_time": "2022-01-07T23:15:00.655427",
     "exception": false,
     "start_time": "2022-01-07T23:15:00.608556",
     "status": "completed"
    },
    "tags": []
   },
   "source": [
    "We will use lenskit for training, running, and evaluating recommender algorithms"
   ]
  },
  {
   "cell_type": "code",
   "execution_count": 4,
   "id": "35149eb1",
   "metadata": {
    "execution": {
     "iopub.execute_input": "2022-01-07T23:15:00.749172Z",
     "iopub.status.busy": "2022-01-07T23:15:00.749172Z",
     "iopub.status.idle": "2022-01-07T23:15:00.764817Z",
     "shell.execute_reply": "2022-01-07T23:15:00.764817Z"
    },
    "papermill": {
     "duration": 0.062516,
     "end_time": "2022-01-07T23:15:00.764817",
     "exception": false,
     "start_time": "2022-01-07T23:15:00.702301",
     "status": "completed"
    },
    "tags": []
   },
   "outputs": [],
   "source": [
    "from lenskit import topn\n",
    "from lenskit.metrics.predict import rmse"
   ]
  },
  {
   "cell_type": "markdown",
   "id": "7ab89581",
   "metadata": {
    "papermill": {
     "duration": 0.031248,
     "end_time": "2022-01-07T23:15:00.827292",
     "exception": false,
     "start_time": "2022-01-07T23:15:00.796044",
     "status": "completed"
    },
    "tags": []
   },
   "source": [
    "# Load Data"
   ]
  },
  {
   "cell_type": "markdown",
   "id": "b9d91b2d",
   "metadata": {
    "papermill": {
     "duration": 0.031266,
     "end_time": "2022-01-07T23:15:00.905429",
     "exception": false,
     "start_time": "2022-01-07T23:15:00.874163",
     "status": "completed"
    },
    "tags": []
   },
   "source": [
    "We specify the dataset we will use for our analysis and the main directory from where we read the recommendation and prediction files. From the main directory we find all the directories associated with the dataset and then read the recommendation and predictions files from those directories."
   ]
  },
  {
   "cell_type": "code",
   "execution_count": 5,
   "id": "2c4cfe79",
   "metadata": {
    "execution": {
     "iopub.execute_input": "2022-01-07T23:15:00.983531Z",
     "iopub.status.busy": "2022-01-07T23:15:00.983531Z",
     "iopub.status.idle": "2022-01-07T23:15:00.999174Z",
     "shell.execute_reply": "2022-01-07T23:15:00.999174Z"
    },
    "papermill": {
     "duration": 0.062498,
     "end_time": "2022-01-07T23:15:00.999174",
     "exception": false,
     "start_time": "2022-01-07T23:15:00.936676",
     "status": "completed"
    },
    "tags": [
     "parameters"
    ]
   },
   "outputs": [],
   "source": [
    "dataset = \"ml10m\""
   ]
  },
  {
   "cell_type": "code",
   "execution_count": 6,
   "id": "2a46fc8d",
   "metadata": {
    "execution": {
     "iopub.execute_input": "2022-01-07T23:15:01.077291Z",
     "iopub.status.busy": "2022-01-07T23:15:01.077291Z",
     "iopub.status.idle": "2022-01-07T23:15:01.092898Z",
     "shell.execute_reply": "2022-01-07T23:15:01.092898Z"
    },
    "papermill": {
     "duration": 0.062479,
     "end_time": "2022-01-07T23:15:01.092898",
     "exception": false,
     "start_time": "2022-01-07T23:15:01.030419",
     "status": "completed"
    },
    "tags": [
     "injected-parameters"
    ]
   },
   "outputs": [],
   "source": [
    "# Parameters\n",
    "dataset = \"ml100k\"\n"
   ]
  },
  {
   "cell_type": "code",
   "execution_count": 7,
   "id": "429186fd",
   "metadata": {
    "execution": {
     "iopub.execute_input": "2022-01-07T23:15:01.171036Z",
     "iopub.status.busy": "2022-01-07T23:15:01.171036Z",
     "iopub.status.idle": "2022-01-07T23:15:01.186660Z",
     "shell.execute_reply": "2022-01-07T23:15:01.186660Z"
    },
    "papermill": {
     "duration": 0.062514,
     "end_time": "2022-01-07T23:15:01.186660",
     "exception": false,
     "start_time": "2022-01-07T23:15:01.124146",
     "status": "completed"
    },
    "tags": []
   },
   "outputs": [],
   "source": [
    "output_root = Path(\"runs\")"
   ]
  },
  {
   "cell_type": "code",
   "execution_count": 8,
   "id": "c84c401f",
   "metadata": {
    "execution": {
     "iopub.execute_input": "2022-01-07T23:15:01.280385Z",
     "iopub.status.busy": "2022-01-07T23:15:01.280385Z",
     "iopub.status.idle": "2022-01-07T23:15:01.296027Z",
     "shell.execute_reply": "2022-01-07T23:15:01.296027Z"
    },
    "papermill": {
     "duration": 0.078119,
     "end_time": "2022-01-07T23:15:01.296027",
     "exception": false,
     "start_time": "2022-01-07T23:15:01.217908",
     "status": "completed"
    },
    "tags": []
   },
   "outputs": [],
   "source": [
    "dirs = [fld for fld in output_root.glob(f'{dataset}-*')]"
   ]
  },
  {
   "cell_type": "code",
   "execution_count": 9,
   "id": "70855dad",
   "metadata": {
    "execution": {
     "iopub.execute_input": "2022-01-07T23:15:01.374129Z",
     "iopub.status.busy": "2022-01-07T23:15:01.374129Z",
     "iopub.status.idle": "2022-01-07T23:15:02.030353Z",
     "shell.execute_reply": "2022-01-07T23:15:02.030353Z"
    },
    "papermill": {
     "duration": 0.703096,
     "end_time": "2022-01-07T23:15:02.030353",
     "exception": false,
     "start_time": "2022-01-07T23:15:01.327257",
     "status": "completed"
    },
    "tags": []
   },
   "outputs": [
    {
     "name": "stdout",
     "output_type": "stream",
     "text": [
      "<class 'pandas.core.frame.DataFrame'>\n",
      "RangeIndex: 565800 entries, 0 to 565799\n",
      "Data columns (total 5 columns):\n",
      " #   Column     Non-Null Count   Dtype   \n",
      "---  ------     --------------   -----   \n",
      " 0   item       565800 non-null  int64   \n",
      " 1   score      565800 non-null  float64 \n",
      " 2   user       565800 non-null  int64   \n",
      " 3   rank       565800 non-null  int64   \n",
      " 4   algorithm  565800 non-null  category\n",
      "dtypes: category(1), float64(1), int64(3)\n",
      "memory usage: 17.8 MB\n"
     ]
    }
   ],
   "source": [
    "recs = []\n",
    "for fld in dirs: \n",
    "    for file in fld.glob(\"recs-*\"):\n",
    "        rec = pd.read_csv(file, sep=',')\n",
    "        rec[\"algorithm\"] = fld.name.split(\"-\")[1]\n",
    "        recs.append(rec)\n",
    "\n",
    "recs = pd.concat(recs, ignore_index=True)\n",
    "recs = recs.astype({'algorithm': 'category'})\n",
    "recs.info()"
   ]
  },
  {
   "cell_type": "code",
   "execution_count": 10,
   "id": "f8f318c3",
   "metadata": {
    "execution": {
     "iopub.execute_input": "2022-01-07T23:15:02.108453Z",
     "iopub.status.busy": "2022-01-07T23:15:02.108453Z",
     "iopub.status.idle": "2022-01-07T23:15:02.124079Z",
     "shell.execute_reply": "2022-01-07T23:15:02.124079Z"
    },
    "papermill": {
     "duration": 0.062498,
     "end_time": "2022-01-07T23:15:02.124079",
     "exception": false,
     "start_time": "2022-01-07T23:15:02.061581",
     "status": "completed"
    },
    "tags": []
   },
   "outputs": [
    {
     "data": {
      "text/plain": [
       "['ALS', 'Bias', 'IALS', 'II', 'Pop', 'UU']\n",
       "Categories (6, object): ['ALS', 'Bias', 'IALS', 'II', 'Pop', 'UU']"
      ]
     },
     "execution_count": 10,
     "metadata": {},
     "output_type": "execute_result"
    }
   ],
   "source": [
    "rec_algos = recs['algorithm'].unique()\n",
    "rec_algos"
   ]
  },
  {
   "cell_type": "code",
   "execution_count": 11,
   "id": "70db5deb",
   "metadata": {
    "execution": {
     "iopub.execute_input": "2022-01-07T23:15:02.202214Z",
     "iopub.status.busy": "2022-01-07T23:15:02.202214Z",
     "iopub.status.idle": "2022-01-07T23:15:02.327189Z",
     "shell.execute_reply": "2022-01-07T23:15:02.327189Z"
    },
    "papermill": {
     "duration": 0.171865,
     "end_time": "2022-01-07T23:15:02.327189",
     "exception": false,
     "start_time": "2022-01-07T23:15:02.155324",
     "status": "completed"
    },
    "tags": []
   },
   "outputs": [
    {
     "name": "stdout",
     "output_type": "stream",
     "text": [
      "<class 'pandas.core.frame.DataFrame'>\n",
      "RangeIndex: 23575 entries, 0 to 23574\n",
      "Data columns (total 6 columns):\n",
      " #   Column      Non-Null Count  Dtype   \n",
      "---  ------      --------------  -----   \n",
      " 0   user        23575 non-null  int64   \n",
      " 1   item        23575 non-null  int64   \n",
      " 2   rating      23575 non-null  float64 \n",
      " 3   timestamp   23575 non-null  int64   \n",
      " 4   prediction  23545 non-null  float64 \n",
      " 5   algorithm   23575 non-null  category\n",
      "dtypes: category(1), float64(2), int64(3)\n",
      "memory usage: 944.3 KB\n"
     ]
    }
   ],
   "source": [
    "preds = []\n",
    "for fld in dirs:\n",
    "    for file in fld.glob(\"pred-*\"):\n",
    "        pred = pd.read_csv(file, sep=',')\n",
    "        pred[\"algorithm\"] = fld.name.split(\"-\")[1]\n",
    "        preds.append(pred)\n",
    "\n",
    "preds = pd.concat(preds, ignore_index=True)\n",
    "preds = preds.astype({'algorithm': 'category'})\n",
    "preds.info()"
   ]
  },
  {
   "cell_type": "markdown",
   "id": "1e0a4b07",
   "metadata": {
    "papermill": {
     "duration": 0.062521,
     "end_time": "2022-01-07T23:15:02.436581",
     "exception": false,
     "start_time": "2022-01-07T23:15:02.374060",
     "status": "completed"
    },
    "tags": []
   },
   "source": [
    "We need to load the test data so that we have the ground truths for computing accuracy "
   ]
  },
  {
   "cell_type": "code",
   "execution_count": 12,
   "id": "181f5acb",
   "metadata": {
    "execution": {
     "iopub.execute_input": "2022-01-07T23:15:02.514696Z",
     "iopub.status.busy": "2022-01-07T23:15:02.514696Z",
     "iopub.status.idle": "2022-01-07T23:15:02.530326Z",
     "shell.execute_reply": "2022-01-07T23:15:02.530326Z"
    },
    "papermill": {
     "duration": 0.046874,
     "end_time": "2022-01-07T23:15:02.530326",
     "exception": false,
     "start_time": "2022-01-07T23:15:02.483452",
     "status": "completed"
    },
    "tags": []
   },
   "outputs": [],
   "source": [
    "split_root = Path(\"data-split\")\n",
    "split_dir = split_root / dataset"
   ]
  },
  {
   "cell_type": "code",
   "execution_count": 13,
   "id": "715cd074",
   "metadata": {
    "execution": {
     "iopub.execute_input": "2022-01-07T23:15:02.608439Z",
     "iopub.status.busy": "2022-01-07T23:15:02.608439Z",
     "iopub.status.idle": "2022-01-07T23:15:02.655329Z",
     "shell.execute_reply": "2022-01-07T23:15:02.655329Z"
    },
    "papermill": {
     "duration": 0.093761,
     "end_time": "2022-01-07T23:15:02.655329",
     "exception": false,
     "start_time": "2022-01-07T23:15:02.561568",
     "status": "completed"
    },
    "tags": []
   },
   "outputs": [],
   "source": [
    "test = []\n",
    "for file in split_dir.glob(\"test-*.csv.gz\"):\n",
    "    test.append(pd.read_csv(file, sep=','))\n",
    "\n",
    "test = pd.concat(test, ignore_index=True)"
   ]
  },
  {
   "cell_type": "markdown",
   "id": "0c7b70fd",
   "metadata": {
    "papermill": {
     "duration": 0.062494,
     "end_time": "2022-01-07T23:15:02.764683",
     "exception": false,
     "start_time": "2022-01-07T23:15:02.702189",
     "status": "completed"
    },
    "tags": []
   },
   "source": [
    "# Top-N Metrics"
   ]
  },
  {
   "cell_type": "markdown",
   "id": "2a048108",
   "metadata": {
    "papermill": {
     "duration": 0.046872,
     "end_time": "2022-01-07T23:15:02.842804",
     "exception": false,
     "start_time": "2022-01-07T23:15:02.795932",
     "status": "completed"
    },
    "tags": []
   },
   "source": [
    "The topn.RecListAnalysis class computes top-N metrics for recommendation list and takes care of making sure that the recommendations and ground truths are properly matched. Refer to the documentation for detailed explanation of the purpose for the RecListAnalysis class and how the analysis is done - https://lkpy.lenskit.org/en/stable/evaluation/topn-metrics.html "
   ]
  },
  {
   "cell_type": "code",
   "execution_count": 14,
   "id": "7788f346",
   "metadata": {
    "execution": {
     "iopub.execute_input": "2022-01-07T23:15:02.920922Z",
     "iopub.status.busy": "2022-01-07T23:15:02.920922Z",
     "iopub.status.idle": "2022-01-07T23:15:03.670867Z",
     "shell.execute_reply": "2022-01-07T23:15:03.670867Z"
    },
    "papermill": {
     "duration": 0.796815,
     "end_time": "2022-01-07T23:15:03.670867",
     "exception": false,
     "start_time": "2022-01-07T23:15:02.874052",
     "status": "completed"
    },
    "tags": []
   },
   "outputs": [
    {
     "name": "stdout",
     "output_type": "stream",
     "text": [
      "[   INFO] lenskit.topn analyzing 565800 recommendations (4715 truth rows)\n"
     ]
    },
    {
     "name": "stdout",
     "output_type": "stream",
     "text": [
      "[   INFO] lenskit.topn using rec key columns ['algorithm', 'user']\n"
     ]
    },
    {
     "name": "stdout",
     "output_type": "stream",
     "text": [
      "[   INFO] lenskit.topn using truth key columns ['user']\n"
     ]
    },
    {
     "name": "stdout",
     "output_type": "stream",
     "text": [
      "[   INFO] lenskit.topn numbering truth lists\n"
     ]
    },
    {
     "name": "stdout",
     "output_type": "stream",
     "text": [
      "[   INFO] lenskit.topn numbering rec lists\n"
     ]
    },
    {
     "name": "stdout",
     "output_type": "stream",
     "text": [
      "[   INFO] lenskit.topn collecting metric results\n"
     ]
    },
    {
     "name": "stdout",
     "output_type": "stream",
     "text": [
      "[   INFO] lenskit.topn measured 5658 lists in  449ms\n"
     ]
    },
    {
     "name": "stdout",
     "output_type": "stream",
     "text": [
      "[   INFO] lenskit.topn filling in missing user info (5658 initial rows)\n"
     ]
    },
    {
     "data": {
      "text/html": [
       "<div>\n",
       "<style scoped>\n",
       "    .dataframe tbody tr th:only-of-type {\n",
       "        vertical-align: middle;\n",
       "    }\n",
       "\n",
       "    .dataframe tbody tr th {\n",
       "        vertical-align: top;\n",
       "    }\n",
       "\n",
       "    .dataframe thead th {\n",
       "        text-align: right;\n",
       "    }\n",
       "</style>\n",
       "<table border=\"1\" class=\"dataframe\">\n",
       "  <thead>\n",
       "    <tr style=\"text-align: right;\">\n",
       "      <th></th>\n",
       "      <th></th>\n",
       "      <th>nrecs</th>\n",
       "      <th>precision</th>\n",
       "      <th>recip_rank</th>\n",
       "      <th>ndcg</th>\n",
       "      <th>ntruth</th>\n",
       "    </tr>\n",
       "    <tr>\n",
       "      <th>algorithm</th>\n",
       "      <th>user</th>\n",
       "      <th></th>\n",
       "      <th></th>\n",
       "      <th></th>\n",
       "      <th></th>\n",
       "      <th></th>\n",
       "    </tr>\n",
       "  </thead>\n",
       "  <tbody>\n",
       "    <tr>\n",
       "      <th rowspan=\"5\" valign=\"top\">ALS</th>\n",
       "      <th>4</th>\n",
       "      <td>100</td>\n",
       "      <td>0.01</td>\n",
       "      <td>0.052632</td>\n",
       "      <td>0.054188</td>\n",
       "      <td>5</td>\n",
       "    </tr>\n",
       "    <tr>\n",
       "      <th>6</th>\n",
       "      <td>100</td>\n",
       "      <td>0.02</td>\n",
       "      <td>0.083333</td>\n",
       "      <td>0.127508</td>\n",
       "      <td>5</td>\n",
       "    </tr>\n",
       "    <tr>\n",
       "      <th>8</th>\n",
       "      <td>100</td>\n",
       "      <td>0.02</td>\n",
       "      <td>0.058824</td>\n",
       "      <td>0.127940</td>\n",
       "      <td>5</td>\n",
       "    </tr>\n",
       "    <tr>\n",
       "      <th>27</th>\n",
       "      <td>100</td>\n",
       "      <td>0.01</td>\n",
       "      <td>0.011111</td>\n",
       "      <td>0.053801</td>\n",
       "      <td>5</td>\n",
       "    </tr>\n",
       "    <tr>\n",
       "      <th>29</th>\n",
       "      <td>100</td>\n",
       "      <td>0.01</td>\n",
       "      <td>0.090909</td>\n",
       "      <td>0.086384</td>\n",
       "      <td>5</td>\n",
       "    </tr>\n",
       "  </tbody>\n",
       "</table>\n",
       "</div>"
      ],
      "text/plain": [
       "                nrecs  precision  recip_rank      ndcg  ntruth\n",
       "algorithm user                                                \n",
       "ALS       4       100       0.01    0.052632  0.054188       5\n",
       "          6       100       0.02    0.083333  0.127508       5\n",
       "          8       100       0.02    0.058824  0.127940       5\n",
       "          27      100       0.01    0.011111  0.053801       5\n",
       "          29      100       0.01    0.090909  0.086384       5"
      ]
     },
     "execution_count": 14,
     "metadata": {},
     "output_type": "execute_result"
    }
   ],
   "source": [
    "rla = topn.RecListAnalysis()\n",
    "rla.add_metric(topn.precision)\n",
    "rla.add_metric(topn.recip_rank)\n",
    "rla.add_metric(topn.ndcg)\n",
    "results = rla.compute(recs, test, include_missing=True)\n",
    "results = results.fillna(0)\n",
    "results.head()"
   ]
  },
  {
   "cell_type": "markdown",
   "id": "2c4cfa51",
   "metadata": {
    "papermill": {
     "duration": 0.046852,
     "end_time": "2022-01-07T23:15:03.748965",
     "exception": false,
     "start_time": "2022-01-07T23:15:03.702113",
     "status": "completed"
    },
    "tags": []
   },
   "source": [
    "We will reshape the 'results' dataframe by stacking the columns to index and then use the bar chart to visualize the performance of our algorithms with respect to the precision, reciprocal rank and ndcg metrics"
   ]
  },
  {
   "cell_type": "code",
   "execution_count": 15,
   "id": "6a2d024d",
   "metadata": {
    "execution": {
     "iopub.execute_input": "2022-01-07T23:15:03.842709Z",
     "iopub.status.busy": "2022-01-07T23:15:03.842709Z",
     "iopub.status.idle": "2022-01-07T23:15:03.858355Z",
     "shell.execute_reply": "2022-01-07T23:15:03.858355Z"
    },
    "papermill": {
     "duration": 0.062497,
     "end_time": "2022-01-07T23:15:03.858355",
     "exception": false,
     "start_time": "2022-01-07T23:15:03.795858",
     "status": "completed"
    },
    "tags": []
   },
   "outputs": [
    {
     "data": {
      "text/html": [
       "<div>\n",
       "<style scoped>\n",
       "    .dataframe tbody tr th:only-of-type {\n",
       "        vertical-align: middle;\n",
       "    }\n",
       "\n",
       "    .dataframe tbody tr th {\n",
       "        vertical-align: top;\n",
       "    }\n",
       "\n",
       "    .dataframe thead th {\n",
       "        text-align: right;\n",
       "    }\n",
       "</style>\n",
       "<table border=\"1\" class=\"dataframe\">\n",
       "  <thead>\n",
       "    <tr style=\"text-align: right;\">\n",
       "      <th></th>\n",
       "      <th>algorithm</th>\n",
       "      <th>user</th>\n",
       "      <th>metric</th>\n",
       "      <th>val</th>\n",
       "    </tr>\n",
       "  </thead>\n",
       "  <tbody>\n",
       "    <tr>\n",
       "      <th>0</th>\n",
       "      <td>ALS</td>\n",
       "      <td>4</td>\n",
       "      <td>precision</td>\n",
       "      <td>0.010000</td>\n",
       "    </tr>\n",
       "    <tr>\n",
       "      <th>1</th>\n",
       "      <td>ALS</td>\n",
       "      <td>4</td>\n",
       "      <td>recip_rank</td>\n",
       "      <td>0.052632</td>\n",
       "    </tr>\n",
       "    <tr>\n",
       "      <th>2</th>\n",
       "      <td>ALS</td>\n",
       "      <td>4</td>\n",
       "      <td>ndcg</td>\n",
       "      <td>0.054188</td>\n",
       "    </tr>\n",
       "    <tr>\n",
       "      <th>3</th>\n",
       "      <td>ALS</td>\n",
       "      <td>6</td>\n",
       "      <td>precision</td>\n",
       "      <td>0.020000</td>\n",
       "    </tr>\n",
       "    <tr>\n",
       "      <th>4</th>\n",
       "      <td>ALS</td>\n",
       "      <td>6</td>\n",
       "      <td>recip_rank</td>\n",
       "      <td>0.083333</td>\n",
       "    </tr>\n",
       "  </tbody>\n",
       "</table>\n",
       "</div>"
      ],
      "text/plain": [
       "  algorithm  user      metric       val\n",
       "0       ALS     4   precision  0.010000\n",
       "1       ALS     4  recip_rank  0.052632\n",
       "2       ALS     4        ndcg  0.054188\n",
       "3       ALS     6   precision  0.020000\n",
       "4       ALS     6  recip_rank  0.083333"
      ]
     },
     "execution_count": 15,
     "metadata": {},
     "output_type": "execute_result"
    }
   ],
   "source": [
    "pltData = (results.drop(columns=['nrecs', 'ntruth']).stack()).reset_index()\n",
    "pltData.columns = ['algorithm', 'user', 'metric', 'val']\n",
    "pltData.head()"
   ]
  },
  {
   "cell_type": "markdown",
   "id": "69e9b2c8",
   "metadata": {
    "papermill": {
     "duration": 0.046873,
     "end_time": "2022-01-07T23:15:03.936473",
     "exception": false,
     "start_time": "2022-01-07T23:15:03.889600",
     "status": "completed"
    },
    "tags": []
   },
   "source": [
    "We need to determine if the differences we observe in the performances of the algorithms for the various metrics are statistically significant. To achieve this, we will need to use either a parametric or non-parametric statistical test for comparing the differences. We will consider a parametric test - repeated ANOVA measure cause our sample groups are correlated."
   ]
  },
  {
   "cell_type": "code",
   "execution_count": 16,
   "id": "e8b4dda4",
   "metadata": {
    "execution": {
     "iopub.execute_input": "2022-01-07T23:15:04.030217Z",
     "iopub.status.busy": "2022-01-07T23:15:04.030217Z",
     "iopub.status.idle": "2022-01-07T23:15:05.389500Z",
     "shell.execute_reply": "2022-01-07T23:15:05.389500Z"
    },
    "papermill": {
     "duration": 1.406155,
     "end_time": "2022-01-07T23:15:05.389500",
     "exception": false,
     "start_time": "2022-01-07T23:15:03.983345",
     "status": "completed"
    },
    "tags": []
   },
   "outputs": [
    {
     "data": {
      "image/png": "[encoded data removed]",
      "text/plain": [
       "<Figure size 777.6x216 with 3 Axes>"
      ]
     },
     "metadata": {
      "needs_background": "light"
     },
     "output_type": "display_data"
    }
   ],
   "source": [
    "g = sns.catplot(x = \"algorithm\", y = \"val\", data = pltData, kind=\"bar\", col = \"metric\", aspect=1.2, height=3, sharey=False)"
   ]
  },
  {
   "cell_type": "markdown",
   "id": "320dcca0",
   "metadata": {
    "papermill": {
     "duration": 0.033448,
     "end_time": "2022-01-07T23:15:05.470677",
     "exception": false,
     "start_time": "2022-01-07T23:15:05.437229",
     "status": "completed"
    },
    "tags": []
   },
   "source": [
    "### Statistical Testing"
   ]
  },
  {
   "cell_type": "markdown",
   "id": "c4819160",
   "metadata": {
    "papermill": {
     "duration": 0.046874,
     "end_time": "2022-01-07T23:15:05.564440",
     "exception": false,
     "start_time": "2022-01-07T23:15:05.517566",
     "status": "completed"
    },
    "tags": []
   },
   "source": [
    "We will now examine these metrics in more detail and test for statistical significance.  Best practice for statistical testing for recommender systems is still a work in progress, but this method avoids most of the validity problems we know about.\n",
    "\n",
    "The Friedman $\\chi^2$ test will test the null hypothesis that there is no difference between algorithms in terms of their performance."
   ]
  },
  {
   "cell_type": "code",
   "execution_count": 17,
   "id": "e930a730",
   "metadata": {
    "execution": {
     "iopub.execute_input": "2022-01-07T23:15:05.658164Z",
     "iopub.status.busy": "2022-01-07T23:15:05.658164Z",
     "iopub.status.idle": "2022-01-07T23:15:05.673788Z",
     "shell.execute_reply": "2022-01-07T23:15:05.673788Z"
    },
    "papermill": {
     "duration": 0.062478,
     "end_time": "2022-01-07T23:15:05.673788",
     "exception": false,
     "start_time": "2022-01-07T23:15:05.611310",
     "status": "completed"
    },
    "tags": []
   },
   "outputs": [],
   "source": [
    "def metric_friedman(metric):\n",
    "    groups = [df[metric] for a, df in results.groupby('algorithm')]\n",
    "    l=[]\n",
    "    for i in groups: \n",
    "        k = len(i)\n",
    "        l.append(k)\n",
    "    if (len(set(l))<=1):\n",
    "        stat, p = friedmanchisquare(*groups)\n",
    "        return pd.Series({'stat': stat, 'p': p}, name=metric)\n",
    "    else:\n",
    "        print('unequal N')"
   ]
  },
  {
   "cell_type": "markdown",
   "id": "bf1bd352",
   "metadata": {
    "papermill": {
     "duration": 0.046873,
     "end_time": "2022-01-07T23:15:05.767532",
     "exception": false,
     "start_time": "2022-01-07T23:15:05.720659",
     "status": "completed"
    },
    "tags": []
   },
   "source": [
    "If the test detects significance, we have at least one pair of different algorithms - but which pairs?  Unfortunately, the good tests aren't readily available in scipy and friends, so we're going to take a conservative approch and perform pairwise Wilconxon signed-rank tests with a Bonferroni adjustment."
   ]
  },
  {
   "cell_type": "code",
   "execution_count": 18,
   "id": "3fc402a1",
   "metadata": {
    "execution": {
     "iopub.execute_input": "2022-01-07T23:15:05.876900Z",
     "iopub.status.busy": "2022-01-07T23:15:05.876900Z",
     "iopub.status.idle": "2022-01-07T23:15:05.876900Z",
     "shell.execute_reply": "2022-01-07T23:15:05.876900Z"
    },
    "papermill": {
     "duration": 0.062496,
     "end_time": "2022-01-07T23:15:05.876900",
     "exception": false,
     "start_time": "2022-01-07T23:15:05.814404",
     "status": "completed"
    },
    "tags": []
   },
   "outputs": [],
   "source": [
    "# pairs = pd.DataFrame.from_records(combinations(rec_algos, 2), columns=['A1', 'A2'])\n",
    "# def am_wilcox(metric, p_scale = len(pairs)):\n",
    "#     def compute(df):\n",
    "#         vs1 = results.loc[df['A1'], metric]\n",
    "#         vs2 = results.loc[df['A2'], metric]\n",
    "#         print(len(vs1))\n",
    "#         print('---')\n",
    "#         print(len(vs2))\n",
    "#         print('---')\n",
    "#         diff = (vs1 - vs2).mean()\n",
    "#         stat, p = wilcoxon(vs1, vs2)\n",
    "#         return pd.Series({'diff': diff, 'stat': stat, 'p': p, 'adj_p': p * p_scale})\n",
    "#     scores = pairs.apply(compute, axis=1)\n",
    "#     return pairs.join(scores)"
   ]
  },
  {
   "cell_type": "code",
   "execution_count": 19,
   "id": "c676b96a",
   "metadata": {
    "execution": {
     "iopub.execute_input": "2022-01-07T23:15:05.970643Z",
     "iopub.status.busy": "2022-01-07T23:15:05.970643Z",
     "iopub.status.idle": "2022-01-07T23:15:05.986267Z",
     "shell.execute_reply": "2022-01-07T23:15:05.986267Z"
    },
    "papermill": {
     "duration": 0.062497,
     "end_time": "2022-01-07T23:15:05.986267",
     "exception": false,
     "start_time": "2022-01-07T23:15:05.923770",
     "status": "completed"
    },
    "tags": []
   },
   "outputs": [],
   "source": [
    "pairs = pd.DataFrame.from_records(combinations(rec_algos, 2), columns=['A1', 'A2'])\n",
    "def am_wilcox(metric, p_scale = len(pairs)):\n",
    "    def compute(df):\n",
    "        vs1 = results.loc[df['A1'], metric]\n",
    "        vs2 = results.loc[df['A2'], metric]\n",
    "        if len(vs1)!= len(vs2):\n",
    "            print('x and y is of different length')\n",
    "            print(len(vs1),len(vs2))\n",
    "        if len(vs1)== len(vs2):\n",
    "            diff = (vs1 - vs2).mean()\n",
    "            stat, p = wilcoxon(vs1, vs2)\n",
    "            return pd.Series({'diff': diff, 'stat': stat, 'p': p, 'adj_p': p * p_scale})\n",
    "    scores = pairs.apply(compute, axis=1)\n",
    "    return pairs.join(scores)"
   ]
  },
  {
   "cell_type": "markdown",
   "id": "5ebb3da3",
   "metadata": {
    "papermill": {
     "duration": 0.062521,
     "end_time": "2022-01-07T23:15:06.095660",
     "exception": false,
     "start_time": "2022-01-07T23:15:06.033139",
     "status": "completed"
    },
    "tags": []
   },
   "source": [
    "## Precision"
   ]
  },
  {
   "cell_type": "code",
   "execution_count": 20,
   "id": "0f650750",
   "metadata": {
    "execution": {
     "iopub.execute_input": "2022-01-07T23:15:06.189404Z",
     "iopub.status.busy": "2022-01-07T23:15:06.189404Z",
     "iopub.status.idle": "2022-01-07T23:15:06.330019Z",
     "shell.execute_reply": "2022-01-07T23:15:06.330019Z"
    },
    "papermill": {
     "duration": 0.187486,
     "end_time": "2022-01-07T23:15:06.330019",
     "exception": false,
     "start_time": "2022-01-07T23:15:06.142533",
     "status": "completed"
    },
    "tags": []
   },
   "outputs": [
    {
     "data": {
      "text/plain": [
       "stat    2430.715689\n",
       "p          0.000000\n",
       "Name: precision, dtype: float64"
      ]
     },
     "execution_count": 20,
     "metadata": {},
     "output_type": "execute_result"
    }
   ],
   "source": [
    "metric_friedman('precision')"
   ]
  },
  {
   "cell_type": "markdown",
   "id": "19e90e27",
   "metadata": {
    "papermill": {
     "duration": 0.062495,
     "end_time": "2022-01-07T23:15:06.439360",
     "exception": false,
     "start_time": "2022-01-07T23:15:06.376865",
     "status": "completed"
    },
    "tags": []
   },
   "source": [
    "This indicates a statistically significant difference exists - but where is it?\n",
    "\n",
    "To answer that question, we need a post-hoc test. "
   ]
  },
  {
   "cell_type": "code",
   "execution_count": 21,
   "id": "1be03fe3",
   "metadata": {
    "execution": {
     "iopub.execute_input": "2022-01-07T23:15:06.533128Z",
     "iopub.status.busy": "2022-01-07T23:15:06.533128Z",
     "iopub.status.idle": "2022-01-07T23:15:06.611250Z",
     "shell.execute_reply": "2022-01-07T23:15:06.611250Z"
    },
    "papermill": {
     "duration": 0.124993,
     "end_time": "2022-01-07T23:15:06.611250",
     "exception": false,
     "start_time": "2022-01-07T23:15:06.486257",
     "status": "completed"
    },
    "tags": []
   },
   "outputs": [
    {
     "data": {
      "text/html": [
       "<div>\n",
       "<style scoped>\n",
       "    .dataframe tbody tr th:only-of-type {\n",
       "        vertical-align: middle;\n",
       "    }\n",
       "\n",
       "    .dataframe tbody tr th {\n",
       "        vertical-align: top;\n",
       "    }\n",
       "\n",
       "    .dataframe thead th {\n",
       "        text-align: right;\n",
       "    }\n",
       "</style>\n",
       "<table border=\"1\" class=\"dataframe\">\n",
       "  <thead>\n",
       "    <tr style=\"text-align: right;\">\n",
       "      <th></th>\n",
       "      <th>A1</th>\n",
       "      <th>A2</th>\n",
       "      <th>diff</th>\n",
       "      <th>stat</th>\n",
       "      <th>p</th>\n",
       "      <th>adj_p</th>\n",
       "    </tr>\n",
       "  </thead>\n",
       "  <tbody>\n",
       "    <tr>\n",
       "      <th>11</th>\n",
       "      <td>IALS</td>\n",
       "      <td>UU</td>\n",
       "      <td>0.026108</td>\n",
       "      <td>2255.0</td>\n",
       "      <td>6.846975e-141</td>\n",
       "      <td>1.027046e-139</td>\n",
       "    </tr>\n",
       "    <tr>\n",
       "      <th>9</th>\n",
       "      <td>IALS</td>\n",
       "      <td>II</td>\n",
       "      <td>0.024560</td>\n",
       "      <td>6047.0</td>\n",
       "      <td>7.251757e-133</td>\n",
       "      <td>1.087764e-131</td>\n",
       "    </tr>\n",
       "    <tr>\n",
       "      <th>14</th>\n",
       "      <td>Pop</td>\n",
       "      <td>UU</td>\n",
       "      <td>0.014793</td>\n",
       "      <td>10952.0</td>\n",
       "      <td>1.283902e-114</td>\n",
       "      <td>1.925853e-113</td>\n",
       "    </tr>\n",
       "    <tr>\n",
       "      <th>10</th>\n",
       "      <td>IALS</td>\n",
       "      <td>Pop</td>\n",
       "      <td>0.011315</td>\n",
       "      <td>26986.0</td>\n",
       "      <td>6.998594e-77</td>\n",
       "      <td>1.049789e-75</td>\n",
       "    </tr>\n",
       "    <tr>\n",
       "      <th>4</th>\n",
       "      <td>ALS</td>\n",
       "      <td>UU</td>\n",
       "      <td>0.003478</td>\n",
       "      <td>11734.0</td>\n",
       "      <td>2.776583e-31</td>\n",
       "      <td>4.164875e-30</td>\n",
       "    </tr>\n",
       "    <tr>\n",
       "      <th>8</th>\n",
       "      <td>Bias</td>\n",
       "      <td>UU</td>\n",
       "      <td>0.003298</td>\n",
       "      <td>15809.5</td>\n",
       "      <td>1.485859e-24</td>\n",
       "      <td>2.228788e-23</td>\n",
       "    </tr>\n",
       "    <tr>\n",
       "      <th>2</th>\n",
       "      <td>ALS</td>\n",
       "      <td>II</td>\n",
       "      <td>0.001930</td>\n",
       "      <td>15296.0</td>\n",
       "      <td>1.321055e-15</td>\n",
       "      <td>1.981583e-14</td>\n",
       "    </tr>\n",
       "    <tr>\n",
       "      <th>6</th>\n",
       "      <td>Bias</td>\n",
       "      <td>II</td>\n",
       "      <td>0.001750</td>\n",
       "      <td>19749.5</td>\n",
       "      <td>1.015979e-10</td>\n",
       "      <td>1.523968e-09</td>\n",
       "    </tr>\n",
       "    <tr>\n",
       "      <th>13</th>\n",
       "      <td>II</td>\n",
       "      <td>UU</td>\n",
       "      <td>0.001548</td>\n",
       "      <td>23293.5</td>\n",
       "      <td>3.170147e-08</td>\n",
       "      <td>4.755220e-07</td>\n",
       "    </tr>\n",
       "    <tr>\n",
       "      <th>0</th>\n",
       "      <td>ALS</td>\n",
       "      <td>Bias</td>\n",
       "      <td>0.000180</td>\n",
       "      <td>31028.0</td>\n",
       "      <td>3.442763e-01</td>\n",
       "      <td>5.164144e+00</td>\n",
       "    </tr>\n",
       "    <tr>\n",
       "      <th>3</th>\n",
       "      <td>ALS</td>\n",
       "      <td>Pop</td>\n",
       "      <td>-0.011315</td>\n",
       "      <td>27593.5</td>\n",
       "      <td>1.420832e-82</td>\n",
       "      <td>2.131249e-81</td>\n",
       "    </tr>\n",
       "    <tr>\n",
       "      <th>7</th>\n",
       "      <td>Bias</td>\n",
       "      <td>Pop</td>\n",
       "      <td>-0.011495</td>\n",
       "      <td>28633.0</td>\n",
       "      <td>6.586384e-85</td>\n",
       "      <td>9.879576e-84</td>\n",
       "    </tr>\n",
       "    <tr>\n",
       "      <th>12</th>\n",
       "      <td>II</td>\n",
       "      <td>Pop</td>\n",
       "      <td>-0.013245</td>\n",
       "      <td>20718.5</td>\n",
       "      <td>2.532015e-98</td>\n",
       "      <td>3.798023e-97</td>\n",
       "    </tr>\n",
       "    <tr>\n",
       "      <th>1</th>\n",
       "      <td>ALS</td>\n",
       "      <td>IALS</td>\n",
       "      <td>-0.022630</td>\n",
       "      <td>7093.0</td>\n",
       "      <td>2.991625e-125</td>\n",
       "      <td>4.487437e-124</td>\n",
       "    </tr>\n",
       "    <tr>\n",
       "      <th>5</th>\n",
       "      <td>Bias</td>\n",
       "      <td>IALS</td>\n",
       "      <td>-0.022810</td>\n",
       "      <td>7556.0</td>\n",
       "      <td>6.138561e-126</td>\n",
       "      <td>9.207841e-125</td>\n",
       "    </tr>\n",
       "  </tbody>\n",
       "</table>\n",
       "</div>"
      ],
      "text/plain": [
       "      A1    A2      diff     stat              p          adj_p\n",
       "11  IALS    UU  0.026108   2255.0  6.846975e-141  1.027046e-139\n",
       "9   IALS    II  0.024560   6047.0  7.251757e-133  1.087764e-131\n",
       "14   Pop    UU  0.014793  10952.0  1.283902e-114  1.925853e-113\n",
       "10  IALS   Pop  0.011315  26986.0   6.998594e-77   1.049789e-75\n",
       "4    ALS    UU  0.003478  11734.0   2.776583e-31   4.164875e-30\n",
       "8   Bias    UU  0.003298  15809.5   1.485859e-24   2.228788e-23\n",
       "2    ALS    II  0.001930  15296.0   1.321055e-15   1.981583e-14\n",
       "6   Bias    II  0.001750  19749.5   1.015979e-10   1.523968e-09\n",
       "13    II    UU  0.001548  23293.5   3.170147e-08   4.755220e-07\n",
       "0    ALS  Bias  0.000180  31028.0   3.442763e-01   5.164144e+00\n",
       "3    ALS   Pop -0.011315  27593.5   1.420832e-82   2.131249e-81\n",
       "7   Bias   Pop -0.011495  28633.0   6.586384e-85   9.879576e-84\n",
       "12    II   Pop -0.013245  20718.5   2.532015e-98   3.798023e-97\n",
       "1    ALS  IALS -0.022630   7093.0  2.991625e-125  4.487437e-124\n",
       "5   Bias  IALS -0.022810   7556.0  6.138561e-126  9.207841e-125"
      ]
     },
     "execution_count": 21,
     "metadata": {},
     "output_type": "execute_result"
    }
   ],
   "source": [
    "am_wilcox('precision').sort_values('diff', ascending=False)"
   ]
  },
  {
   "cell_type": "markdown",
   "id": "8a918540",
   "metadata": {
    "papermill": {
     "duration": 0.046873,
     "end_time": "2022-01-07T23:15:06.704992",
     "exception": false,
     "start_time": "2022-01-07T23:15:06.658119",
     "status": "completed"
    },
    "tags": []
   },
   "source": [
    "We can consider pairs with an adjusted $p$ value less than 0.05 (5.0e-2) to be statistically significant.  However, we have so many data points, the substance of significance is questionable.  Pay attention to the 'diff' column, which is the difference between A1 and A2 (how much A1 outperforms A2)."
   ]
  },
  {
   "cell_type": "markdown",
   "id": "057e97f5",
   "metadata": {
    "papermill": {
     "duration": 0.062497,
     "end_time": "2022-01-07T23:15:06.814355",
     "exception": false,
     "start_time": "2022-01-07T23:15:06.751858",
     "status": "completed"
    },
    "tags": []
   },
   "source": [
    "### nDCG"
   ]
  },
  {
   "cell_type": "markdown",
   "id": "1888d42f",
   "metadata": {
    "papermill": {
     "duration": 0.046873,
     "end_time": "2022-01-07T23:15:06.908098",
     "exception": false,
     "start_time": "2022-01-07T23:15:06.861225",
     "status": "completed"
    },
    "tags": []
   },
   "source": [
    "Now let's do the same for nDCG:"
   ]
  },
  {
   "cell_type": "code",
   "execution_count": 22,
   "id": "6d8b6d05",
   "metadata": {
    "execution": {
     "iopub.execute_input": "2022-01-07T23:15:07.017466Z",
     "iopub.status.busy": "2022-01-07T23:15:07.017466Z",
     "iopub.status.idle": "2022-01-07T23:15:07.126814Z",
     "shell.execute_reply": "2022-01-07T23:15:07.126814Z"
    },
    "papermill": {
     "duration": 0.171844,
     "end_time": "2022-01-07T23:15:07.126814",
     "exception": false,
     "start_time": "2022-01-07T23:15:06.954970",
     "status": "completed"
    },
    "tags": []
   },
   "outputs": [
    {
     "data": {
      "text/plain": [
       "stat    2102.69445\n",
       "p          0.00000\n",
       "Name: ndcg, dtype: float64"
      ]
     },
     "execution_count": 22,
     "metadata": {},
     "output_type": "execute_result"
    }
   ],
   "source": [
    "metric_friedman('ndcg')"
   ]
  },
  {
   "cell_type": "code",
   "execution_count": 23,
   "id": "8a85348b",
   "metadata": {
    "execution": {
     "iopub.execute_input": "2022-01-07T23:15:07.251807Z",
     "iopub.status.busy": "2022-01-07T23:15:07.251807Z",
     "iopub.status.idle": "2022-01-07T23:15:07.329951Z",
     "shell.execute_reply": "2022-01-07T23:15:07.329951Z"
    },
    "papermill": {
     "duration": 0.156266,
     "end_time": "2022-01-07T23:15:07.329951",
     "exception": false,
     "start_time": "2022-01-07T23:15:07.173685",
     "status": "completed"
    },
    "tags": []
   },
   "outputs": [
    {
     "data": {
      "text/html": [
       "<div>\n",
       "<style scoped>\n",
       "    .dataframe tbody tr th:only-of-type {\n",
       "        vertical-align: middle;\n",
       "    }\n",
       "\n",
       "    .dataframe tbody tr th {\n",
       "        vertical-align: top;\n",
       "    }\n",
       "\n",
       "    .dataframe thead th {\n",
       "        text-align: right;\n",
       "    }\n",
       "</style>\n",
       "<table border=\"1\" class=\"dataframe\">\n",
       "  <thead>\n",
       "    <tr style=\"text-align: right;\">\n",
       "      <th></th>\n",
       "      <th>A1</th>\n",
       "      <th>A2</th>\n",
       "      <th>diff</th>\n",
       "      <th>stat</th>\n",
       "      <th>p</th>\n",
       "      <th>adj_p</th>\n",
       "    </tr>\n",
       "  </thead>\n",
       "  <tbody>\n",
       "    <tr>\n",
       "      <th>11</th>\n",
       "      <td>IALS</td>\n",
       "      <td>UU</td>\n",
       "      <td>0.221338</td>\n",
       "      <td>3467.0</td>\n",
       "      <td>3.995588e-148</td>\n",
       "      <td>5.993383e-147</td>\n",
       "    </tr>\n",
       "    <tr>\n",
       "      <th>9</th>\n",
       "      <td>IALS</td>\n",
       "      <td>II</td>\n",
       "      <td>0.201547</td>\n",
       "      <td>20212.0</td>\n",
       "      <td>9.115004e-127</td>\n",
       "      <td>1.367251e-125</td>\n",
       "    </tr>\n",
       "    <tr>\n",
       "      <th>14</th>\n",
       "      <td>Pop</td>\n",
       "      <td>UU</td>\n",
       "      <td>0.141753</td>\n",
       "      <td>9362.0</td>\n",
       "      <td>1.403552e-134</td>\n",
       "      <td>2.105328e-133</td>\n",
       "    </tr>\n",
       "    <tr>\n",
       "      <th>10</th>\n",
       "      <td>IALS</td>\n",
       "      <td>Pop</td>\n",
       "      <td>0.079585</td>\n",
       "      <td>117841.0</td>\n",
       "      <td>2.384334e-34</td>\n",
       "      <td>3.576501e-33</td>\n",
       "    </tr>\n",
       "    <tr>\n",
       "      <th>4</th>\n",
       "      <td>ALS</td>\n",
       "      <td>UU</td>\n",
       "      <td>0.042458</td>\n",
       "      <td>24058.0</td>\n",
       "      <td>1.366850e-63</td>\n",
       "      <td>2.050274e-62</td>\n",
       "    </tr>\n",
       "    <tr>\n",
       "      <th>8</th>\n",
       "      <td>Bias</td>\n",
       "      <td>UU</td>\n",
       "      <td>0.038847</td>\n",
       "      <td>30438.5</td>\n",
       "      <td>8.160475e-54</td>\n",
       "      <td>1.224071e-52</td>\n",
       "    </tr>\n",
       "    <tr>\n",
       "      <th>2</th>\n",
       "      <td>ALS</td>\n",
       "      <td>II</td>\n",
       "      <td>0.022667</td>\n",
       "      <td>51256.0</td>\n",
       "      <td>2.212928e-28</td>\n",
       "      <td>3.319391e-27</td>\n",
       "    </tr>\n",
       "    <tr>\n",
       "      <th>13</th>\n",
       "      <td>II</td>\n",
       "      <td>UU</td>\n",
       "      <td>0.019792</td>\n",
       "      <td>50353.5</td>\n",
       "      <td>1.262349e-22</td>\n",
       "      <td>1.893524e-21</td>\n",
       "    </tr>\n",
       "    <tr>\n",
       "      <th>6</th>\n",
       "      <td>Bias</td>\n",
       "      <td>II</td>\n",
       "      <td>0.019055</td>\n",
       "      <td>60572.0</td>\n",
       "      <td>3.307692e-20</td>\n",
       "      <td>4.961537e-19</td>\n",
       "    </tr>\n",
       "    <tr>\n",
       "      <th>0</th>\n",
       "      <td>ALS</td>\n",
       "      <td>Bias</td>\n",
       "      <td>0.003612</td>\n",
       "      <td>106103.0</td>\n",
       "      <td>2.600157e-01</td>\n",
       "      <td>3.900235e+00</td>\n",
       "    </tr>\n",
       "    <tr>\n",
       "      <th>3</th>\n",
       "      <td>ALS</td>\n",
       "      <td>Pop</td>\n",
       "      <td>-0.099295</td>\n",
       "      <td>60935.0</td>\n",
       "      <td>2.154496e-73</td>\n",
       "      <td>3.231743e-72</td>\n",
       "    </tr>\n",
       "    <tr>\n",
       "      <th>7</th>\n",
       "      <td>Bias</td>\n",
       "      <td>Pop</td>\n",
       "      <td>-0.102906</td>\n",
       "      <td>55867.0</td>\n",
       "      <td>2.800598e-79</td>\n",
       "      <td>4.200896e-78</td>\n",
       "    </tr>\n",
       "    <tr>\n",
       "      <th>12</th>\n",
       "      <td>II</td>\n",
       "      <td>Pop</td>\n",
       "      <td>-0.121961</td>\n",
       "      <td>33658.0</td>\n",
       "      <td>3.669536e-104</td>\n",
       "      <td>5.504304e-103</td>\n",
       "    </tr>\n",
       "    <tr>\n",
       "      <th>1</th>\n",
       "      <td>ALS</td>\n",
       "      <td>IALS</td>\n",
       "      <td>-0.178880</td>\n",
       "      <td>38099.0</td>\n",
       "      <td>7.559523e-105</td>\n",
       "      <td>1.133928e-103</td>\n",
       "    </tr>\n",
       "    <tr>\n",
       "      <th>5</th>\n",
       "      <td>Bias</td>\n",
       "      <td>IALS</td>\n",
       "      <td>-0.182492</td>\n",
       "      <td>35107.0</td>\n",
       "      <td>9.585199e-109</td>\n",
       "      <td>1.437780e-107</td>\n",
       "    </tr>\n",
       "  </tbody>\n",
       "</table>\n",
       "</div>"
      ],
      "text/plain": [
       "      A1    A2      diff      stat              p          adj_p\n",
       "11  IALS    UU  0.221338    3467.0  3.995588e-148  5.993383e-147\n",
       "9   IALS    II  0.201547   20212.0  9.115004e-127  1.367251e-125\n",
       "14   Pop    UU  0.141753    9362.0  1.403552e-134  2.105328e-133\n",
       "10  IALS   Pop  0.079585  117841.0   2.384334e-34   3.576501e-33\n",
       "4    ALS    UU  0.042458   24058.0   1.366850e-63   2.050274e-62\n",
       "8   Bias    UU  0.038847   30438.5   8.160475e-54   1.224071e-52\n",
       "2    ALS    II  0.022667   51256.0   2.212928e-28   3.319391e-27\n",
       "13    II    UU  0.019792   50353.5   1.262349e-22   1.893524e-21\n",
       "6   Bias    II  0.019055   60572.0   3.307692e-20   4.961537e-19\n",
       "0    ALS  Bias  0.003612  106103.0   2.600157e-01   3.900235e+00\n",
       "3    ALS   Pop -0.099295   60935.0   2.154496e-73   3.231743e-72\n",
       "7   Bias   Pop -0.102906   55867.0   2.800598e-79   4.200896e-78\n",
       "12    II   Pop -0.121961   33658.0  3.669536e-104  5.504304e-103\n",
       "1    ALS  IALS -0.178880   38099.0  7.559523e-105  1.133928e-103\n",
       "5   Bias  IALS -0.182492   35107.0  9.585199e-109  1.437780e-107"
      ]
     },
     "execution_count": 23,
     "metadata": {},
     "output_type": "execute_result"
    }
   ],
   "source": [
    "am_wilcox('ndcg').sort_values('diff', ascending=False)"
   ]
  },
  {
   "cell_type": "markdown",
   "id": "a8f6ca31",
   "metadata": {
    "papermill": {
     "duration": 0.062472,
     "end_time": "2022-01-07T23:15:07.439294",
     "exception": false,
     "start_time": "2022-01-07T23:15:07.376822",
     "status": "completed"
    },
    "tags": []
   },
   "source": [
    "### Reciprocal Rank\n",
    "\n",
    "We'll do this also for reciprocal rank (what is aggregated to compute MRR):"
   ]
  },
  {
   "cell_type": "code",
   "execution_count": 24,
   "id": "84f5b4aa",
   "metadata": {
    "execution": {
     "iopub.execute_input": "2022-01-07T23:15:07.548660Z",
     "iopub.status.busy": "2022-01-07T23:15:07.548660Z",
     "iopub.status.idle": "2022-01-07T23:15:07.673677Z",
     "shell.execute_reply": "2022-01-07T23:15:07.673677Z"
    },
    "papermill": {
     "duration": 0.187495,
     "end_time": "2022-01-07T23:15:07.673677",
     "exception": false,
     "start_time": "2022-01-07T23:15:07.486182",
     "status": "completed"
    },
    "tags": []
   },
   "outputs": [
    {
     "data": {
      "text/plain": [
       "stat    1842.866637\n",
       "p          0.000000\n",
       "Name: recip_rank, dtype: float64"
      ]
     },
     "execution_count": 24,
     "metadata": {},
     "output_type": "execute_result"
    }
   ],
   "source": [
    "metric_friedman('recip_rank')"
   ]
  },
  {
   "cell_type": "code",
   "execution_count": 25,
   "id": "9816c23b",
   "metadata": {
    "execution": {
     "iopub.execute_input": "2022-01-07T23:15:07.783038Z",
     "iopub.status.busy": "2022-01-07T23:15:07.783038Z",
     "iopub.status.idle": "2022-01-07T23:15:07.845539Z",
     "shell.execute_reply": "2022-01-07T23:15:07.845539Z"
    },
    "papermill": {
     "duration": 0.124997,
     "end_time": "2022-01-07T23:15:07.845539",
     "exception": false,
     "start_time": "2022-01-07T23:15:07.720542",
     "status": "completed"
    },
    "tags": []
   },
   "outputs": [
    {
     "data": {
      "text/html": [
       "<div>\n",
       "<style scoped>\n",
       "    .dataframe tbody tr th:only-of-type {\n",
       "        vertical-align: middle;\n",
       "    }\n",
       "\n",
       "    .dataframe tbody tr th {\n",
       "        vertical-align: top;\n",
       "    }\n",
       "\n",
       "    .dataframe thead th {\n",
       "        text-align: right;\n",
       "    }\n",
       "</style>\n",
       "<table border=\"1\" class=\"dataframe\">\n",
       "  <thead>\n",
       "    <tr style=\"text-align: right;\">\n",
       "      <th></th>\n",
       "      <th>A1</th>\n",
       "      <th>A2</th>\n",
       "      <th>diff</th>\n",
       "      <th>stat</th>\n",
       "      <th>p</th>\n",
       "      <th>adj_p</th>\n",
       "    </tr>\n",
       "  </thead>\n",
       "  <tbody>\n",
       "    <tr>\n",
       "      <th>11</th>\n",
       "      <td>IALS</td>\n",
       "      <td>UU</td>\n",
       "      <td>0.212633</td>\n",
       "      <td>8631.5</td>\n",
       "      <td>6.884572e-141</td>\n",
       "      <td>1.032686e-139</td>\n",
       "    </tr>\n",
       "    <tr>\n",
       "      <th>9</th>\n",
       "      <td>IALS</td>\n",
       "      <td>II</td>\n",
       "      <td>0.187832</td>\n",
       "      <td>45438.0</td>\n",
       "      <td>1.718974e-95</td>\n",
       "      <td>2.578460e-94</td>\n",
       "    </tr>\n",
       "    <tr>\n",
       "      <th>14</th>\n",
       "      <td>Pop</td>\n",
       "      <td>UU</td>\n",
       "      <td>0.187143</td>\n",
       "      <td>8052.0</td>\n",
       "      <td>2.318368e-135</td>\n",
       "      <td>3.477552e-134</td>\n",
       "    </tr>\n",
       "    <tr>\n",
       "      <th>4</th>\n",
       "      <td>ALS</td>\n",
       "      <td>UU</td>\n",
       "      <td>0.058766</td>\n",
       "      <td>18475.0</td>\n",
       "      <td>5.451964e-72</td>\n",
       "      <td>8.177945e-71</td>\n",
       "    </tr>\n",
       "    <tr>\n",
       "      <th>8</th>\n",
       "      <td>Bias</td>\n",
       "      <td>UU</td>\n",
       "      <td>0.051822</td>\n",
       "      <td>17712.5</td>\n",
       "      <td>2.844772e-73</td>\n",
       "      <td>4.267158e-72</td>\n",
       "    </tr>\n",
       "    <tr>\n",
       "      <th>2</th>\n",
       "      <td>ALS</td>\n",
       "      <td>II</td>\n",
       "      <td>0.033965</td>\n",
       "      <td>51723.0</td>\n",
       "      <td>1.788132e-26</td>\n",
       "      <td>2.682198e-25</td>\n",
       "    </tr>\n",
       "    <tr>\n",
       "      <th>6</th>\n",
       "      <td>Bias</td>\n",
       "      <td>II</td>\n",
       "      <td>0.027021</td>\n",
       "      <td>53313.5</td>\n",
       "      <td>6.753006e-24</td>\n",
       "      <td>1.012951e-22</td>\n",
       "    </tr>\n",
       "    <tr>\n",
       "      <th>10</th>\n",
       "      <td>IALS</td>\n",
       "      <td>Pop</td>\n",
       "      <td>0.025490</td>\n",
       "      <td>177960.5</td>\n",
       "      <td>3.036378e-03</td>\n",
       "      <td>4.554567e-02</td>\n",
       "    </tr>\n",
       "    <tr>\n",
       "      <th>13</th>\n",
       "      <td>II</td>\n",
       "      <td>UU</td>\n",
       "      <td>0.024801</td>\n",
       "      <td>42514.5</td>\n",
       "      <td>1.180005e-30</td>\n",
       "      <td>1.770008e-29</td>\n",
       "    </tr>\n",
       "    <tr>\n",
       "      <th>0</th>\n",
       "      <td>ALS</td>\n",
       "      <td>Bias</td>\n",
       "      <td>0.006944</td>\n",
       "      <td>105710.5</td>\n",
       "      <td>6.747767e-01</td>\n",
       "      <td>1.012165e+01</td>\n",
       "    </tr>\n",
       "    <tr>\n",
       "      <th>3</th>\n",
       "      <td>ALS</td>\n",
       "      <td>Pop</td>\n",
       "      <td>-0.128377</td>\n",
       "      <td>73730.0</td>\n",
       "      <td>1.338512e-58</td>\n",
       "      <td>2.007768e-57</td>\n",
       "    </tr>\n",
       "    <tr>\n",
       "      <th>7</th>\n",
       "      <td>Bias</td>\n",
       "      <td>Pop</td>\n",
       "      <td>-0.135322</td>\n",
       "      <td>71079.0</td>\n",
       "      <td>1.106341e-63</td>\n",
       "      <td>1.659511e-62</td>\n",
       "    </tr>\n",
       "    <tr>\n",
       "      <th>1</th>\n",
       "      <td>ALS</td>\n",
       "      <td>IALS</td>\n",
       "      <td>-0.153867</td>\n",
       "      <td>75789.0</td>\n",
       "      <td>4.172880e-64</td>\n",
       "      <td>6.259319e-63</td>\n",
       "    </tr>\n",
       "    <tr>\n",
       "      <th>5</th>\n",
       "      <td>Bias</td>\n",
       "      <td>IALS</td>\n",
       "      <td>-0.160811</td>\n",
       "      <td>74530.5</td>\n",
       "      <td>1.772845e-65</td>\n",
       "      <td>2.659268e-64</td>\n",
       "    </tr>\n",
       "    <tr>\n",
       "      <th>12</th>\n",
       "      <td>II</td>\n",
       "      <td>Pop</td>\n",
       "      <td>-0.162343</td>\n",
       "      <td>41734.0</td>\n",
       "      <td>1.386044e-93</td>\n",
       "      <td>2.079066e-92</td>\n",
       "    </tr>\n",
       "  </tbody>\n",
       "</table>\n",
       "</div>"
      ],
      "text/plain": [
       "      A1    A2      diff      stat              p          adj_p\n",
       "11  IALS    UU  0.212633    8631.5  6.884572e-141  1.032686e-139\n",
       "9   IALS    II  0.187832   45438.0   1.718974e-95   2.578460e-94\n",
       "14   Pop    UU  0.187143    8052.0  2.318368e-135  3.477552e-134\n",
       "4    ALS    UU  0.058766   18475.0   5.451964e-72   8.177945e-71\n",
       "8   Bias    UU  0.051822   17712.5   2.844772e-73   4.267158e-72\n",
       "2    ALS    II  0.033965   51723.0   1.788132e-26   2.682198e-25\n",
       "6   Bias    II  0.027021   53313.5   6.753006e-24   1.012951e-22\n",
       "10  IALS   Pop  0.025490  177960.5   3.036378e-03   4.554567e-02\n",
       "13    II    UU  0.024801   42514.5   1.180005e-30   1.770008e-29\n",
       "0    ALS  Bias  0.006944  105710.5   6.747767e-01   1.012165e+01\n",
       "3    ALS   Pop -0.128377   73730.0   1.338512e-58   2.007768e-57\n",
       "7   Bias   Pop -0.135322   71079.0   1.106341e-63   1.659511e-62\n",
       "1    ALS  IALS -0.153867   75789.0   4.172880e-64   6.259319e-63\n",
       "5   Bias  IALS -0.160811   74530.5   1.772845e-65   2.659268e-64\n",
       "12    II   Pop -0.162343   41734.0   1.386044e-93   2.079066e-92"
      ]
     },
     "execution_count": 25,
     "metadata": {},
     "output_type": "execute_result"
    }
   ],
   "source": [
    "am_wilcox('recip_rank').sort_values('diff', ascending=False)"
   ]
  },
  {
   "cell_type": "markdown",
   "id": "990181fe",
   "metadata": {
    "papermill": {
     "duration": 0.078127,
     "end_time": "2022-01-07T23:15:07.970532",
     "exception": false,
     "start_time": "2022-01-07T23:15:07.892405",
     "status": "completed"
    },
    "tags": []
   },
   "source": [
    "## Prediction RMSE\n",
    "\n",
    "We will also look at the prediction RMSE."
   ]
  },
  {
   "cell_type": "code",
   "execution_count": 26,
   "id": "7b8961b7",
   "metadata": {
    "execution": {
     "iopub.execute_input": "2022-01-07T23:15:08.111139Z",
     "iopub.status.busy": "2022-01-07T23:15:08.111139Z",
     "iopub.status.idle": "2022-01-07T23:15:12.313980Z",
     "shell.execute_reply": "2022-01-07T23:15:12.313980Z"
    },
    "papermill": {
     "duration": 4.296578,
     "end_time": "2022-01-07T23:15:12.313980",
     "exception": false,
     "start_time": "2022-01-07T23:15:08.017402",
     "status": "completed"
    },
    "tags": []
   },
   "outputs": [],
   "source": [
    "user_rmse = preds.groupby(['algorithm', 'user']).apply(lambda df: rmse(df['prediction'], df['rating']))\n",
    "user_rmse = user_rmse.reset_index(name='RMSE')"
   ]
  },
  {
   "cell_type": "code",
   "execution_count": 27,
   "id": "350a8ac0",
   "metadata": {
    "execution": {
     "iopub.execute_input": "2022-01-07T23:15:12.438972Z",
     "iopub.status.busy": "2022-01-07T23:15:12.438972Z",
     "iopub.status.idle": "2022-01-07T23:15:12.876435Z",
     "shell.execute_reply": "2022-01-07T23:15:12.876435Z"
    },
    "papermill": {
     "duration": 0.499985,
     "end_time": "2022-01-07T23:15:12.876435",
     "exception": false,
     "start_time": "2022-01-07T23:15:12.376450",
     "status": "completed"
    },
    "tags": []
   },
   "outputs": [
    {
     "data": {
      "text/plain": [
       "<seaborn.axisgrid.FacetGrid at 0x22fa008ed00>"
      ]
     },
     "execution_count": 27,
     "metadata": {},
     "output_type": "execute_result"
    },
    {
     "data": {
      "image/png": "[encoded data removed]",
      "text/plain": [
       "<Figure size 360x360 with 1 Axes>"
      ]
     },
     "metadata": {
      "needs_background": "light"
     },
     "output_type": "display_data"
    }
   ],
   "source": [
    "sns.catplot(x='algorithm', y='RMSE', data=user_rmse, kind='bar')"
   ]
  },
  {
   "cell_type": "code",
   "execution_count": null,
   "id": "a7b41bb3",
   "metadata": {
    "papermill": {
     "duration": 0.078144,
     "end_time": "2022-01-07T23:15:13.017056",
     "exception": false,
     "start_time": "2022-01-07T23:15:12.938912",
     "status": "completed"
    },
    "tags": []
   },
   "outputs": [],
   "source": []
  }
 ],
 "metadata": {
  "kernelspec": {
   "display_name": "Python 3",
   "language": "python",
   "name": "python3"
  },
  "language_info": {
   "codemirror_mode": {
    "name": "ipython",
    "version": 3
   },
   "file_extension": ".py",
   "mimetype": "text/x-python",
   "name": "python",
   "nbconvert_exporter": "python",
   "pygments_lexer": "ipython3",
   "version": "3.9.9"
  },
  "papermill": {
   "default_parameters": {},
   "duration": 19.701906,
   "end_time": "2022-01-07T23:15:13.485775",
   "environment_variables": {},
   "exception": null,
   "input_path": "eval-report.ipynb",
   "output_path": "eval-report.ml100k.ipynb",
   "parameters": {
    "dataset": "ml100k"
   },
   "start_time": "2022-01-07T23:14:53.783869",
   "version": "2.3.3"
  }
 },
 "nbformat": 4,
 "nbformat_minor": 5
}